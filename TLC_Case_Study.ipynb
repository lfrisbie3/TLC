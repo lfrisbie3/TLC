{
 "cells": [
  {
   "cell_type": "markdown",
   "metadata": {},
   "source": [
    "# Fullstory NYC Taxi Case Study\n",
    "\n",
    "Laura Evans September 2019"
   ]
  },
  {
   "cell_type": "markdown",
   "metadata": {},
   "source": [
    "Project Setup:\n",
    "    \n",
    "The objective of this case study is to maximize my income as a taxi driver if I had 10 hours each week to earn extra money. The dataset given was the NYC Taxi and Limousine Commission (TLC) trips by Yellow taxis for June 2017"
   ]
  },
  {
   "cell_type": "markdown",
   "metadata": {},
   "source": [
    "## Import libraries"
   ]
  },
  {
   "cell_type": "code",
   "execution_count": 1,
   "metadata": {},
   "outputs": [
    {
     "data": {
      "text/plain": [
       "0"
      ]
     },
     "execution_count": 1,
     "metadata": {},
     "output_type": "execute_result"
    }
   ],
   "source": [
    "import pandas as pd\n",
    "import datetime as dt\n",
    "import numpy as np\n",
    "import plotly.graph_objs as go#visualization\n",
    "import plotly.offline as py#visualization\n",
    "import matplotlib.pyplot as plt # plotting\n",
    "import seaborn as sns\n",
    "import gc\n",
    "from sklearn.model_selection import train_test_split\n",
    "gc.collect()"
   ]
  },
  {
   "cell_type": "markdown",
   "metadata": {},
   "source": [
    "## Import June 2017 Taxi Data"
   ]
  },
  {
   "cell_type": "code",
   "execution_count": 2,
   "metadata": {},
   "outputs": [
    {
     "data": {
      "text/html": [
       "<div>\n",
       "<style scoped>\n",
       "    .dataframe tbody tr th:only-of-type {\n",
       "        vertical-align: middle;\n",
       "    }\n",
       "\n",
       "    .dataframe tbody tr th {\n",
       "        vertical-align: top;\n",
       "    }\n",
       "\n",
       "    .dataframe thead th {\n",
       "        text-align: right;\n",
       "    }\n",
       "</style>\n",
       "<table border=\"1\" class=\"dataframe\">\n",
       "  <thead>\n",
       "    <tr style=\"text-align: right;\">\n",
       "      <th></th>\n",
       "      <th>VendorID</th>\n",
       "      <th>tpep_pickup_datetime</th>\n",
       "      <th>tpep_dropoff_datetime</th>\n",
       "      <th>passenger_count</th>\n",
       "      <th>trip_distance</th>\n",
       "      <th>RatecodeID</th>\n",
       "      <th>store_and_fwd_flag</th>\n",
       "      <th>PULocationID</th>\n",
       "      <th>DOLocationID</th>\n",
       "      <th>payment_type</th>\n",
       "      <th>fare_amount</th>\n",
       "      <th>extra</th>\n",
       "      <th>mta_tax</th>\n",
       "      <th>tip_amount</th>\n",
       "      <th>tolls_amount</th>\n",
       "      <th>improvement_surcharge</th>\n",
       "      <th>total_amount</th>\n",
       "    </tr>\n",
       "  </thead>\n",
       "  <tbody>\n",
       "    <tr>\n",
       "      <th>0</th>\n",
       "      <td>1</td>\n",
       "      <td>06/01/2017 12:00:00 AM</td>\n",
       "      <td>06/01/2017 12:03:43 AM</td>\n",
       "      <td>1</td>\n",
       "      <td>0.60</td>\n",
       "      <td>1</td>\n",
       "      <td>N</td>\n",
       "      <td>140</td>\n",
       "      <td>141</td>\n",
       "      <td>1</td>\n",
       "      <td>4.5</td>\n",
       "      <td>0.5</td>\n",
       "      <td>0.5</td>\n",
       "      <td>2.00</td>\n",
       "      <td>0.00</td>\n",
       "      <td>0.3</td>\n",
       "      <td>7.80</td>\n",
       "    </tr>\n",
       "    <tr>\n",
       "      <th>1</th>\n",
       "      <td>2</td>\n",
       "      <td>06/01/2017 12:00:00 AM</td>\n",
       "      <td>06/01/2017 12:00:00 AM</td>\n",
       "      <td>2</td>\n",
       "      <td>17.57</td>\n",
       "      <td>2</td>\n",
       "      <td>N</td>\n",
       "      <td>132</td>\n",
       "      <td>74</td>\n",
       "      <td>1</td>\n",
       "      <td>52.0</td>\n",
       "      <td>0.0</td>\n",
       "      <td>0.5</td>\n",
       "      <td>11.71</td>\n",
       "      <td>5.76</td>\n",
       "      <td>0.3</td>\n",
       "      <td>70.27</td>\n",
       "    </tr>\n",
       "    <tr>\n",
       "      <th>2</th>\n",
       "      <td>2</td>\n",
       "      <td>06/01/2017 12:00:00 AM</td>\n",
       "      <td>06/01/2017 12:00:00 AM</td>\n",
       "      <td>5</td>\n",
       "      <td>13.34</td>\n",
       "      <td>1</td>\n",
       "      <td>N</td>\n",
       "      <td>138</td>\n",
       "      <td>249</td>\n",
       "      <td>1</td>\n",
       "      <td>47.0</td>\n",
       "      <td>0.0</td>\n",
       "      <td>0.5</td>\n",
       "      <td>10.71</td>\n",
       "      <td>5.76</td>\n",
       "      <td>0.3</td>\n",
       "      <td>64.27</td>\n",
       "    </tr>\n",
       "    <tr>\n",
       "      <th>3</th>\n",
       "      <td>2</td>\n",
       "      <td>06/01/2017 12:00:00 AM</td>\n",
       "      <td>06/01/2017 12:00:00 AM</td>\n",
       "      <td>1</td>\n",
       "      <td>18.08</td>\n",
       "      <td>2</td>\n",
       "      <td>N</td>\n",
       "      <td>132</td>\n",
       "      <td>230</td>\n",
       "      <td>2</td>\n",
       "      <td>52.0</td>\n",
       "      <td>4.5</td>\n",
       "      <td>0.5</td>\n",
       "      <td>0.00</td>\n",
       "      <td>5.76</td>\n",
       "      <td>0.3</td>\n",
       "      <td>63.06</td>\n",
       "    </tr>\n",
       "    <tr>\n",
       "      <th>4</th>\n",
       "      <td>1</td>\n",
       "      <td>06/01/2017 12:00:01 AM</td>\n",
       "      <td>06/01/2017 12:01:43 AM</td>\n",
       "      <td>1</td>\n",
       "      <td>0.20</td>\n",
       "      <td>1</td>\n",
       "      <td>N</td>\n",
       "      <td>148</td>\n",
       "      <td>148</td>\n",
       "      <td>2</td>\n",
       "      <td>3.0</td>\n",
       "      <td>0.5</td>\n",
       "      <td>0.5</td>\n",
       "      <td>0.00</td>\n",
       "      <td>0.00</td>\n",
       "      <td>0.3</td>\n",
       "      <td>4.30</td>\n",
       "    </tr>\n",
       "  </tbody>\n",
       "</table>\n",
       "</div>"
      ],
      "text/plain": [
       "   VendorID    tpep_pickup_datetime   tpep_dropoff_datetime  passenger_count  \\\n",
       "0         1  06/01/2017 12:00:00 AM  06/01/2017 12:03:43 AM                1   \n",
       "1         2  06/01/2017 12:00:00 AM  06/01/2017 12:00:00 AM                2   \n",
       "2         2  06/01/2017 12:00:00 AM  06/01/2017 12:00:00 AM                5   \n",
       "3         2  06/01/2017 12:00:00 AM  06/01/2017 12:00:00 AM                1   \n",
       "4         1  06/01/2017 12:00:01 AM  06/01/2017 12:01:43 AM                1   \n",
       "\n",
       "   trip_distance  RatecodeID store_and_fwd_flag  PULocationID  DOLocationID  \\\n",
       "0           0.60           1                  N           140           141   \n",
       "1          17.57           2                  N           132            74   \n",
       "2          13.34           1                  N           138           249   \n",
       "3          18.08           2                  N           132           230   \n",
       "4           0.20           1                  N           148           148   \n",
       "\n",
       "   payment_type  fare_amount  extra  mta_tax  tip_amount  tolls_amount  \\\n",
       "0             1          4.5    0.5      0.5        2.00          0.00   \n",
       "1             1         52.0    0.0      0.5       11.71          5.76   \n",
       "2             1         47.0    0.0      0.5       10.71          5.76   \n",
       "3             2         52.0    4.5      0.5        0.00          5.76   \n",
       "4             2          3.0    0.5      0.5        0.00          0.00   \n",
       "\n",
       "   improvement_surcharge  total_amount  \n",
       "0                    0.3          7.80  \n",
       "1                    0.3         70.27  \n",
       "2                    0.3         64.27  \n",
       "3                    0.3         63.06  \n",
       "4                    0.3          4.30  "
      ]
     },
     "execution_count": 2,
     "metadata": {},
     "output_type": "execute_result"
    }
   ],
   "source": [
    "#load data\n",
    "#data=pd.read_csv(\"C:/Users/lfris/TLC/2017_Yellow_Taxi_Trip_Data_June.csv\")\n",
    "data=pd.read_csv(\"C:/TLC/2017_Yellow_Taxi_Trip_Data_June.csv\")\n",
    "\n",
    "#view data\n",
    "data.head()"
   ]
  },
  {
   "cell_type": "code",
   "execution_count": 3,
   "metadata": {},
   "outputs": [],
   "source": [
    "#convert pickup and dropoff times into date objects\n",
    "data['PU_time']=pd.to_datetime(data['tpep_pickup_datetime'], format='%m/%d/%Y %I:%M:%S %p')\n",
    "data['DO_time'] = pd.to_datetime(data['tpep_dropoff_datetime'], format='%m/%d/%Y %I:%M:%S %p')\n",
    "\n",
    "#extract month\n",
    "data['month']=data['PU_time'].dt.month\n",
    "#extract week day \n",
    "data[\"week_day\"] = data[\"PU_time\"].dt.weekday_name\n",
    "#extract day \n",
    "data[\"day\"] = data[\"PU_time\"].dt.day\n",
    "#extract hour\n",
    "data[\"hour\"]= data[\"PU_time\"].dt.hour\n",
    "#extract minute\n",
    "data[\"minute\"]=data[\"PU_time\"].dt.minute\n",
    "\n",
    "#calculate duration\n",
    "data['duration_min']=data['DO_time']-data['PU_time']\n",
    "data['duration_min'] = pd.to_numeric(data['duration_min'].dt.seconds/60.0, downcast='float')\n",
    "\n",
    "#drop tpep time objects\n",
    "data=data.drop(columns=['tpep_pickup_datetime','tpep_dropoff_datetime'])"
   ]
  },
  {
   "cell_type": "markdown",
   "metadata": {},
   "source": [
    "## Load Taxi Zone Lookup Table"
   ]
  },
  {
   "cell_type": "code",
   "execution_count": 4,
   "metadata": {},
   "outputs": [],
   "source": [
    "#load taxi lookup table\n",
    "#taxi_lookup=pd.read_csv(\"C:/Users/lfris/TLC/Taxi_Zone_lookup.csv\")\n",
    "taxi_lookup=pd.read_csv(\"C:/TLC/Taxi_Zone_lookup.csv\")\n",
    "\n",
    "#view results\n",
    "taxi_lookup.head()\n",
    "\n",
    "#impute missing Zones and service zones\n",
    "taxi_lookup['Zone'].fillna('unknown', inplace=True)\n",
    "taxi_lookup['service_zone'].fillna('unknown',inplace=True)\n"
   ]
  },
  {
   "cell_type": "markdown",
   "metadata": {},
   "source": [
    "## Merge June 2017 Taxi Data with Taxi Zone Lookup Table"
   ]
  },
  {
   "cell_type": "code",
   "execution_count": 5,
   "metadata": {},
   "outputs": [
    {
     "data": {
      "text/plain": [
       "(9657000, 29)"
      ]
     },
     "execution_count": 5,
     "metadata": {},
     "output_type": "execute_result"
    }
   ],
   "source": [
    "#merge the location ID of the taxi lookup with the taxi raw data\n",
    "data['PULocationID'].astype('int')\n",
    "data['DOLocationID'].astype('int')\n",
    "taxi_lookup['LocationID'].astype('int')\n",
    "\n",
    "#Use the lookup data to assign zones to the pickup and drop off locations\n",
    "taxi_lookup_PU=taxi_lookup\n",
    "taxi_lookup_PU=taxi_lookup_PU.rename(columns={'LocationID':'PULocationID','Borough':'Borough_PU','Zone':'Zone_PU','service_zone':'service_zone_PU'})\n",
    "\n",
    "taxi_lookup_DO=taxi_lookup\n",
    "taxi_lookup_DO=taxi_lookup_DO.rename(columns={'LocationID':'DOLocationID','Borough':'Borough_DO','Zone':'Zone_DO','service_zone':'service_zone_DO'})\n",
    "\n",
    "data_merged=pd.merge(data,taxi_lookup_PU,how='left',on=['PULocationID'])\n",
    "data_merged=pd.merge(data_merged,taxi_lookup_DO,how='left',on=['DOLocationID'])\n",
    "data_merged.shape"
   ]
  },
  {
   "cell_type": "code",
   "execution_count": 6,
   "metadata": {},
   "outputs": [],
   "source": [
    "#delete extraneous dataframes\n",
    "del taxi_lookup\n",
    "del taxi_lookup_DO\n",
    "del taxi_lookup_PU"
   ]
  },
  {
   "cell_type": "markdown",
   "metadata": {},
   "source": [
    "## Import and Merge Weather Data with Taxi Data\n",
    "Note: the weather data is based on a weather station in Central Park"
   ]
  },
  {
   "cell_type": "code",
   "execution_count": 7,
   "metadata": {},
   "outputs": [
    {
     "data": {
      "text/plain": [
       "(9657000, 32)"
      ]
     },
     "execution_count": 7,
     "metadata": {},
     "output_type": "execute_result"
    }
   ],
   "source": [
    "#read in weather data\n",
    "#weather=pd.read_csv('C:/Users/lfris/TLC/weather_summary.csv')\n",
    "weather=pd.read_csv('C:/TLC/weather_summary.csv')\n",
    "\n",
    "#merge with existing data\n",
    "data_merged=pd.merge(data_merged,weather,how='left',on=['month','day','hour'])\n",
    "data_merged.shape"
   ]
  },
  {
   "cell_type": "markdown",
   "metadata": {},
   "source": [
    "## Initial Data Check Using Summary Statistics "
   ]
  },
  {
   "cell_type": "code",
   "execution_count": 8,
   "metadata": {},
   "outputs": [
    {
     "data": {
      "application/vnd.plotly.v1+json": {
       "data": [
        {
         "cells": {
          "fill": {
           "color": [
            "lightgrey",
            "#F5F8FF"
           ]
          },
          "line": {
           "color": [
            "#506784"
           ]
          },
          "values": [
           [
            "VendorID",
            "passenger_count",
            "trip_distance",
            "RatecodeID",
            "PULocationID",
            "DOLocationID",
            "payment_type",
            "fare_amount",
            "extra",
            "mta_tax",
            "tip_amount",
            "tolls_amount",
            "improvement_surcharge",
            "total_amount",
            "month",
            "day",
            "hour",
            "minute",
            "duration_min",
            "tmpf",
            "relh",
            "precip_inch"
           ],
           [
            9657000,
            9657000,
            9657000,
            9657000,
            9657000,
            9657000,
            9657000,
            9657000,
            9657000,
            9657000,
            9657000,
            9657000,
            9657000,
            9657000,
            9657000,
            9657000,
            9657000,
            9657000,
            9657000,
            9657000,
            9657000,
            9657000
           ],
           [
            1.547,
            1.624,
            2.979,
            1.046,
            162.624,
            160.738,
            1.334,
            13.287,
            0.341,
            0.497,
            1.878,
            0.338,
            0.3,
            16.646,
            6,
            15.242,
            13.603,
            29.544,
            16.864,
            73.138,
            59.38,
            0.017
           ],
           [
            0.498,
            1.265,
            5.704,
            0.567,
            66.752,
            70.473,
            0.493,
            215.167,
            0.462,
            0.076,
            2.696,
            2.023,
            0.014,
            215.339,
            0.001,
            8.633,
            6.328,
            17.329,
            55.12,
            8.784,
            19.075,
            0.148
           ],
           [
            1,
            0,
            0,
            1,
            1,
            1,
            1,
            -550,
            -50.56,
            -0.5,
            -74,
            -12.5,
            -0.3,
            -550.3,
            6,
            1,
            0,
            0,
            0,
            52,
            22.06,
            0
           ],
           [
            1,
            1,
            1,
            1,
            114,
            107,
            1,
            6.5,
            0,
            0.5,
            0,
            0,
            0.3,
            8.75,
            6,
            8,
            9,
            14,
            6.683,
            66.9,
            42.49,
            0
           ],
           [
            2,
            1,
            1.67,
            1,
            162,
            162,
            1,
            9.5,
            0,
            0.5,
            1.36,
            0,
            0.3,
            11.85,
            6,
            15,
            14,
            30,
            11.283,
            73.9,
            56.3,
            0
           ],
           [
            2,
            2,
            3.1,
            1,
            233,
            233,
            2,
            15,
            0.5,
            0.5,
            2.46,
            0,
            0.3,
            18.17,
            6,
            23,
            19,
            45,
            18.667,
            80.1,
            75.74,
            0
           ],
           [
            2,
            9,
            9496.98,
            99,
            265,
            265,
            5,
            630461.82,
            22.5,
            140,
            444,
            990,
            1,
            630463.12,
            7,
            30,
            23,
            59,
            1439.95,
            93.9,
            97.728,
            2.2
           ]
          ]
         },
         "columnwidth": [
          140,
          80,
          80,
          80,
          80,
          80,
          80,
          80,
          80
         ],
         "header": {
          "fill": {
           "color": [
            "#119DFF"
           ]
          },
          "line": {
           "color": [
            "#506784"
           ]
          },
          "values": [
           "variable",
           "count",
           "mean",
           "std",
           "min",
           "25%",
           "50%",
           "75%",
           "max"
          ]
         },
         "type": "table"
        }
       ],
       "layout": {
        "title": "Variable Summary"
       }
      }
     },
     "metadata": {},
     "output_type": "display_data"
    }
   ],
   "source": [
    "#create summary stats of attributes\n",
    "\n",
    "summary = data_merged.describe().transpose().reset_index().rename(columns = {\"index\" : \n",
    "                                                                          \"variable\"})\n",
    "summary  = np.around(summary,3)\n",
    "\n",
    "var_lst = [summary[\"variable\"],summary[\"count\"],summary['mean'],summary['std'],\n",
    "           summary[\"min\"],summary[\"25%\"],summary[\"50%\"],summary[\"75%\"],summary[\"max\"]]\n",
    "\n",
    "table = go.Table(header = dict(values = summary.columns.tolist(),\n",
    "                               line = dict(color = ['#506784']),\n",
    "                               fill = dict(color = ['#119DFF']),\n",
    "                              ),\n",
    "                 cells  = dict(values = var_lst,\n",
    "                               line = dict(color = ['#506784']),\n",
    "                               fill = dict(color = [\"lightgrey\",'#F5F8FF']),\n",
    "                              ),\n",
    "                 columnwidth = [140,80,80,80,80,80,80,80,80])\n",
    "                \n",
    "layout = go.Layout(dict(title = \"Variable Summary\"))\n",
    "figure = go.Figure(data=[table],layout=layout)\n",
    "py.iplot(figure)\n"
   ]
  },
  {
   "cell_type": "code",
   "execution_count": 9,
   "metadata": {},
   "outputs": [
    {
     "name": "stdout",
     "output_type": "stream",
     "text": [
      "Number of Null Values by Variable\n",
      "VendorID                 0\n",
      "passenger_count          0\n",
      "trip_distance            0\n",
      "RatecodeID               0\n",
      "store_and_fwd_flag       0\n",
      "PULocationID             0\n",
      "DOLocationID             0\n",
      "payment_type             0\n",
      "fare_amount              0\n",
      "extra                    0\n",
      "mta_tax                  0\n",
      "tip_amount               0\n",
      "tolls_amount             0\n",
      "improvement_surcharge    0\n",
      "total_amount             0\n",
      "PU_time                  0\n",
      "DO_time                  0\n",
      "month                    0\n",
      "week_day                 0\n",
      "day                      0\n",
      "hour                     0\n",
      "minute                   0\n",
      "duration_min             0\n",
      "Borough_PU               0\n",
      "Zone_PU                  0\n",
      "service_zone_PU          0\n",
      "Borough_DO               0\n",
      "Zone_DO                  0\n",
      "service_zone_DO          0\n",
      "tmpf                     0\n",
      "relh                     0\n",
      "precip_inch              0\n",
      "dtype: int64\n"
     ]
    }
   ],
   "source": [
    "#check for null values\n",
    "#there are no null/missing values in the dataset - no imputation needed \n",
    "print(\"Number of Null Values by Variable\")\n",
    "print(data_merged.isnull().sum())"
   ]
  },
  {
   "cell_type": "markdown",
   "metadata": {},
   "source": [
    "Observations:\n",
    "   * There are no null/missing values for the attributes\n",
    "   * Negative values for fare, extra, mta, tip, toll, and improvement surcharge amounts are invalid\n",
    "   * The rate code of 99 is an invalid value\n",
    "   * A passenger count of 0 does not seem valid. The only explanation would be for taxis being hired to transport packages\n",
    "   * Most cars and SUVs can only hold six people. Passenger counts of 7,8,and 9 may be invalid. Furthermore, these passenger counts would require a special car, which I do not assume that I will have. I will investigate the passenger count distributions"
   ]
  },
  {
   "cell_type": "code",
   "execution_count": 10,
   "metadata": {},
   "outputs": [
    {
     "name": "stdout",
     "output_type": "stream",
     "text": [
      "Records with negative fare amounts: 4712\n",
      "Records with negative extra amounts: 2347\n",
      "Records with negative mta amounts: 4576\n",
      "Records with negative tip amounts: 68\n",
      "Records with negative toll amounts: 22\n",
      "Records with negative improvement surcharge amounts: 4708\n",
      "Records with rate code of 99: 231\n"
     ]
    }
   ],
   "source": [
    "print('Records with negative fare amounts: {}'.format(data_merged.query(\"fare_amount <0\").shape[0]))\n",
    "print('Records with negative extra amounts: {}'.format(data_merged.query(\"extra <0\").shape[0]))\n",
    "print('Records with negative mta amounts: {}'.format(data_merged.query(\"mta_tax <0\").shape[0]))\n",
    "print('Records with negative tip amounts: {}'.format(data_merged.query(\"tip_amount <0\").shape[0]))\n",
    "print('Records with negative toll amounts: {}'.format(data_merged.query(\"tolls_amount <0\").shape[0]))\n",
    "print('Records with negative improvement surcharge amounts: {}'.format(data_merged.query(\"improvement_surcharge <0\").shape[0]))\n",
    "print('Records with rate code of 99: {}'.format(data_merged.query(\"RatecodeID==99\").shape[0]))"
   ]
  },
  {
   "cell_type": "code",
   "execution_count": 11,
   "metadata": {},
   "outputs": [
    {
     "data": {
      "text/html": [
       "<div>\n",
       "<style scoped>\n",
       "    .dataframe tbody tr th:only-of-type {\n",
       "        vertical-align: middle;\n",
       "    }\n",
       "\n",
       "    .dataframe tbody tr th {\n",
       "        vertical-align: top;\n",
       "    }\n",
       "\n",
       "    .dataframe thead th {\n",
       "        text-align: right;\n",
       "    }\n",
       "</style>\n",
       "<table border=\"1\" class=\"dataframe\">\n",
       "  <thead>\n",
       "    <tr style=\"text-align: right;\">\n",
       "      <th></th>\n",
       "      <th>passengers</th>\n",
       "      <th>total_count</th>\n",
       "    </tr>\n",
       "  </thead>\n",
       "  <tbody>\n",
       "    <tr>\n",
       "      <th>0</th>\n",
       "      <td>0</td>\n",
       "      <td>548</td>\n",
       "    </tr>\n",
       "    <tr>\n",
       "      <th>1</th>\n",
       "      <td>1</td>\n",
       "      <td>6933192</td>\n",
       "    </tr>\n",
       "    <tr>\n",
       "      <th>2</th>\n",
       "      <td>2</td>\n",
       "      <td>1385067</td>\n",
       "    </tr>\n",
       "    <tr>\n",
       "      <th>3</th>\n",
       "      <td>3</td>\n",
       "      <td>406164</td>\n",
       "    </tr>\n",
       "    <tr>\n",
       "      <th>4</th>\n",
       "      <td>4</td>\n",
       "      <td>187979</td>\n",
       "    </tr>\n",
       "    <tr>\n",
       "      <th>5</th>\n",
       "      <td>5</td>\n",
       "      <td>455754</td>\n",
       "    </tr>\n",
       "    <tr>\n",
       "      <th>6</th>\n",
       "      <td>6</td>\n",
       "      <td>288220</td>\n",
       "    </tr>\n",
       "    <tr>\n",
       "      <th>7</th>\n",
       "      <td>7</td>\n",
       "      <td>26</td>\n",
       "    </tr>\n",
       "    <tr>\n",
       "      <th>8</th>\n",
       "      <td>8</td>\n",
       "      <td>30</td>\n",
       "    </tr>\n",
       "    <tr>\n",
       "      <th>9</th>\n",
       "      <td>9</td>\n",
       "      <td>20</td>\n",
       "    </tr>\n",
       "  </tbody>\n",
       "</table>\n",
       "</div>"
      ],
      "text/plain": [
       "   passengers  total_count\n",
       "0           0          548\n",
       "1           1      6933192\n",
       "2           2      1385067\n",
       "3           3       406164\n",
       "4           4       187979\n",
       "5           5       455754\n",
       "6           6       288220\n",
       "7           7           26\n",
       "8           8           30\n",
       "9           9           20"
      ]
     },
     "execution_count": 11,
     "metadata": {},
     "output_type": "execute_result"
    }
   ],
   "source": [
    "#review passenger counts\n",
    "#There is a significant decline in trip counts after 6 passengers\n",
    "#Special cars may need to be ordered for 7 plus passengers\n",
    "df=data_merged.groupby(['passenger_count'])['passenger_count'].count()\n",
    "df=df.rename_axis('passengers').reset_index()\n",
    "df=df.rename(columns={'passenger_count':'total_count'})\n",
    "df"
   ]
  },
  {
   "cell_type": "code",
   "execution_count": 12,
   "metadata": {},
   "outputs": [
    {
     "data": {
      "text/html": [
       "<div>\n",
       "<style scoped>\n",
       "    .dataframe tbody tr th:only-of-type {\n",
       "        vertical-align: middle;\n",
       "    }\n",
       "\n",
       "    .dataframe tbody tr th {\n",
       "        vertical-align: top;\n",
       "    }\n",
       "\n",
       "    .dataframe thead th {\n",
       "        text-align: right;\n",
       "    }\n",
       "</style>\n",
       "<table border=\"1\" class=\"dataframe\">\n",
       "  <thead>\n",
       "    <tr style=\"text-align: right;\">\n",
       "      <th></th>\n",
       "      <th>passengers</th>\n",
       "      <th>median_duration</th>\n",
       "    </tr>\n",
       "  </thead>\n",
       "  <tbody>\n",
       "    <tr>\n",
       "      <th>0</th>\n",
       "      <td>0</td>\n",
       "      <td>0.066667</td>\n",
       "    </tr>\n",
       "    <tr>\n",
       "      <th>1</th>\n",
       "      <td>1</td>\n",
       "      <td>11.133333</td>\n",
       "    </tr>\n",
       "    <tr>\n",
       "      <th>2</th>\n",
       "      <td>2</td>\n",
       "      <td>11.716666</td>\n",
       "    </tr>\n",
       "    <tr>\n",
       "      <th>3</th>\n",
       "      <td>3</td>\n",
       "      <td>11.716666</td>\n",
       "    </tr>\n",
       "    <tr>\n",
       "      <th>4</th>\n",
       "      <td>4</td>\n",
       "      <td>11.950000</td>\n",
       "    </tr>\n",
       "    <tr>\n",
       "      <th>5</th>\n",
       "      <td>5</td>\n",
       "      <td>11.366667</td>\n",
       "    </tr>\n",
       "    <tr>\n",
       "      <th>6</th>\n",
       "      <td>6</td>\n",
       "      <td>11.333333</td>\n",
       "    </tr>\n",
       "    <tr>\n",
       "      <th>7</th>\n",
       "      <td>7</td>\n",
       "      <td>0.691667</td>\n",
       "    </tr>\n",
       "    <tr>\n",
       "      <th>8</th>\n",
       "      <td>8</td>\n",
       "      <td>0.608333</td>\n",
       "    </tr>\n",
       "    <tr>\n",
       "      <th>9</th>\n",
       "      <td>9</td>\n",
       "      <td>0.166667</td>\n",
       "    </tr>\n",
       "  </tbody>\n",
       "</table>\n",
       "</div>"
      ],
      "text/plain": [
       "   passengers  median_duration\n",
       "0           0         0.066667\n",
       "1           1        11.133333\n",
       "2           2        11.716666\n",
       "3           3        11.716666\n",
       "4           4        11.950000\n",
       "5           5        11.366667\n",
       "6           6        11.333333\n",
       "7           7         0.691667\n",
       "8           8         0.608333\n",
       "9           9         0.166667"
      ]
     },
     "execution_count": 12,
     "metadata": {},
     "output_type": "execute_result"
    }
   ],
   "source": [
    "#review median duration by passenger count\n",
    "#my hypothesis is that 0 passengers could be a scenario when a taxi is hired for transportation of packages\n",
    "#the low median trip duration for zero passengers suggests that zero passenger trips are mostly invalid cancelled trips\n",
    "df=data_merged.groupby(['passenger_count'])['duration_min'].median()\n",
    "df=df.rename_axis('passengers').reset_index()\n",
    "df=df.rename(columns={'duration_min':'median_duration'})\n",
    "df"
   ]
  },
  {
   "cell_type": "markdown",
   "metadata": {},
   "source": [
    "Observations about passenger count:\n",
    "   * There is a significant decline in trip counts after the passenger count of 6. This reflects the need of a speciality car, not a taxi, for large groups\n",
    "   * My hypothesis was that zero passenger trips were taxis hired for transportation of packages. However, the low median trip duration for zero passenger trips suggests mostly invalid cancelled trips\n",
    "   * I will filter out trips with a passenger count of 0 or a passenger count greater than 6"
   ]
  },
  {
   "cell_type": "code",
   "execution_count": 13,
   "metadata": {},
   "outputs": [
    {
     "name": "stdout",
     "output_type": "stream",
     "text": [
      "Records removed:5375, percentage of total (%):0.05565910738324531\n"
     ]
    }
   ],
   "source": [
    "#filter data for invalid values, including negative values for amounts\n",
    "#filter out passenger count of 0 or passenger count above 6\n",
    "\n",
    "#record number of rows before filtering data\n",
    "init_row=data_merged.shape[0]\n",
    "\n",
    "#trip distance must be positive\n",
    "data_merged=data_merged.query('trip_distance>=0')\n",
    "\n",
    "#passenger count between 1 and 6\n",
    "data_merged=data_merged.query('passenger_count>0 and passenger_count<7')\n",
    "\n",
    "#location ids must be between 1 and 265\n",
    "data_merged=data_merged.query('PULocationID>0 and PULocationID<266 and DOLocationID>0 and DOLocationID<266')\n",
    "\n",
    "#rate code between 1 and 6, payment type between 1 and 6\n",
    "data_merged=data_merged.query('RatecodeID>0 and RatecodeID<7 and payment_type>0 and payment_type<7')\n",
    "\n",
    "#amounts must be non-negative\n",
    "data_merged=data_merged.query('fare_amount>=0 and extra>=0 and mta_tax>=0 and tip_amount>=0 and tolls_amount>=0 and improvement_surcharge>=0')\n",
    "\n",
    "#hours must be between 0 and 23 - this indicates that the pickup times are correct\n",
    "data_merged=data_merged.query('hour>=0 and hour<=23')\n",
    "\n",
    "#duration must be positive\n",
    "data_merged=data_merged.query('duration_min>=0')\n",
    "\n",
    "filtered_row=data_merged.shape[0]\n",
    "\n",
    "records_removed=init_row-filtered_row\n",
    "print(\"Records removed:{}, percentage of total (%):{}\".format(records_removed, (records_removed/init_row)*100))"
   ]
  },
  {
   "cell_type": "markdown",
   "metadata": {},
   "source": [
    "## Summary Statistics After Invalid Records are Removed\n",
    "Note: 0.056% of records were invalid values"
   ]
  },
  {
   "cell_type": "code",
   "execution_count": 14,
   "metadata": {},
   "outputs": [
    {
     "data": {
      "application/vnd.plotly.v1+json": {
       "data": [
        {
         "cells": {
          "fill": {
           "color": [
            "lightgrey",
            "#F5F8FF"
           ]
          },
          "line": {
           "color": [
            "#506784"
           ]
          },
          "values": [
           [
            "VendorID",
            "passenger_count",
            "trip_distance",
            "RatecodeID",
            "PULocationID",
            "DOLocationID",
            "payment_type",
            "fare_amount",
            "extra",
            "mta_tax",
            "tip_amount",
            "tolls_amount",
            "improvement_surcharge",
            "total_amount",
            "month",
            "day",
            "hour",
            "minute",
            "duration_min",
            "tmpf",
            "relh",
            "precip_inch"
           ],
           [
            9651625,
            9651625,
            9651625,
            9651625,
            9651625,
            9651625,
            9651625,
            9651625,
            9651625,
            9651625,
            9651625,
            9651625,
            9651625,
            9651625,
            9651625,
            9651625,
            9651625,
            9651625,
            9651625,
            9651625,
            9651625,
            9651625
           ],
           [
            1.547,
            1.624,
            2.98,
            1.043,
            162.621,
            160.736,
            1.333,
            13.296,
            0.342,
            0.498,
            1.879,
            0.338,
            0.3,
            16.657,
            6,
            15.243,
            13.604,
            29.544,
            16.87,
            73.138,
            59.38,
            0.017
           ],
           [
            0.498,
            1.264,
            5.705,
            0.301,
            66.748,
            70.472,
            0.491,
            215.208,
            0.461,
            0.039,
            2.696,
            2.023,
            0.006,
            215.379,
            0.001,
            8.633,
            6.328,
            17.329,
            55.117,
            8.784,
            19.075,
            0.148
           ],
           [
            1,
            1,
            0,
            1,
            1,
            1,
            1,
            0,
            0,
            0,
            0,
            0,
            0,
            0,
            6,
            1,
            0,
            0,
            0,
            52,
            22.06,
            0
           ],
           [
            1,
            1,
            1,
            1,
            114,
            107,
            1,
            6.5,
            0,
            0.5,
            0,
            0,
            0.3,
            8.75,
            6,
            8,
            9,
            14,
            6.7,
            66.9,
            42.49,
            0
           ],
           [
            2,
            1,
            1.67,
            1,
            162,
            162,
            1,
            9.5,
            0,
            0.5,
            1.36,
            0,
            0.3,
            11.88,
            6,
            15,
            14,
            30,
            11.283,
            73.9,
            56.3,
            0
           ],
           [
            2,
            2,
            3.1,
            1,
            233,
            233,
            2,
            15,
            0.5,
            0.5,
            2.46,
            0,
            0.3,
            18.3,
            6,
            23,
            19,
            45,
            18.667,
            80.1,
            75.74,
            0
           ],
           [
            2,
            6,
            9496.98,
            6,
            265,
            265,
            5,
            630461.82,
            22.5,
            53.8,
            444,
            990,
            1,
            630463.12,
            7,
            30,
            23,
            59,
            1439.95,
            93.9,
            97.728,
            2.2
           ]
          ]
         },
         "columnwidth": [
          140,
          80,
          80,
          80,
          80,
          80,
          80,
          80,
          80
         ],
         "header": {
          "fill": {
           "color": [
            "#119DFF"
           ]
          },
          "line": {
           "color": [
            "#506784"
           ]
          },
          "values": [
           "variable",
           "count",
           "mean",
           "std",
           "min",
           "25%",
           "50%",
           "75%",
           "max"
          ]
         },
         "type": "table"
        }
       ],
       "layout": {
        "title": "Variable Summary After Initial Filtering"
       }
      }
     },
     "metadata": {},
     "output_type": "display_data"
    }
   ],
   "source": [
    "#rerun summary to review result of dropping the erroneous records\n",
    "summary = data_merged.describe().transpose().reset_index().rename(columns = {\"index\" : \n",
    "                                                                          \"variable\"})\n",
    "summary  = np.around(summary,3)\n",
    "\n",
    "var_lst = [summary[\"variable\"],summary[\"count\"],summary['mean'],summary['std'],\n",
    "           summary[\"min\"],summary[\"25%\"],summary[\"50%\"],summary[\"75%\"],summary[\"max\"]]\n",
    "\n",
    "table = go.Table(header = dict(values = summary.columns.tolist(),\n",
    "                               line = dict(color = ['#506784']),\n",
    "                               fill = dict(color = ['#119DFF']),\n",
    "                              ),\n",
    "                 cells  = dict(values = var_lst,\n",
    "                               line = dict(color = ['#506784']),\n",
    "                               fill = dict(color = [\"lightgrey\",'#F5F8FF']),\n",
    "                              ),\n",
    "                 columnwidth = [140,80,80,80,80,80,80,80,80])\n",
    "                \n",
    "layout = go.Layout(dict(title = \"Variable Summary After Initial Filtering\"))\n",
    "figure = go.Figure(data=[table],layout=layout)\n",
    "py.iplot(figure)"
   ]
  },
  {
   "cell_type": "markdown",
   "metadata": {},
   "source": [
    "## Review Distributions for Outliers and Edge Cases"
   ]
  },
  {
   "cell_type": "markdown",
   "metadata": {},
   "source": [
    "Initial edge cases include:\n",
    "   * zero or small trip distance, high trip distance \n",
    "   * zero or low fare amount, high fare amount\n",
    "   * zero or low trip duration, high duration\n"
   ]
  },
  {
   "cell_type": "code",
   "execution_count": 15,
   "metadata": {},
   "outputs": [
    {
     "name": "stdout",
     "output_type": "stream",
     "text": [
      "Quantiles for Fare Amount\n"
     ]
    },
    {
     "data": {
      "text/plain": [
       "0.001         2.50\n",
       "0.005         3.00\n",
       "0.010         3.50\n",
       "0.050         4.50\n",
       "0.100         5.00\n",
       "0.250         6.50\n",
       "0.500         9.50\n",
       "0.750        15.00\n",
       "0.900        26.00\n",
       "0.950        37.50\n",
       "0.975        52.00\n",
       "0.990        52.00\n",
       "0.995        60.00\n",
       "0.999        93.50\n",
       "1.000    630461.82\n",
       "Name: fare_amount, dtype: float64"
      ]
     },
     "execution_count": 15,
     "metadata": {},
     "output_type": "execute_result"
    }
   ],
   "source": [
    "#look at distribution of fare amount for capping or removal\n",
    "print(\"Quantiles for Fare Amount\")\n",
    "data_merged['fare_amount'].quantile([.001,0.005,0.01,0.05,0.10,0.25,0.5,0.75,0.90,0.95,0.975,0.99,0.995,0.999,1])"
   ]
  },
  {
   "cell_type": "code",
   "execution_count": 16,
   "metadata": {},
   "outputs": [
    {
     "name": "stdout",
     "output_type": "stream",
     "text": [
      "Quantiles for Duration (in minutes)\n"
     ]
    },
    {
     "data": {
      "text/plain": [
       "0.001       0.03\n",
       "0.005       0.35\n",
       "0.010       1.18\n",
       "0.050       2.98\n",
       "0.100       4.08\n",
       "0.250       6.70\n",
       "0.500      11.28\n",
       "0.750      18.67\n",
       "0.900      29.50\n",
       "0.950      39.65\n",
       "0.975      51.33\n",
       "0.990      66.45\n",
       "0.995      78.13\n",
       "0.999    1419.34\n",
       "1.000    1439.95\n",
       "Name: duration_min, dtype: float64"
      ]
     },
     "execution_count": 16,
     "metadata": {},
     "output_type": "execute_result"
    }
   ],
   "source": [
    "#look at distribution of duration for capping or removal\n",
    "print(\"Quantiles for Duration (in minutes)\")\n",
    "np.around(data_merged['duration_min'].quantile([.001,0.005,0.01,0.05,0.10,0.25,0.5,0.75,0.90,0.95,0.975,0.99,0.995,0.999,1]),2)"
   ]
  },
  {
   "cell_type": "code",
   "execution_count": 17,
   "metadata": {},
   "outputs": [
    {
     "name": "stdout",
     "output_type": "stream",
     "text": [
      "Quantiles for Trip Distance (in miles)\n"
     ]
    },
    {
     "data": {
      "text/plain": [
       "0.001       0.00\n",
       "0.005       0.00\n",
       "0.010       0.17\n",
       "0.050       0.50\n",
       "0.100       0.62\n",
       "0.250       1.00\n",
       "0.500       1.67\n",
       "0.750       3.10\n",
       "0.900       6.94\n",
       "0.950      10.90\n",
       "0.975      16.40\n",
       "0.990      19.00\n",
       "0.995      20.60\n",
       "0.999      25.94\n",
       "1.000    9496.98\n",
       "Name: trip_distance, dtype: float64"
      ]
     },
     "execution_count": 17,
     "metadata": {},
     "output_type": "execute_result"
    }
   ],
   "source": [
    "#look at distribution of distance for capping or removal\n",
    "print(\"Quantiles for Trip Distance (in miles)\")\n",
    "np.around(data_merged['trip_distance'].quantile([.001,0.005,0.01,0.05,0.10,0.25,0.5,0.75,0.90,0.95,0.975,0.99,0.995,0.999,1]),2)"
   ]
  },
  {
   "cell_type": "markdown",
   "metadata": {},
   "source": [
    "Observations on fare, duration, and distance:\n",
    "\n",
    "* Taxis charge a \\\\$2.50 fee just for starting a trip. This fee is \\\\$3 during rush hour\n",
    "* Fares of \\\\$2.50 and \\\\$3 are most likely cancelled trips and should be excluded\n",
    "* LGA and JFK have \\\\$52 flat fees to travel to Manhattan\n",
    "* NWR fare ranges in price from \\\\$50-\\\\$75 to travel to Manhattan\n",
    "* NWR to JFK is an \\\\$87 fare\n",
    "\n",
    "\n",
    "* Trips under a minute do not seem feasible. \n",
    "* The longest trip is approximately 24 hours, but I am only driving 10 hours. I will exclude all trips over 66 minutes (99th percentile)\n",
    "\n",
    "\n",
    "* A trip distance of 0 could indicate a GPS error, a cancelled trip, an error in recording the pickup and drop off locations, or a fare during which the taxi waited on a passenger for some reason. I will investigate the zero distance trips below. \n",
    "* The median trip distance is 1.67 miles. The 99th percentile is 19 miles. It is 25 miles from Yonkers, the northern section of the NYC area map to JFK, which is one of the most eastern points. It is 47 miles from Tottenville, one of the most southern neighborhoods in the TLC zones to Yonkers. I will cap the trip distance at 50 miles. I feel that 19 miles is too short of a trip to capture all of the possible reasonable trips. \n",
    "\n",
    "\n",
    "\n",
    "\n",
    "\n",
    "\n",
    "\n"
   ]
  },
  {
   "cell_type": "code",
   "execution_count": 18,
   "metadata": {},
   "outputs": [],
   "source": [
    "#add a column to designate the airport records\n",
    "mask_0 = ((data_merged.PULocationID == 1)|(data_merged.DOLocationID==1))\n",
    "mask_1 = ((data_merged.PULocationID == 132)|(data_merged.DOLocationID==132))\n",
    "mask_2 = ((data_merged.PULocationID == 138)|(data_merged.DOLocationID==138))\n",
    "data_merged.loc[mask_0, 'Airport_Ind'] = 'EWR'\n",
    "data_merged.loc[mask_1, 'Airport_Ind'] = 'JFK'\n",
    "data_merged.loc[mask_2, 'Airport_Ind'] = 'LGA'\n",
    "data_merged['Airport_Ind'].fillna('None',inplace=True)\n"
   ]
  },
  {
   "cell_type": "markdown",
   "metadata": {},
   "source": [
    "As seen above, the 99th percentile for fare amount is approximately $66. However, a fare from Newark to Manhattan or JFK can exceed this threshold. I want to examine the fares of the airport trips to see what would be an appropriate cap to apply on the fare amount so that the airport trips are not accidentally filtered out of the dataset when outliers are removed."
   ]
  },
  {
   "cell_type": "markdown",
   "metadata": {},
   "source": [
    "#### High Fare Amounts"
   ]
  },
  {
   "cell_type": "code",
   "execution_count": 19,
   "metadata": {},
   "outputs": [
    {
     "data": {
      "image/png": "[encoded data removed]",
      "text/plain": [
       "<matplotlib.figure.Figure at 0x262ef282080>"
      ]
     },
     "metadata": {},
     "output_type": "display_data"
    }
   ],
   "source": [
    "#filter out trips above $200 just so that I can see the boxplots easily\n",
    "data_filtered=data_merged.query('fare_amount<200')\n",
    "fig, ax = plt.subplots(figsize=(10,8))\n",
    "data_filtered.boxplot(column=['fare_amount'], by='Airport_Ind', ax=ax)\n",
    "del(data_filtered)"
   ]
  },
  {
   "cell_type": "code",
   "execution_count": 20,
   "metadata": {},
   "outputs": [
    {
     "data": {
      "text/html": [
       "<div>\n",
       "<style scoped>\n",
       "    .dataframe tbody tr th:only-of-type {\n",
       "        vertical-align: middle;\n",
       "    }\n",
       "\n",
       "    .dataframe tbody tr th {\n",
       "        vertical-align: top;\n",
       "    }\n",
       "\n",
       "    .dataframe thead th {\n",
       "        text-align: right;\n",
       "    }\n",
       "</style>\n",
       "<table border=\"1\" class=\"dataframe\">\n",
       "  <thead>\n",
       "    <tr style=\"text-align: right;\">\n",
       "      <th></th>\n",
       "      <th>count</th>\n",
       "      <th>mean</th>\n",
       "      <th>std</th>\n",
       "      <th>min</th>\n",
       "      <th>25%</th>\n",
       "      <th>50%</th>\n",
       "      <th>75%</th>\n",
       "      <th>max</th>\n",
       "    </tr>\n",
       "    <tr>\n",
       "      <th>Airport_Ind</th>\n",
       "      <th></th>\n",
       "      <th></th>\n",
       "      <th></th>\n",
       "      <th></th>\n",
       "      <th></th>\n",
       "      <th></th>\n",
       "      <th></th>\n",
       "      <th></th>\n",
       "    </tr>\n",
       "  </thead>\n",
       "  <tbody>\n",
       "    <tr>\n",
       "      <th>EWR</th>\n",
       "      <td>19292.0</td>\n",
       "      <td>71.0</td>\n",
       "      <td>14.0</td>\n",
       "      <td>0.0</td>\n",
       "      <td>64.0</td>\n",
       "      <td>70.0</td>\n",
       "      <td>76.0</td>\n",
       "      <td>285.0</td>\n",
       "    </tr>\n",
       "    <tr>\n",
       "      <th>JFK</th>\n",
       "      <td>305435.0</td>\n",
       "      <td>48.0</td>\n",
       "      <td>15.0</td>\n",
       "      <td>0.0</td>\n",
       "      <td>48.0</td>\n",
       "      <td>52.0</td>\n",
       "      <td>52.0</td>\n",
       "      <td>600.0</td>\n",
       "    </tr>\n",
       "    <tr>\n",
       "      <th>LGA</th>\n",
       "      <td>385880.0</td>\n",
       "      <td>34.0</td>\n",
       "      <td>11.0</td>\n",
       "      <td>0.0</td>\n",
       "      <td>28.0</td>\n",
       "      <td>34.0</td>\n",
       "      <td>38.0</td>\n",
       "      <td>410.0</td>\n",
       "    </tr>\n",
       "    <tr>\n",
       "      <th>None</th>\n",
       "      <td>8941018.0</td>\n",
       "      <td>11.0</td>\n",
       "      <td>223.0</td>\n",
       "      <td>0.0</td>\n",
       "      <td>6.0</td>\n",
       "      <td>9.0</td>\n",
       "      <td>13.0</td>\n",
       "      <td>630462.0</td>\n",
       "    </tr>\n",
       "  </tbody>\n",
       "</table>\n",
       "</div>"
      ],
      "text/plain": [
       "                 count  mean    std  min   25%   50%   75%       max\n",
       "Airport_Ind                                                         \n",
       "EWR            19292.0  71.0   14.0  0.0  64.0  70.0  76.0     285.0\n",
       "JFK           305435.0  48.0   15.0  0.0  48.0  52.0  52.0     600.0\n",
       "LGA           385880.0  34.0   11.0  0.0  28.0  34.0  38.0     410.0\n",
       "None         8941018.0  11.0  223.0  0.0   6.0   9.0  13.0  630462.0"
      ]
     },
     "execution_count": 20,
     "metadata": {},
     "output_type": "execute_result"
    }
   ],
   "source": [
    "np.around(data_merged.groupby(['Airport_Ind'])['fare_amount'].describe(),0)"
   ]
  },
  {
   "cell_type": "markdown",
   "metadata": {},
   "source": [
    "Observations:\n",
    "   * The airport trips generate a higher mean fare amount than trips not including pickup and dropoffs at the airports\n",
    "   * Newark has the highest interquartile range for fare amount, but it appears to be less skewed than the other airport distributions. This could be due to the fact that Newark has more predetermined fares than the other two airports, which use a meter more frequently\n",
    "    "
   ]
  },
  {
   "cell_type": "markdown",
   "metadata": {},
   "source": [
    "Next I will explore trips with small durations (less than a minute) and high durations (more than an hour):"
   ]
  },
  {
   "cell_type": "markdown",
   "metadata": {},
   "source": [
    "#### Trips with Duration Less Than One Minute"
   ]
  },
  {
   "cell_type": "code",
   "execution_count": 21,
   "metadata": {},
   "outputs": [
    {
     "name": "stdout",
     "output_type": "stream",
     "text": [
      "There are 82396 trip records with a duration less than 1 minute\n"
     ]
    }
   ],
   "source": [
    "print(\"There are {} trip records with a duration less than 1 minute\".format(data_merged.query('duration_min<1').shape[0]))"
   ]
  },
  {
   "cell_type": "code",
   "execution_count": 22,
   "metadata": {},
   "outputs": [
    {
     "name": "stdout",
     "output_type": "stream",
     "text": [
      "Example of trips with duration less than 1 minute\n"
     ]
    },
    {
     "data": {
      "text/html": [
       "<div>\n",
       "<style scoped>\n",
       "    .dataframe tbody tr th:only-of-type {\n",
       "        vertical-align: middle;\n",
       "    }\n",
       "\n",
       "    .dataframe tbody tr th {\n",
       "        vertical-align: top;\n",
       "    }\n",
       "\n",
       "    .dataframe thead th {\n",
       "        text-align: right;\n",
       "    }\n",
       "</style>\n",
       "<table border=\"1\" class=\"dataframe\">\n",
       "  <thead>\n",
       "    <tr style=\"text-align: right;\">\n",
       "      <th></th>\n",
       "      <th>PULocationID</th>\n",
       "      <th>DOLocationID</th>\n",
       "      <th>Borough_PU</th>\n",
       "      <th>Borough_DO</th>\n",
       "      <th>trip_distance</th>\n",
       "      <th>duration_min</th>\n",
       "      <th>fare_amount</th>\n",
       "    </tr>\n",
       "  </thead>\n",
       "  <tbody>\n",
       "    <tr>\n",
       "      <th>1</th>\n",
       "      <td>132</td>\n",
       "      <td>74</td>\n",
       "      <td>Queens</td>\n",
       "      <td>Manhattan</td>\n",
       "      <td>17.57</td>\n",
       "      <td>0.000000</td>\n",
       "      <td>52.0</td>\n",
       "    </tr>\n",
       "    <tr>\n",
       "      <th>2</th>\n",
       "      <td>138</td>\n",
       "      <td>249</td>\n",
       "      <td>Queens</td>\n",
       "      <td>Manhattan</td>\n",
       "      <td>13.34</td>\n",
       "      <td>0.000000</td>\n",
       "      <td>47.0</td>\n",
       "    </tr>\n",
       "    <tr>\n",
       "      <th>3</th>\n",
       "      <td>132</td>\n",
       "      <td>230</td>\n",
       "      <td>Queens</td>\n",
       "      <td>Manhattan</td>\n",
       "      <td>18.08</td>\n",
       "      <td>0.000000</td>\n",
       "      <td>52.0</td>\n",
       "    </tr>\n",
       "    <tr>\n",
       "      <th>65</th>\n",
       "      <td>138</td>\n",
       "      <td>138</td>\n",
       "      <td>Queens</td>\n",
       "      <td>Queens</td>\n",
       "      <td>1.30</td>\n",
       "      <td>0.200000</td>\n",
       "      <td>2.5</td>\n",
       "    </tr>\n",
       "    <tr>\n",
       "      <th>109</th>\n",
       "      <td>264</td>\n",
       "      <td>24</td>\n",
       "      <td>Unknown</td>\n",
       "      <td>Manhattan</td>\n",
       "      <td>0.00</td>\n",
       "      <td>0.050000</td>\n",
       "      <td>60.0</td>\n",
       "    </tr>\n",
       "    <tr>\n",
       "      <th>224</th>\n",
       "      <td>148</td>\n",
       "      <td>148</td>\n",
       "      <td>Manhattan</td>\n",
       "      <td>Manhattan</td>\n",
       "      <td>5.20</td>\n",
       "      <td>0.966667</td>\n",
       "      <td>2.5</td>\n",
       "    </tr>\n",
       "    <tr>\n",
       "      <th>317</th>\n",
       "      <td>48</td>\n",
       "      <td>48</td>\n",
       "      <td>Manhattan</td>\n",
       "      <td>Manhattan</td>\n",
       "      <td>0.20</td>\n",
       "      <td>0.700000</td>\n",
       "      <td>3.0</td>\n",
       "    </tr>\n",
       "    <tr>\n",
       "      <th>581</th>\n",
       "      <td>249</td>\n",
       "      <td>158</td>\n",
       "      <td>Manhattan</td>\n",
       "      <td>Manhattan</td>\n",
       "      <td>0.10</td>\n",
       "      <td>0.700000</td>\n",
       "      <td>2.5</td>\n",
       "    </tr>\n",
       "    <tr>\n",
       "      <th>731</th>\n",
       "      <td>146</td>\n",
       "      <td>146</td>\n",
       "      <td>Queens</td>\n",
       "      <td>Queens</td>\n",
       "      <td>3.70</td>\n",
       "      <td>0.050000</td>\n",
       "      <td>2.5</td>\n",
       "    </tr>\n",
       "    <tr>\n",
       "      <th>865</th>\n",
       "      <td>229</td>\n",
       "      <td>229</td>\n",
       "      <td>Manhattan</td>\n",
       "      <td>Manhattan</td>\n",
       "      <td>0.01</td>\n",
       "      <td>0.800000</td>\n",
       "      <td>2.5</td>\n",
       "    </tr>\n",
       "  </tbody>\n",
       "</table>\n",
       "</div>"
      ],
      "text/plain": [
       "     PULocationID  DOLocationID Borough_PU Borough_DO  trip_distance  \\\n",
       "1             132            74     Queens  Manhattan          17.57   \n",
       "2             138           249     Queens  Manhattan          13.34   \n",
       "3             132           230     Queens  Manhattan          18.08   \n",
       "65            138           138     Queens     Queens           1.30   \n",
       "109           264            24    Unknown  Manhattan           0.00   \n",
       "224           148           148  Manhattan  Manhattan           5.20   \n",
       "317            48            48  Manhattan  Manhattan           0.20   \n",
       "581           249           158  Manhattan  Manhattan           0.10   \n",
       "731           146           146     Queens     Queens           3.70   \n",
       "865           229           229  Manhattan  Manhattan           0.01   \n",
       "\n",
       "     duration_min  fare_amount  \n",
       "1        0.000000         52.0  \n",
       "2        0.000000         47.0  \n",
       "3        0.000000         52.0  \n",
       "65       0.200000          2.5  \n",
       "109      0.050000         60.0  \n",
       "224      0.966667          2.5  \n",
       "317      0.700000          3.0  \n",
       "581      0.700000          2.5  \n",
       "731      0.050000          2.5  \n",
       "865      0.800000          2.5  "
      ]
     },
     "execution_count": 22,
     "metadata": {},
     "output_type": "execute_result"
    }
   ],
   "source": [
    "#review data with duration less than 1 minute\n",
    "low_dur=data_merged.query('duration_min<1')\n",
    "low_dur=low_dur[['PULocationID','DOLocationID','Borough_PU','Borough_DO','trip_distance','duration_min','fare_amount']]\n",
    "print(\"Example of trips with duration less than 1 minute\")\n",
    "low_dur.head(10)"
   ]
  },
  {
   "cell_type": "markdown",
   "metadata": {},
   "source": [
    "Observations:\n",
    "   * It appears that three of the ten sample trips with duration less than one minute are airport trips from JFK or LGA to Manhattan.\n",
    "   * One trip has no distance and small duration, but the fare amount of $60 is quite high.\n",
    "   * The fare amounts for the other six trips are the minimal trip initiation fee. This indicates that the trip was probably cancelled right upon pickup.\n",
    "    "
   ]
  },
  {
   "cell_type": "code",
   "execution_count": 23,
   "metadata": {},
   "outputs": [
    {
     "data": {
      "image/png": "[encoded data removed]",
      "text/plain": [
       "<matplotlib.figure.Figure at 0x263048cdd30>"
      ]
     },
     "metadata": {},
     "output_type": "display_data"
    }
   ],
   "source": [
    "from matplotlib.pyplot import pie, axis, show\n",
    "low_dur=data_merged.query('duration_min<1')\n",
    "counts=low_dur.groupby(['Airport_Ind'])['Airport_Ind'].count()\n",
    "axis('equal')\n",
    "pie(counts, labels=counts.index)\n",
    "plt.title('Distribution of Trips with Duration Less than One Minute by Airport Classification')\n",
    "show()\n",
    "del(low_dur)"
   ]
  },
  {
   "cell_type": "markdown",
   "metadata": {},
   "source": [
    "#### Trips with Duration Greater Than One Hour"
   ]
  },
  {
   "cell_type": "code",
   "execution_count": 24,
   "metadata": {},
   "outputs": [
    {
     "name": "stdout",
     "output_type": "stream",
     "text": [
      "There are 143360 trip records with a duration greater than 1 hour\n"
     ]
    }
   ],
   "source": [
    "print(\"There are {} trip records with a duration greater than 1 hour\".format(data_merged.query('duration_min>60').shape[0]))"
   ]
  },
  {
   "cell_type": "code",
   "execution_count": 25,
   "metadata": {},
   "outputs": [
    {
     "name": "stdout",
     "output_type": "stream",
     "text": [
      "Example of trips with duration greater than one hour\n"
     ]
    },
    {
     "data": {
      "text/html": [
       "<div>\n",
       "<style scoped>\n",
       "    .dataframe tbody tr th:only-of-type {\n",
       "        vertical-align: middle;\n",
       "    }\n",
       "\n",
       "    .dataframe tbody tr th {\n",
       "        vertical-align: top;\n",
       "    }\n",
       "\n",
       "    .dataframe thead th {\n",
       "        text-align: right;\n",
       "    }\n",
       "</style>\n",
       "<table border=\"1\" class=\"dataframe\">\n",
       "  <thead>\n",
       "    <tr style=\"text-align: right;\">\n",
       "      <th></th>\n",
       "      <th>PULocationID</th>\n",
       "      <th>DOLocationID</th>\n",
       "      <th>Borough_PU</th>\n",
       "      <th>Borough_DO</th>\n",
       "      <th>trip_distance</th>\n",
       "      <th>duration_min</th>\n",
       "      <th>fare_amount</th>\n",
       "    </tr>\n",
       "  </thead>\n",
       "  <tbody>\n",
       "    <tr>\n",
       "      <th>70</th>\n",
       "      <td>48</td>\n",
       "      <td>24</td>\n",
       "      <td>Manhattan</td>\n",
       "      <td>Manhattan</td>\n",
       "      <td>3.33</td>\n",
       "      <td>1432.033325</td>\n",
       "      <td>11.0</td>\n",
       "    </tr>\n",
       "    <tr>\n",
       "      <th>120</th>\n",
       "      <td>263</td>\n",
       "      <td>79</td>\n",
       "      <td>Manhattan</td>\n",
       "      <td>Manhattan</td>\n",
       "      <td>5.09</td>\n",
       "      <td>1395.349976</td>\n",
       "      <td>20.0</td>\n",
       "    </tr>\n",
       "    <tr>\n",
       "      <th>302</th>\n",
       "      <td>137</td>\n",
       "      <td>226</td>\n",
       "      <td>Manhattan</td>\n",
       "      <td>Queens</td>\n",
       "      <td>0.00</td>\n",
       "      <td>134.416672</td>\n",
       "      <td>45.0</td>\n",
       "    </tr>\n",
       "    <tr>\n",
       "      <th>600</th>\n",
       "      <td>138</td>\n",
       "      <td>228</td>\n",
       "      <td>Queens</td>\n",
       "      <td>Brooklyn</td>\n",
       "      <td>14.00</td>\n",
       "      <td>76.466667</td>\n",
       "      <td>62.0</td>\n",
       "    </tr>\n",
       "    <tr>\n",
       "      <th>806</th>\n",
       "      <td>79</td>\n",
       "      <td>75</td>\n",
       "      <td>Manhattan</td>\n",
       "      <td>Manhattan</td>\n",
       "      <td>5.21</td>\n",
       "      <td>1430.266724</td>\n",
       "      <td>16.5</td>\n",
       "    </tr>\n",
       "    <tr>\n",
       "      <th>1418</th>\n",
       "      <td>230</td>\n",
       "      <td>141</td>\n",
       "      <td>Manhattan</td>\n",
       "      <td>Manhattan</td>\n",
       "      <td>1.84</td>\n",
       "      <td>1435.349976</td>\n",
       "      <td>8.5</td>\n",
       "    </tr>\n",
       "    <tr>\n",
       "      <th>1494</th>\n",
       "      <td>39</td>\n",
       "      <td>193</td>\n",
       "      <td>Brooklyn</td>\n",
       "      <td>Queens</td>\n",
       "      <td>18.08</td>\n",
       "      <td>65.000000</td>\n",
       "      <td>51.0</td>\n",
       "    </tr>\n",
       "    <tr>\n",
       "      <th>3182</th>\n",
       "      <td>100</td>\n",
       "      <td>14</td>\n",
       "      <td>Manhattan</td>\n",
       "      <td>Brooklyn</td>\n",
       "      <td>14.04</td>\n",
       "      <td>88.316666</td>\n",
       "      <td>64.0</td>\n",
       "    </tr>\n",
       "    <tr>\n",
       "      <th>3464</th>\n",
       "      <td>132</td>\n",
       "      <td>42</td>\n",
       "      <td>Queens</td>\n",
       "      <td>Manhattan</td>\n",
       "      <td>19.67</td>\n",
       "      <td>63.466667</td>\n",
       "      <td>52.0</td>\n",
       "    </tr>\n",
       "    <tr>\n",
       "      <th>4005</th>\n",
       "      <td>211</td>\n",
       "      <td>48</td>\n",
       "      <td>Manhattan</td>\n",
       "      <td>Manhattan</td>\n",
       "      <td>3.72</td>\n",
       "      <td>1422.266724</td>\n",
       "      <td>15.0</td>\n",
       "    </tr>\n",
       "  </tbody>\n",
       "</table>\n",
       "</div>"
      ],
      "text/plain": [
       "      PULocationID  DOLocationID Borough_PU Borough_DO  trip_distance  \\\n",
       "70              48            24  Manhattan  Manhattan           3.33   \n",
       "120            263            79  Manhattan  Manhattan           5.09   \n",
       "302            137           226  Manhattan     Queens           0.00   \n",
       "600            138           228     Queens   Brooklyn          14.00   \n",
       "806             79            75  Manhattan  Manhattan           5.21   \n",
       "1418           230           141  Manhattan  Manhattan           1.84   \n",
       "1494            39           193   Brooklyn     Queens          18.08   \n",
       "3182           100            14  Manhattan   Brooklyn          14.04   \n",
       "3464           132            42     Queens  Manhattan          19.67   \n",
       "4005           211            48  Manhattan  Manhattan           3.72   \n",
       "\n",
       "      duration_min  fare_amount  \n",
       "70     1432.033325         11.0  \n",
       "120    1395.349976         20.0  \n",
       "302     134.416672         45.0  \n",
       "600      76.466667         62.0  \n",
       "806    1430.266724         16.5  \n",
       "1418   1435.349976          8.5  \n",
       "1494     65.000000         51.0  \n",
       "3182     88.316666         64.0  \n",
       "3464     63.466667         52.0  \n",
       "4005   1422.266724         15.0  "
      ]
     },
     "execution_count": 25,
     "metadata": {},
     "output_type": "execute_result"
    }
   ],
   "source": [
    "#review data with duration greater than one hour\n",
    "high_dur=data_merged.query('duration_min>60')\n",
    "high_dur=high_dur[['PULocationID','DOLocationID','Borough_PU','Borough_DO','trip_distance','duration_min','fare_amount']]\n",
    "print(\"Example of trips with duration greater than one hour\")\n",
    "high_dur.head(10)"
   ]
  },
  {
   "cell_type": "markdown",
   "metadata": {},
   "source": [
    "Observations: \n",
    "   * Out of the ten sample trips with duration greater than an hour, two are airport trips.\n",
    "   * Only four trips have distances greater than 10 miles and four of the trips have fares greater than $50. These seem to be the only legitimate trips."
   ]
  },
  {
   "cell_type": "code",
   "execution_count": 26,
   "metadata": {},
   "outputs": [
    {
     "data": {
      "image/png": "[encoded data removed]",
      "text/plain": [
       "<matplotlib.figure.Figure at 0x263024e83c8>"
      ]
     },
     "metadata": {},
     "output_type": "display_data"
    }
   ],
   "source": [
    "high_dur=data_merged.query('duration_min>60')\n",
    "counts=high_dur.groupby(['Airport_Ind'])['Airport_Ind'].count()\n",
    "axis('equal')\n",
    "pie(counts, labels=counts.index)\n",
    "plt.title('Distribution of Trips with Duration Greater Than One Hour by Airport Classification')\n",
    "show()\n",
    "del(high_dur)"
   ]
  },
  {
   "cell_type": "code",
   "execution_count": 27,
   "metadata": {},
   "outputs": [
    {
     "data": {
      "image/png": "[encoded data removed]",
      "text/plain": [
       "<matplotlib.figure.Figure at 0x26304607748>"
      ]
     },
     "metadata": {},
     "output_type": "display_data"
    }
   ],
   "source": [
    "#Review the duration of airport trips\n",
    "#filter out trips with duration above three hours just so that I can see the boxplots easily\n",
    "data_filtered=data_merged.query('duration_min<180')\n",
    "fig, ax = plt.subplots(figsize=(10,8))\n",
    "data_filtered.boxplot(column=['duration_min'], by='Airport_Ind', ax=ax)\n",
    "del(data_filtered)"
   ]
  },
  {
   "cell_type": "code",
   "execution_count": 28,
   "metadata": {},
   "outputs": [
    {
     "name": "stdout",
     "output_type": "stream",
     "text": [
      "Distribution of Trip Duration by Airport Classification\n"
     ]
    },
    {
     "data": {
      "text/html": [
       "<div>\n",
       "<style scoped>\n",
       "    .dataframe tbody tr th:only-of-type {\n",
       "        vertical-align: middle;\n",
       "    }\n",
       "\n",
       "    .dataframe tbody tr th {\n",
       "        vertical-align: top;\n",
       "    }\n",
       "\n",
       "    .dataframe thead th {\n",
       "        text-align: right;\n",
       "    }\n",
       "</style>\n",
       "<table border=\"1\" class=\"dataframe\">\n",
       "  <thead>\n",
       "    <tr style=\"text-align: right;\">\n",
       "      <th></th>\n",
       "      <th>count</th>\n",
       "      <th>mean</th>\n",
       "      <th>std</th>\n",
       "      <th>min</th>\n",
       "      <th>25%</th>\n",
       "      <th>50%</th>\n",
       "      <th>75%</th>\n",
       "      <th>max</th>\n",
       "    </tr>\n",
       "    <tr>\n",
       "      <th>Airport_Ind</th>\n",
       "      <th></th>\n",
       "      <th></th>\n",
       "      <th></th>\n",
       "      <th></th>\n",
       "      <th></th>\n",
       "      <th></th>\n",
       "      <th></th>\n",
       "      <th></th>\n",
       "    </tr>\n",
       "  </thead>\n",
       "  <tbody>\n",
       "    <tr>\n",
       "      <th>EWR</th>\n",
       "      <td>19292.0</td>\n",
       "      <td>47.0</td>\n",
       "      <td>75.0</td>\n",
       "      <td>0.0</td>\n",
       "      <td>30.0</td>\n",
       "      <td>40.0</td>\n",
       "      <td>53.0</td>\n",
       "      <td>1440.0</td>\n",
       "    </tr>\n",
       "    <tr>\n",
       "      <th>JFK</th>\n",
       "      <td>305435.0</td>\n",
       "      <td>49.0</td>\n",
       "      <td>65.0</td>\n",
       "      <td>0.0</td>\n",
       "      <td>31.0</td>\n",
       "      <td>45.0</td>\n",
       "      <td>61.0</td>\n",
       "      <td>1440.0</td>\n",
       "    </tr>\n",
       "    <tr>\n",
       "      <th>LGA</th>\n",
       "      <td>385880.0</td>\n",
       "      <td>39.0</td>\n",
       "      <td>61.0</td>\n",
       "      <td>0.0</td>\n",
       "      <td>24.0</td>\n",
       "      <td>34.0</td>\n",
       "      <td>46.0</td>\n",
       "      <td>1440.0</td>\n",
       "    </tr>\n",
       "    <tr>\n",
       "      <th>None</th>\n",
       "      <td>8941018.0</td>\n",
       "      <td>15.0</td>\n",
       "      <td>54.0</td>\n",
       "      <td>0.0</td>\n",
       "      <td>6.0</td>\n",
       "      <td>11.0</td>\n",
       "      <td>17.0</td>\n",
       "      <td>1440.0</td>\n",
       "    </tr>\n",
       "  </tbody>\n",
       "</table>\n",
       "</div>"
      ],
      "text/plain": [
       "                 count  mean   std  min   25%   50%   75%     max\n",
       "Airport_Ind                                                      \n",
       "EWR            19292.0  47.0  75.0  0.0  30.0  40.0  53.0  1440.0\n",
       "JFK           305435.0  49.0  65.0  0.0  31.0  45.0  61.0  1440.0\n",
       "LGA           385880.0  39.0  61.0  0.0  24.0  34.0  46.0  1440.0\n",
       "None         8941018.0  15.0  54.0  0.0   6.0  11.0  17.0  1440.0"
      ]
     },
     "execution_count": 28,
     "metadata": {},
     "output_type": "execute_result"
    }
   ],
   "source": [
    "print(\"Distribution of Trip Duration by Airport Classification\")\n",
    "np.around(data_merged.groupby(['Airport_Ind'])['duration_min'].describe(),0)"
   ]
  },
  {
   "cell_type": "code",
   "execution_count": 29,
   "metadata": {},
   "outputs": [
    {
     "data": {
      "text/plain": [
       "Airport_Ind      \n",
       "EWR          0.95    80.140833\n",
       "JFK          0.95    84.533333\n",
       "LGA          0.95    64.066666\n",
       "None         0.95    30.000000\n",
       "Name: duration_min, dtype: float64"
      ]
     },
     "execution_count": 29,
     "metadata": {},
     "output_type": "execute_result"
    }
   ],
   "source": [
    "data_merged.groupby(['Airport_Ind'])['duration_min'].quantile([0.95])"
   ]
  },
  {
   "cell_type": "markdown",
   "metadata": {},
   "source": [
    "Observations:\n",
    "   * JFK trips have the highest average duration. In fact, the 75th percentile of JFK trips are over an hour. \n",
    "   * The maximum of the JFK trips (Q3+1.5IQR) is a little over 100 minutes. The other two airports have maximums closer to 80 and 85 minutes. \n",
    "   * I calculate that the 95th percentile for trip duration is 80 minutes for EWR, 85 minutes for JFK, 65 inutes for LGA, and 30 minutes for None.\n",
    "   * I will set 90 minutes as the upper limit for trip duration. All trips lasting longer than 90 minutes will be excluded. "
   ]
  },
  {
   "cell_type": "markdown",
   "metadata": {},
   "source": [
    "#### Trips with Distance of Zero Miles"
   ]
  },
  {
   "cell_type": "code",
   "execution_count": 30,
   "metadata": {},
   "outputs": [
    {
     "name": "stdout",
     "output_type": "stream",
     "text": [
      "There are 63029 trip records with a distance of 0 miles\n"
     ]
    }
   ],
   "source": [
    "print(\"There are {} trip records with a distance of 0 miles\".format(data_merged.query('trip_distance==0').shape[0]))"
   ]
  },
  {
   "cell_type": "code",
   "execution_count": 31,
   "metadata": {},
   "outputs": [
    {
     "name": "stdout",
     "output_type": "stream",
     "text": [
      "Example of zero distance trips\n"
     ]
    },
    {
     "data": {
      "text/html": [
       "<div>\n",
       "<style scoped>\n",
       "    .dataframe tbody tr th:only-of-type {\n",
       "        vertical-align: middle;\n",
       "    }\n",
       "\n",
       "    .dataframe tbody tr th {\n",
       "        vertical-align: top;\n",
       "    }\n",
       "\n",
       "    .dataframe thead th {\n",
       "        text-align: right;\n",
       "    }\n",
       "</style>\n",
       "<table border=\"1\" class=\"dataframe\">\n",
       "  <thead>\n",
       "    <tr style=\"text-align: right;\">\n",
       "      <th></th>\n",
       "      <th>PULocationID</th>\n",
       "      <th>DOLocationID</th>\n",
       "      <th>Borough_PU</th>\n",
       "      <th>Borough_DO</th>\n",
       "      <th>trip_distance</th>\n",
       "      <th>duration_min</th>\n",
       "      <th>fare_amount</th>\n",
       "    </tr>\n",
       "  </thead>\n",
       "  <tbody>\n",
       "    <tr>\n",
       "      <th>77</th>\n",
       "      <td>193</td>\n",
       "      <td>193</td>\n",
       "      <td>Queens</td>\n",
       "      <td>Queens</td>\n",
       "      <td>0.0</td>\n",
       "      <td>1.183333</td>\n",
       "      <td>45.0</td>\n",
       "    </tr>\n",
       "    <tr>\n",
       "      <th>109</th>\n",
       "      <td>264</td>\n",
       "      <td>24</td>\n",
       "      <td>Unknown</td>\n",
       "      <td>Manhattan</td>\n",
       "      <td>0.0</td>\n",
       "      <td>0.050000</td>\n",
       "      <td>60.0</td>\n",
       "    </tr>\n",
       "    <tr>\n",
       "      <th>302</th>\n",
       "      <td>137</td>\n",
       "      <td>226</td>\n",
       "      <td>Manhattan</td>\n",
       "      <td>Queens</td>\n",
       "      <td>0.0</td>\n",
       "      <td>134.416672</td>\n",
       "      <td>45.0</td>\n",
       "    </tr>\n",
       "    <tr>\n",
       "      <th>316</th>\n",
       "      <td>264</td>\n",
       "      <td>145</td>\n",
       "      <td>Unknown</td>\n",
       "      <td>Queens</td>\n",
       "      <td>0.0</td>\n",
       "      <td>1.366667</td>\n",
       "      <td>3.0</td>\n",
       "    </tr>\n",
       "    <tr>\n",
       "      <th>900</th>\n",
       "      <td>163</td>\n",
       "      <td>163</td>\n",
       "      <td>Manhattan</td>\n",
       "      <td>Manhattan</td>\n",
       "      <td>0.0</td>\n",
       "      <td>0.333333</td>\n",
       "      <td>2.5</td>\n",
       "    </tr>\n",
       "    <tr>\n",
       "      <th>913</th>\n",
       "      <td>132</td>\n",
       "      <td>132</td>\n",
       "      <td>Queens</td>\n",
       "      <td>Queens</td>\n",
       "      <td>0.0</td>\n",
       "      <td>0.083333</td>\n",
       "      <td>2.5</td>\n",
       "    </tr>\n",
       "    <tr>\n",
       "      <th>1080</th>\n",
       "      <td>162</td>\n",
       "      <td>162</td>\n",
       "      <td>Manhattan</td>\n",
       "      <td>Manhattan</td>\n",
       "      <td>0.0</td>\n",
       "      <td>0.283333</td>\n",
       "      <td>52.0</td>\n",
       "    </tr>\n",
       "    <tr>\n",
       "      <th>1227</th>\n",
       "      <td>265</td>\n",
       "      <td>265</td>\n",
       "      <td>Unknown</td>\n",
       "      <td>Unknown</td>\n",
       "      <td>0.0</td>\n",
       "      <td>0.100000</td>\n",
       "      <td>100.0</td>\n",
       "    </tr>\n",
       "    <tr>\n",
       "      <th>1263</th>\n",
       "      <td>68</td>\n",
       "      <td>68</td>\n",
       "      <td>Manhattan</td>\n",
       "      <td>Manhattan</td>\n",
       "      <td>0.0</td>\n",
       "      <td>0.083333</td>\n",
       "      <td>2.5</td>\n",
       "    </tr>\n",
       "    <tr>\n",
       "      <th>1450</th>\n",
       "      <td>162</td>\n",
       "      <td>162</td>\n",
       "      <td>Manhattan</td>\n",
       "      <td>Manhattan</td>\n",
       "      <td>0.0</td>\n",
       "      <td>0.866667</td>\n",
       "      <td>52.0</td>\n",
       "    </tr>\n",
       "  </tbody>\n",
       "</table>\n",
       "</div>"
      ],
      "text/plain": [
       "      PULocationID  DOLocationID Borough_PU Borough_DO  trip_distance  \\\n",
       "77             193           193     Queens     Queens            0.0   \n",
       "109            264            24    Unknown  Manhattan            0.0   \n",
       "302            137           226  Manhattan     Queens            0.0   \n",
       "316            264           145    Unknown     Queens            0.0   \n",
       "900            163           163  Manhattan  Manhattan            0.0   \n",
       "913            132           132     Queens     Queens            0.0   \n",
       "1080           162           162  Manhattan  Manhattan            0.0   \n",
       "1227           265           265    Unknown    Unknown            0.0   \n",
       "1263            68            68  Manhattan  Manhattan            0.0   \n",
       "1450           162           162  Manhattan  Manhattan            0.0   \n",
       "\n",
       "      duration_min  fare_amount  \n",
       "77        1.183333         45.0  \n",
       "109       0.050000         60.0  \n",
       "302     134.416672         45.0  \n",
       "316       1.366667          3.0  \n",
       "900       0.333333          2.5  \n",
       "913       0.083333          2.5  \n",
       "1080      0.283333         52.0  \n",
       "1227      0.100000        100.0  \n",
       "1263      0.083333          2.5  \n",
       "1450      0.866667         52.0  "
      ]
     },
     "execution_count": 31,
     "metadata": {},
     "output_type": "execute_result"
    }
   ],
   "source": [
    "#review data with zero distance\n",
    "zero_dist=data_merged.query('trip_distance==0')\n",
    "zero_dist=zero_dist[['PULocationID','DOLocationID','Borough_PU','Borough_DO','trip_distance','duration_min','fare_amount']]\n",
    "print(\"Example of zero distance trips\")\n",
    "zero_dist.head(10)"
   ]
  },
  {
   "cell_type": "markdown",
   "metadata": {},
   "source": [
    "Observations:\n",
    "   * Seven of the ten sample trips with zero distance have the same pick up and drop off locations. Two of these seven trips have known locations, small durations, and high fare rates. This points to the fact that the taxi did not record the trip correctly due to GPS error or the driver not recording the trip. \n",
    "   * There are three other trips with high fare rates and low durations. Again, the trip was not recorded correctly,\n",
    "   * The rest of the trips have minimum fares, which is most likely a cancelled trip. "
   ]
  },
  {
   "cell_type": "code",
   "execution_count": 32,
   "metadata": {},
   "outputs": [
    {
     "data": {
      "image/png": "[encoded data removed]",
      "text/plain": [
       "<matplotlib.figure.Figure at 0x263048f3978>"
      ]
     },
     "metadata": {},
     "output_type": "display_data"
    }
   ],
   "source": [
    "from matplotlib.pyplot import pie, axis, show\n",
    "zero_dist=data_merged.query('trip_distance==0')\n",
    "counts=zero_dist.groupby(['Airport_Ind'])['Airport_Ind'].count()\n",
    "axis('equal')\n",
    "pie(counts, labels=counts.index)\n",
    "plt.title('Distribution of Trips with Zero Distance by Airport Classification')\n",
    "show()\n",
    "del(zero_dist)"
   ]
  },
  {
   "cell_type": "markdown",
   "metadata": {},
   "source": [
    "#### Long Distance Trips (Greater than 25 Miles)"
   ]
  },
  {
   "cell_type": "code",
   "execution_count": 33,
   "metadata": {},
   "outputs": [
    {
     "name": "stdout",
     "output_type": "stream",
     "text": [
      "There are 11197 trip records with a distance of 25 miles\n"
     ]
    }
   ],
   "source": [
    "print(\"There are {} trip records with a distance of 25 miles\".format(data_merged.query('trip_distance>25').shape[0]))"
   ]
  },
  {
   "cell_type": "code",
   "execution_count": 34,
   "metadata": {},
   "outputs": [
    {
     "name": "stdout",
     "output_type": "stream",
     "text": [
      "Example of long distance trips\n"
     ]
    },
    {
     "data": {
      "text/html": [
       "<div>\n",
       "<style scoped>\n",
       "    .dataframe tbody tr th:only-of-type {\n",
       "        vertical-align: middle;\n",
       "    }\n",
       "\n",
       "    .dataframe tbody tr th {\n",
       "        vertical-align: top;\n",
       "    }\n",
       "\n",
       "    .dataframe thead th {\n",
       "        text-align: right;\n",
       "    }\n",
       "</style>\n",
       "<table border=\"1\" class=\"dataframe\">\n",
       "  <thead>\n",
       "    <tr style=\"text-align: right;\">\n",
       "      <th></th>\n",
       "      <th>PULocationID</th>\n",
       "      <th>DOLocationID</th>\n",
       "      <th>Borough_PU</th>\n",
       "      <th>Borough_DO</th>\n",
       "      <th>trip_distance</th>\n",
       "      <th>duration_min</th>\n",
       "      <th>fare_amount</th>\n",
       "    </tr>\n",
       "  </thead>\n",
       "  <tbody>\n",
       "    <tr>\n",
       "      <th>613</th>\n",
       "      <td>100</td>\n",
       "      <td>155</td>\n",
       "      <td>Manhattan</td>\n",
       "      <td>Brooklyn</td>\n",
       "      <td>25.17</td>\n",
       "      <td>44.083332</td>\n",
       "      <td>68.0</td>\n",
       "    </tr>\n",
       "    <tr>\n",
       "      <th>1764</th>\n",
       "      <td>132</td>\n",
       "      <td>40</td>\n",
       "      <td>Queens</td>\n",
       "      <td>Brooklyn</td>\n",
       "      <td>26.10</td>\n",
       "      <td>31.116667</td>\n",
       "      <td>68.0</td>\n",
       "    </tr>\n",
       "    <tr>\n",
       "      <th>1876</th>\n",
       "      <td>132</td>\n",
       "      <td>181</td>\n",
       "      <td>Queens</td>\n",
       "      <td>Brooklyn</td>\n",
       "      <td>25.64</td>\n",
       "      <td>34.183334</td>\n",
       "      <td>67.5</td>\n",
       "    </tr>\n",
       "    <tr>\n",
       "      <th>4239</th>\n",
       "      <td>138</td>\n",
       "      <td>265</td>\n",
       "      <td>Queens</td>\n",
       "      <td>Unknown</td>\n",
       "      <td>29.40</td>\n",
       "      <td>53.616665</td>\n",
       "      <td>117.5</td>\n",
       "    </tr>\n",
       "    <tr>\n",
       "      <th>5046</th>\n",
       "      <td>132</td>\n",
       "      <td>181</td>\n",
       "      <td>Queens</td>\n",
       "      <td>Brooklyn</td>\n",
       "      <td>25.81</td>\n",
       "      <td>38.500000</td>\n",
       "      <td>68.5</td>\n",
       "    </tr>\n",
       "    <tr>\n",
       "      <th>5082</th>\n",
       "      <td>264</td>\n",
       "      <td>264</td>\n",
       "      <td>Unknown</td>\n",
       "      <td>Unknown</td>\n",
       "      <td>25.35</td>\n",
       "      <td>39.849998</td>\n",
       "      <td>67.5</td>\n",
       "    </tr>\n",
       "    <tr>\n",
       "      <th>5654</th>\n",
       "      <td>132</td>\n",
       "      <td>33</td>\n",
       "      <td>Queens</td>\n",
       "      <td>Brooklyn</td>\n",
       "      <td>26.65</td>\n",
       "      <td>29.166666</td>\n",
       "      <td>69.0</td>\n",
       "    </tr>\n",
       "    <tr>\n",
       "      <th>5676</th>\n",
       "      <td>132</td>\n",
       "      <td>200</td>\n",
       "      <td>Queens</td>\n",
       "      <td>Bronx</td>\n",
       "      <td>27.12</td>\n",
       "      <td>34.466667</td>\n",
       "      <td>70.5</td>\n",
       "    </tr>\n",
       "    <tr>\n",
       "      <th>6318</th>\n",
       "      <td>132</td>\n",
       "      <td>181</td>\n",
       "      <td>Queens</td>\n",
       "      <td>Brooklyn</td>\n",
       "      <td>25.46</td>\n",
       "      <td>35.083332</td>\n",
       "      <td>68.0</td>\n",
       "    </tr>\n",
       "    <tr>\n",
       "      <th>8903</th>\n",
       "      <td>132</td>\n",
       "      <td>265</td>\n",
       "      <td>Queens</td>\n",
       "      <td>Unknown</td>\n",
       "      <td>35.20</td>\n",
       "      <td>41.349998</td>\n",
       "      <td>150.0</td>\n",
       "    </tr>\n",
       "  </tbody>\n",
       "</table>\n",
       "</div>"
      ],
      "text/plain": [
       "      PULocationID  DOLocationID Borough_PU Borough_DO  trip_distance  \\\n",
       "613            100           155  Manhattan   Brooklyn          25.17   \n",
       "1764           132            40     Queens   Brooklyn          26.10   \n",
       "1876           132           181     Queens   Brooklyn          25.64   \n",
       "4239           138           265     Queens    Unknown          29.40   \n",
       "5046           132           181     Queens   Brooklyn          25.81   \n",
       "5082           264           264    Unknown    Unknown          25.35   \n",
       "5654           132            33     Queens   Brooklyn          26.65   \n",
       "5676           132           200     Queens      Bronx          27.12   \n",
       "6318           132           181     Queens   Brooklyn          25.46   \n",
       "8903           132           265     Queens    Unknown          35.20   \n",
       "\n",
       "      duration_min  fare_amount  \n",
       "613      44.083332         68.0  \n",
       "1764     31.116667         68.0  \n",
       "1876     34.183334         67.5  \n",
       "4239     53.616665        117.5  \n",
       "5046     38.500000         68.5  \n",
       "5082     39.849998         67.5  \n",
       "5654     29.166666         69.0  \n",
       "5676     34.466667         70.5  \n",
       "6318     35.083332         68.0  \n",
       "8903     41.349998        150.0  "
      ]
     },
     "execution_count": 34,
     "metadata": {},
     "output_type": "execute_result"
    }
   ],
   "source": [
    "#review data with long distance\n",
    "high_dist=data_merged.query('trip_distance>25')\n",
    "high_dist=high_dist[['PULocationID','DOLocationID','Borough_PU','Borough_DO','trip_distance','duration_min','fare_amount']]\n",
    "print(\"Example of long distance trips\")\n",
    "high_dist.head(10)"
   ]
  },
  {
   "cell_type": "markdown",
   "metadata": {},
   "source": [
    "Given the high duration and fare amount, all of the example trips with long distance could be valid. I suspect most of the long distance trips are airport trips.\n"
   ]
  },
  {
   "cell_type": "code",
   "execution_count": 35,
   "metadata": {},
   "outputs": [
    {
     "data": {
      "image/png": "[encoded data removed]",
      "text/plain": [
       "<matplotlib.figure.Figure at 0x2630491eb00>"
      ]
     },
     "metadata": {},
     "output_type": "display_data"
    }
   ],
   "source": [
    "#Review the distance of airport trips\n",
    "#filter out trips with distance more than 100 miles just so that I can see the boxplots easily\n",
    "data_filtered=data_merged.query('trip_distance<100')\n",
    "fig, ax = plt.subplots(figsize=(10,8))\n",
    "data_filtered.boxplot(column=['trip_distance'], by='Airport_Ind', ax=ax)\n",
    "del(data_filtered)"
   ]
  },
  {
   "cell_type": "code",
   "execution_count": 36,
   "metadata": {},
   "outputs": [
    {
     "data": {
      "image/png": "[encoded data removed]",
      "text/plain": [
       "<matplotlib.figure.Figure at 0x263048022e8>"
      ]
     },
     "metadata": {},
     "output_type": "display_data"
    }
   ],
   "source": [
    "long_dist=data_merged.query('trip_distance>25')\n",
    "counts=long_dist.groupby(['Airport_Ind'])['Airport_Ind'].count()\n",
    "axis('equal')\n",
    "pie(counts, labels=counts.index)\n",
    "plt.title('Distribution of Trips with Long Distance by Airport Classification')\n",
    "show()\n",
    "del(long_dist)"
   ]
  },
  {
   "cell_type": "code",
   "execution_count": 37,
   "metadata": {},
   "outputs": [
    {
     "name": "stdout",
     "output_type": "stream",
     "text": [
      "Distribution of Trip Distance by Airport Classification\n"
     ]
    },
    {
     "data": {
      "text/html": [
       "<div>\n",
       "<style scoped>\n",
       "    .dataframe tbody tr th:only-of-type {\n",
       "        vertical-align: middle;\n",
       "    }\n",
       "\n",
       "    .dataframe tbody tr th {\n",
       "        vertical-align: top;\n",
       "    }\n",
       "\n",
       "    .dataframe thead th {\n",
       "        text-align: right;\n",
       "    }\n",
       "</style>\n",
       "<table border=\"1\" class=\"dataframe\">\n",
       "  <thead>\n",
       "    <tr style=\"text-align: right;\">\n",
       "      <th></th>\n",
       "      <th>count</th>\n",
       "      <th>mean</th>\n",
       "      <th>std</th>\n",
       "      <th>min</th>\n",
       "      <th>25%</th>\n",
       "      <th>50%</th>\n",
       "      <th>75%</th>\n",
       "      <th>max</th>\n",
       "    </tr>\n",
       "    <tr>\n",
       "      <th>Airport_Ind</th>\n",
       "      <th></th>\n",
       "      <th></th>\n",
       "      <th></th>\n",
       "      <th></th>\n",
       "      <th></th>\n",
       "      <th></th>\n",
       "      <th></th>\n",
       "      <th></th>\n",
       "    </tr>\n",
       "  </thead>\n",
       "  <tbody>\n",
       "    <tr>\n",
       "      <th>EWR</th>\n",
       "      <td>19292.0</td>\n",
       "      <td>17.0</td>\n",
       "      <td>4.0</td>\n",
       "      <td>0.0</td>\n",
       "      <td>16.0</td>\n",
       "      <td>17.0</td>\n",
       "      <td>18.0</td>\n",
       "      <td>46.0</td>\n",
       "    </tr>\n",
       "    <tr>\n",
       "      <th>JFK</th>\n",
       "      <td>305435.0</td>\n",
       "      <td>16.0</td>\n",
       "      <td>6.0</td>\n",
       "      <td>0.0</td>\n",
       "      <td>15.0</td>\n",
       "      <td>18.0</td>\n",
       "      <td>19.0</td>\n",
       "      <td>248.0</td>\n",
       "    </tr>\n",
       "    <tr>\n",
       "      <th>LGA</th>\n",
       "      <td>385880.0</td>\n",
       "      <td>10.0</td>\n",
       "      <td>3.0</td>\n",
       "      <td>0.0</td>\n",
       "      <td>9.0</td>\n",
       "      <td>10.0</td>\n",
       "      <td>11.0</td>\n",
       "      <td>93.0</td>\n",
       "    </tr>\n",
       "    <tr>\n",
       "      <th>None</th>\n",
       "      <td>8941018.0</td>\n",
       "      <td>2.0</td>\n",
       "      <td>5.0</td>\n",
       "      <td>0.0</td>\n",
       "      <td>1.0</td>\n",
       "      <td>2.0</td>\n",
       "      <td>3.0</td>\n",
       "      <td>9497.0</td>\n",
       "    </tr>\n",
       "  </tbody>\n",
       "</table>\n",
       "</div>"
      ],
      "text/plain": [
       "                 count  mean  std  min   25%   50%   75%     max\n",
       "Airport_Ind                                                     \n",
       "EWR            19292.0  17.0  4.0  0.0  16.0  17.0  18.0    46.0\n",
       "JFK           305435.0  16.0  6.0  0.0  15.0  18.0  19.0   248.0\n",
       "LGA           385880.0  10.0  3.0  0.0   9.0  10.0  11.0    93.0\n",
       "None         8941018.0   2.0  5.0  0.0   1.0   2.0   3.0  9497.0"
      ]
     },
     "execution_count": 37,
     "metadata": {},
     "output_type": "execute_result"
    }
   ],
   "source": [
    "print(\"Distribution of Trip Distance by Airport Classification\")\n",
    "np.around(data_merged.groupby(['Airport_Ind'])['trip_distance'].describe(),0)"
   ]
  },
  {
   "cell_type": "code",
   "execution_count": 38,
   "metadata": {},
   "outputs": [
    {
     "data": {
      "text/plain": [
       "Airport_Ind      \n",
       "EWR          0.95    21.19\n",
       "JFK          0.95    22.31\n",
       "LGA          0.95    14.50\n",
       "None         0.95     6.16\n",
       "Name: trip_distance, dtype: float64"
      ]
     },
     "execution_count": 38,
     "metadata": {},
     "output_type": "execute_result"
    }
   ],
   "source": [
    "data_merged.groupby(['Airport_Ind'])['trip_distance'].quantile([0.95])"
   ]
  },
  {
   "cell_type": "markdown",
   "metadata": {},
   "source": [
    "Observations:\n",
    " * The boxplots show that JFK has the highest max distance (Q3+1.5*IQR) of 25 miles. The other airports have box plot max distances of 22 miles and 15 miles. Trips not involving airports have a max boxplot distance of about 5 miles.\n",
    " * The 95th percentile of trip distance is 21 miles for EWR, 22 miles for JFK, 15 for LGA, and 6 miles for all other trips.\n",
    " * I will cap my distance at 50 miles."
   ]
  },
  {
   "cell_type": "code",
   "execution_count": 39,
   "metadata": {},
   "outputs": [
    {
     "name": "stdout",
     "output_type": "stream",
     "text": [
      "99.9th Percentile of Fare Amount ($), Trip Distance (mile), and Trip Duration (min) by Airport Classification\n"
     ]
    }
   ],
   "source": [
    "df=data_merged[['Airport_Ind','fare_amount','trip_distance','duration_min']].groupby(['Airport_Ind']).quantile(0.999)\n",
    "df.columns=['fare_amount','trip_distance','duration_min']\n",
    "print(\"99.9th Percentile of Fare Amount ($), Trip Distance (mile), and Trip Duration (min) by Airport Classification\")\n",
    "df=np.around(df,0)\n",
    "df\n",
    "del(df)"
   ]
  },
  {
   "cell_type": "markdown",
   "metadata": {},
   "source": [
    "## Remove Outlier Values"
   ]
  },
  {
   "cell_type": "markdown",
   "metadata": {},
   "source": [
    "I want to remove incorrect data and outliers from my data without excluding airport trips, which exhibit extreme values when compared to trips within the boroughs. I explored the fare, duration, and distance distribution edge cases for my entire dataset and across the airport classifications (Newark, JFK, LaGuardia, and not an airport trip).\n",
    "\n",
    "Based upon my results, I decided to use the following rules for removing outliers:\n",
    "   * Remove trips with fares of \\\\$3 or less\n",
    "   * Remove trips with a duration less than 1 minute\n",
    "   * Remove trips with distance less than 0.20 mile (bottom 1 percentile for non airport trips)\n",
    "   * Remove trips with fare amount greater than \\\\$200\n",
    "   * Remove trips with a duration greater than 90 minutes\n",
    "   * Remove trips with a distance greater than 50 miles\n",
    "   "
   ]
  },
  {
   "cell_type": "code",
   "execution_count": 40,
   "metadata": {},
   "outputs": [],
   "source": [
    "#remove bottom 1% and top 1% for duration and fare amount\n",
    "#data_merged['min_duration']=data_merged['duration_min'].quantile(0.01)\n",
    "#data_merged['max_duration']=data_merged['duration_min'].quantile(0.99)\n",
    "#data_merged['min_fare']=data_merged['fare_amount'].quantile(0.01)\n",
    "#data_merged['max_fare']=data_merged['fare_amount'].quantile(0.99)\n",
    "#data_merged['min_distance']=data_merged['trip_distance'].quantile(0.01)\n",
    "#data_merged['max_distance']=50 #I felt that 25 miles was too short of a distance to set as the max\n",
    "\n",
    "#data_merged=data_merged.query('fare_amount>=min_fare and fare_amount<=max_fare and duration_min>=min_duration and duration_min<=max_duration and trip_distance>=min_distance and trip_distance<=max_distance')\n",
    "#data_merged=data_merged.drop(['min_fare','max_fare','min_duration','max_duration','min_distance','max_distance'],axis=1)\n"
   ]
  },
  {
   "cell_type": "code",
   "execution_count": 41,
   "metadata": {},
   "outputs": [],
   "source": [
    "data_merged=data_merged.query(\"fare_amount>3 and fare_amount<200 and duration_min>1 and duration_min<90 and trip_distance>=0.2 and trip_distance<50\")"
   ]
  },
  {
   "cell_type": "code",
   "execution_count": 42,
   "metadata": {},
   "outputs": [
    {
     "data": {
      "application/vnd.plotly.v1+json": {
       "data": [
        {
         "hoverinfo": "label+percent",
         "labels": [
          "Available data",
          "Data loss due to invalid values",
          "Data loss due to outliers"
         ],
         "marker": {
          "colors": [
           "royalblue",
           "orange",
           "lime"
          ],
          "line": {
           "color": "black",
           "width": 1.5
          }
         },
         "rotation": 60,
         "type": "pie",
         "values": [
          9483294,
          5375,
          168331
         ]
        }
       ],
       "layout": {
        "paper_bgcolor": "rgb(243,243,243)",
        "plot_bgcolor": "rgb(243,243,243)",
        "title": "Data Loss due to outliers and invalid values"
       }
      }
     },
     "metadata": {},
     "output_type": "display_data"
    }
   ],
   "source": [
    "#review data loss\n",
    "trace = go.Pie(values = [data_merged.shape[0],\n",
    "                         init_row-filtered_row,\n",
    "                         filtered_row - data_merged.shape[0]],\n",
    "               labels = [\"Available data\" , \"Data loss due to invalid values\",\"Data loss due to outliers\"],\n",
    "               marker = dict(colors =  [ 'royalblue' ,'orange','lime'],line = dict(color = \"black\",\n",
    "                                                                          width =  1.5)),\n",
    "               rotation  = 60,\n",
    "               hoverinfo = \"label+percent\",\n",
    "              )\n",
    "\n",
    "layout = go.Layout(dict(title = \"Data Loss due to outliers and invalid values\",\n",
    "                        plot_bgcolor  = \"rgb(243,243,243)\",\n",
    "                        paper_bgcolor = \"rgb(243,243,243)\",\n",
    "                       )\n",
    "                  )\n",
    "\n",
    "fig = go.Figure(data=[trace],layout=layout)\n",
    "py.iplot(fig)\n",
    "\n",
    "\n"
   ]
  },
  {
   "cell_type": "markdown",
   "metadata": {},
   "source": [
    "## Feature Engineering for Edge Cases"
   ]
  },
  {
   "cell_type": "markdown",
   "metadata": {},
   "source": [
    "My first engineered feature is the direct distance from a pickup location to a dropoff location. \n",
    "I found a shapefile containing the taxi location ids and then converted that to latitude and longitude coordinates using a tool online. I wanted to calculate the direct distance using Haversine as a way to gauge the validity of the trip distance metrics provided. I also hoped that it would give me insight about how complex a trip is. For example, a trip might be much longer in distance than the direct route due to road closures, one-way roads, tolls/gateways, etc. Since zones 264 and 265 are unknown locations, there are no coordiantes for these zones. I set the direct distance to an arbitrarily high number, 999, whenever a pickup or drop off location was unknown."
   ]
  },
  {
   "cell_type": "code",
   "execution_count": 43,
   "metadata": {},
   "outputs": [],
   "source": [
    "# Calculate the Haversine \"direct distance\" of each region\n",
    "# if the lat and long are missing (zone 164 and 165, use lat=0 long=0)\n",
    "\n",
    "#coordinate_data=pd.read_csv(\"taxi_zones_lat_long.csv\")\n",
    "coordinate_data=pd.read_csv(\"taxi_zones_lat_long.csv\")\n",
    "cord_data_PU=coordinate_data[['X','Y','OBJECTID']]\n",
    "cord_data_PU=cord_data_PU.rename(columns={'X':'lng1','Y':'lat1','OBJECTID':'PULocationID'})\n",
    "cord_data_DO=coordinate_data[['X','Y','OBJECTID']]\n",
    "cord_data_DO=cord_data_DO.rename(columns={'X':'lng2','Y':'lat2','OBJECTID':'DOLocationID'})\n",
    "data_merged=pd.merge(data_merged,cord_data_PU,how='left',on=['PULocationID'])\n",
    "data_merged=pd.merge(data_merged,cord_data_DO,how='left',on=['DOLocationID'])\n",
    "data_merged['lat1'].fillna(0,inplace=True)\n",
    "data_merged['lat2'].fillna(0,inplace=True)\n",
    "data_merged['lng1'].fillna(0,inplace=True)\n",
    "data_merged['lng2'].fillna(0,inplace=True)\n"
   ]
  },
  {
   "cell_type": "code",
   "execution_count": 44,
   "metadata": {},
   "outputs": [],
   "source": [
    "    lat1 = data_merged['lat1']\n",
    "    lat2 = data_merged['lat2']\n",
    "    lng1 = data_merged['lng1']\n",
    "    lng2 = data_merged['lng2']    \n",
    "    lat1, lng1, lat2, lng2 = map(np.radians, (lat1, lng1, lat2, lng2))\n",
    "    AVG_EARTH_RADIUS = 6371  # in km\n",
    "    lat = lat2 - lat1\n",
    "    lng = lng2 - lng1\n",
    "    d = np.sin(lat * 0.5) ** 2 + np.cos(lat1) * np.cos(lat2) * np.sin(lng * 0.5) ** 2\n",
    "    h = 2 * AVG_EARTH_RADIUS * np.arcsin(np.sqrt(d))\n",
    "    h = h/0.621371  #convert to miles\n",
    "    \n",
    "    data_merged['direct_distance']=h\n",
    "    \n",
    "#change direct distance to 999 if the coordinates are not known\n",
    "mask_0 = ((data_merged.PULocationID == 264)|(data_merged.DOLocationID==264))\n",
    "mask_1 = ((data_merged.PULocationID == 265)|(data_merged.DOLocationID==265))\n",
    "data_merged.loc[mask_0, 'direct_distance'] = 999\n",
    "data_merged.loc[mask_1, 'direct_distance'] = 999"
   ]
  },
  {
   "cell_type": "markdown",
   "metadata": {},
   "source": [
    "I had already filtered out fare amounts, distance, and durations that were invalid or extreme. Even though a measure can be valid in a univarite setting, it may be incorrect when compared to the other attribute values assigned to a trip. For example, a trip trip duration of ten minutes is reasonable for a short trip in Manhattan and 20 miles is a typical drip length for a taxi leaving the airport, but traveling 20 miles in 10 minutes results in a trip speed of 120 mph.\n",
    "In order to flag erroneous combinations of data for imputation or exclusion, I calculated the speed of the taxi and the rate (dollars per minute) for each trip."
   ]
  },
  {
   "cell_type": "code",
   "execution_count": 45,
   "metadata": {},
   "outputs": [],
   "source": [
    "#calculate the speed of the driver\n",
    "data_merged['speed_mph']=data_merged['trip_distance']/(data_merged['duration_min']/60)\n",
    "\n",
    "#calculate the driver efficiency - fare/min\n",
    "data_merged['dollar_per_min']=data_merged['fare_amount']/data_merged['duration_min']\n",
    "\n",
    "#indicator for rain\n",
    "#data_merged['rain_ind']=np.where(data_merged['precip_inch']>0.01,1,0)\n"
   ]
  },
  {
   "cell_type": "code",
   "execution_count": 46,
   "metadata": {},
   "outputs": [
    {
     "data": {
      "text/plain": [
       "0.000       0.134028\n",
       "0.010       3.018868\n",
       "0.050       4.467780\n",
       "0.100       5.431034\n",
       "0.250       7.362610\n",
       "0.500      10.024213\n",
       "0.750      13.592677\n",
       "0.900      18.495183\n",
       "0.950      22.623398\n",
       "0.990      32.298776\n",
       "0.995      36.276391\n",
       "0.999      43.527849\n",
       "1.000    1788.196789\n",
       "Name: speed_mph, dtype: float64"
      ]
     },
     "execution_count": 46,
     "metadata": {},
     "output_type": "execute_result"
    }
   ],
   "source": [
    "#review statistics of the speed\n",
    "data_merged['speed_mph'].quantile([0,0.01,0.05,0.1,0.25,0.5,0.75,0.90,0.95,0.99,0.995,0.999,1])"
   ]
  },
  {
   "cell_type": "code",
   "execution_count": 47,
   "metadata": {},
   "outputs": [
    {
     "data": {
      "text/plain": [
       "0.000      0.050261\n",
       "0.010      0.603908\n",
       "0.050      0.651214\n",
       "0.100      0.686456\n",
       "0.250      0.766423\n",
       "0.500      0.890944\n",
       "0.750      1.068249\n",
       "0.900      1.304348\n",
       "0.950      1.499111\n",
       "0.990      2.000000\n",
       "0.995      2.262509\n",
       "0.999      3.037975\n",
       "1.000    179.999993\n",
       "Name: dollar_per_min, dtype: float64"
      ]
     },
     "execution_count": 47,
     "metadata": {},
     "output_type": "execute_result"
    }
   ],
   "source": [
    "#review statistics of the dollars per min\n",
    "data_merged['dollar_per_min'].quantile([0,0.01,0.05,0.1,0.25,0.5,0.75,0.90,0.95,0.99,0.995,0.999,1])"
   ]
  },
  {
   "cell_type": "markdown",
   "metadata": {},
   "source": [
    "Observations:\n",
    " * The NYC.gov speed limit website (https://www1.nyc.gov/html/dot/downloads/pdf/current-pre-vision-zero-speed-limit-maps.pdf) shows that most roads in the boroughs have a speed limit of 25 mph or 30 mph. Some of the roads around the perimeter of the boroughs have a speed limit of 50 mph. (FDR has a speed limit of 40 mph). \n",
    " * Due to the posted speed limits and presence of heavy congestion in NYC, having a taxi speed above 50 mph seems incorrect.\n",
    " * Drivers make 50 cents per 1/5 mile driven or per minute of slow travel/stopping. This is doubled when outside of NYC. A rate of \\\\$2/min equates to 4/5 file per minute = 48 mph. A fare of \\\\$2.5/min equares to 1 mile per minute = 60 mph\n",
    " * Unusual rates could be due to negotiated fee trips\n",
    "\n",
    "I will review records with speeds below 3 mph, speeds above 50 mph, rates below \\\\$0.50, and rates above \\\\$3"
   ]
  },
  {
   "cell_type": "code",
   "execution_count": 48,
   "metadata": {},
   "outputs": [
    {
     "data": {
      "image/png": "[encoded data removed]",
      "text/plain": [
       "<matplotlib.figure.Figure at 0x26304949588>"
      ]
     },
     "metadata": {},
     "output_type": "display_data"
    }
   ],
   "source": [
    "#Review the speed of airport trips vs non airport trips\n",
    "# drop records with over 100 mph so that I can view the box plots\n",
    "data_filtered=data_merged.query('speed_mph<100')\n",
    "fig, ax = plt.subplots(figsize=(10,8))\n",
    "data_filtered.boxplot(column=['speed_mph'], by='Airport_Ind', ax=ax)\n",
    "del(data_filtered)"
   ]
  },
  {
   "cell_type": "markdown",
   "metadata": {},
   "source": [
    "#### High Speed Trips"
   ]
  },
  {
   "cell_type": "code",
   "execution_count": 49,
   "metadata": {},
   "outputs": [
    {
     "name": "stdout",
     "output_type": "stream",
     "text": [
      "Bottom Ten Trips for Speed (mph)\n"
     ]
    },
    {
     "data": {
      "text/html": [
       "<div>\n",
       "<style scoped>\n",
       "    .dataframe tbody tr th:only-of-type {\n",
       "        vertical-align: middle;\n",
       "    }\n",
       "\n",
       "    .dataframe tbody tr th {\n",
       "        vertical-align: top;\n",
       "    }\n",
       "\n",
       "    .dataframe thead th {\n",
       "        text-align: right;\n",
       "    }\n",
       "</style>\n",
       "<table border=\"1\" class=\"dataframe\">\n",
       "  <thead>\n",
       "    <tr style=\"text-align: right;\">\n",
       "      <th></th>\n",
       "      <th>PULocationID</th>\n",
       "      <th>Borough_PU</th>\n",
       "      <th>Zone_PU</th>\n",
       "      <th>DOLocationID</th>\n",
       "      <th>Borough_DO</th>\n",
       "      <th>Zone_DO</th>\n",
       "      <th>PU_time</th>\n",
       "      <th>DO_time</th>\n",
       "      <th>duration_min</th>\n",
       "      <th>trip_distance</th>\n",
       "      <th>direct_distance</th>\n",
       "      <th>fare_amount</th>\n",
       "      <th>speed_mph</th>\n",
       "      <th>dollar_per_min</th>\n",
       "    </tr>\n",
       "  </thead>\n",
       "  <tbody>\n",
       "    <tr>\n",
       "      <th>701994</th>\n",
       "      <td>265</td>\n",
       "      <td>Unknown</td>\n",
       "      <td>unknown</td>\n",
       "      <td>265</td>\n",
       "      <td>Unknown</td>\n",
       "      <td>unknown</td>\n",
       "      <td>2017-06-03 01:14:29</td>\n",
       "      <td>2017-06-03 01:15:30</td>\n",
       "      <td>1.016667</td>\n",
       "      <td>30.30</td>\n",
       "      <td>999.0</td>\n",
       "      <td>40.00</td>\n",
       "      <td>1788.196789</td>\n",
       "      <td>39.344263</td>\n",
       "    </tr>\n",
       "    <tr>\n",
       "      <th>2480458</th>\n",
       "      <td>265</td>\n",
       "      <td>Unknown</td>\n",
       "      <td>unknown</td>\n",
       "      <td>265</td>\n",
       "      <td>Unknown</td>\n",
       "      <td>unknown</td>\n",
       "      <td>2017-06-08 17:09:02</td>\n",
       "      <td>2017-06-08 17:10:19</td>\n",
       "      <td>1.283333</td>\n",
       "      <td>35.80</td>\n",
       "      <td>999.0</td>\n",
       "      <td>179.06</td>\n",
       "      <td>1673.766275</td>\n",
       "      <td>139.527276</td>\n",
       "    </tr>\n",
       "    <tr>\n",
       "      <th>2632508</th>\n",
       "      <td>132</td>\n",
       "      <td>Queens</td>\n",
       "      <td>JFK Airport</td>\n",
       "      <td>132</td>\n",
       "      <td>Queens</td>\n",
       "      <td>JFK Airport</td>\n",
       "      <td>2017-06-09 00:56:09</td>\n",
       "      <td>2017-06-09 00:57:29</td>\n",
       "      <td>1.333333</td>\n",
       "      <td>36.56</td>\n",
       "      <td>0.0</td>\n",
       "      <td>120.00</td>\n",
       "      <td>1645.199960</td>\n",
       "      <td>89.999997</td>\n",
       "    </tr>\n",
       "    <tr>\n",
       "      <th>8181195</th>\n",
       "      <td>265</td>\n",
       "      <td>Unknown</td>\n",
       "      <td>unknown</td>\n",
       "      <td>265</td>\n",
       "      <td>Unknown</td>\n",
       "      <td>unknown</td>\n",
       "      <td>2017-06-26 19:16:00</td>\n",
       "      <td>2017-06-26 19:17:05</td>\n",
       "      <td>1.083333</td>\n",
       "      <td>28.10</td>\n",
       "      <td>999.0</td>\n",
       "      <td>195.00</td>\n",
       "      <td>1556.307625</td>\n",
       "      <td>179.999993</td>\n",
       "    </tr>\n",
       "    <tr>\n",
       "      <th>7951759</th>\n",
       "      <td>265</td>\n",
       "      <td>Unknown</td>\n",
       "      <td>unknown</td>\n",
       "      <td>265</td>\n",
       "      <td>Unknown</td>\n",
       "      <td>unknown</td>\n",
       "      <td>2017-06-25 22:21:10</td>\n",
       "      <td>2017-06-25 22:22:36</td>\n",
       "      <td>1.433333</td>\n",
       "      <td>35.10</td>\n",
       "      <td>999.0</td>\n",
       "      <td>128.00</td>\n",
       "      <td>1469.302390</td>\n",
       "      <td>89.302329</td>\n",
       "    </tr>\n",
       "    <tr>\n",
       "      <th>8909551</th>\n",
       "      <td>265</td>\n",
       "      <td>Unknown</td>\n",
       "      <td>unknown</td>\n",
       "      <td>265</td>\n",
       "      <td>Unknown</td>\n",
       "      <td>unknown</td>\n",
       "      <td>2017-06-29 06:14:12</td>\n",
       "      <td>2017-06-29 06:15:23</td>\n",
       "      <td>1.183333</td>\n",
       "      <td>28.20</td>\n",
       "      <td>999.0</td>\n",
       "      <td>130.00</td>\n",
       "      <td>1429.859213</td>\n",
       "      <td>109.859160</td>\n",
       "    </tr>\n",
       "    <tr>\n",
       "      <th>479514</th>\n",
       "      <td>265</td>\n",
       "      <td>Unknown</td>\n",
       "      <td>unknown</td>\n",
       "      <td>265</td>\n",
       "      <td>Unknown</td>\n",
       "      <td>unknown</td>\n",
       "      <td>2017-06-02 12:57:58</td>\n",
       "      <td>2017-06-02 12:59:07</td>\n",
       "      <td>1.150000</td>\n",
       "      <td>26.80</td>\n",
       "      <td>999.0</td>\n",
       "      <td>106.00</td>\n",
       "      <td>1398.260844</td>\n",
       "      <td>92.173915</td>\n",
       "    </tr>\n",
       "    <tr>\n",
       "      <th>8829696</th>\n",
       "      <td>265</td>\n",
       "      <td>Unknown</td>\n",
       "      <td>unknown</td>\n",
       "      <td>265</td>\n",
       "      <td>Unknown</td>\n",
       "      <td>unknown</td>\n",
       "      <td>2017-06-28 21:14:02</td>\n",
       "      <td>2017-06-28 21:15:05</td>\n",
       "      <td>1.050000</td>\n",
       "      <td>24.20</td>\n",
       "      <td>999.0</td>\n",
       "      <td>119.99</td>\n",
       "      <td>1382.857137</td>\n",
       "      <td>114.276196</td>\n",
       "    </tr>\n",
       "    <tr>\n",
       "      <th>7846562</th>\n",
       "      <td>265</td>\n",
       "      <td>Unknown</td>\n",
       "      <td>unknown</td>\n",
       "      <td>265</td>\n",
       "      <td>Unknown</td>\n",
       "      <td>unknown</td>\n",
       "      <td>2017-06-25 13:03:43</td>\n",
       "      <td>2017-06-25 13:04:49</td>\n",
       "      <td>1.100000</td>\n",
       "      <td>22.60</td>\n",
       "      <td>999.0</td>\n",
       "      <td>98.00</td>\n",
       "      <td>1232.727196</td>\n",
       "      <td>89.090907</td>\n",
       "    </tr>\n",
       "    <tr>\n",
       "      <th>7940526</th>\n",
       "      <td>265</td>\n",
       "      <td>Unknown</td>\n",
       "      <td>unknown</td>\n",
       "      <td>265</td>\n",
       "      <td>Unknown</td>\n",
       "      <td>unknown</td>\n",
       "      <td>2017-06-25 21:17:56</td>\n",
       "      <td>2017-06-25 21:19:17</td>\n",
       "      <td>1.350000</td>\n",
       "      <td>27.70</td>\n",
       "      <td>999.0</td>\n",
       "      <td>125.00</td>\n",
       "      <td>1231.111062</td>\n",
       "      <td>92.592591</td>\n",
       "    </tr>\n",
       "  </tbody>\n",
       "</table>\n",
       "</div>"
      ],
      "text/plain": [
       "         PULocationID Borough_PU      Zone_PU  DOLocationID Borough_DO  \\\n",
       "701994            265    Unknown      unknown           265    Unknown   \n",
       "2480458           265    Unknown      unknown           265    Unknown   \n",
       "2632508           132     Queens  JFK Airport           132     Queens   \n",
       "8181195           265    Unknown      unknown           265    Unknown   \n",
       "7951759           265    Unknown      unknown           265    Unknown   \n",
       "8909551           265    Unknown      unknown           265    Unknown   \n",
       "479514            265    Unknown      unknown           265    Unknown   \n",
       "8829696           265    Unknown      unknown           265    Unknown   \n",
       "7846562           265    Unknown      unknown           265    Unknown   \n",
       "7940526           265    Unknown      unknown           265    Unknown   \n",
       "\n",
       "             Zone_DO             PU_time             DO_time  duration_min  \\\n",
       "701994       unknown 2017-06-03 01:14:29 2017-06-03 01:15:30      1.016667   \n",
       "2480458      unknown 2017-06-08 17:09:02 2017-06-08 17:10:19      1.283333   \n",
       "2632508  JFK Airport 2017-06-09 00:56:09 2017-06-09 00:57:29      1.333333   \n",
       "8181195      unknown 2017-06-26 19:16:00 2017-06-26 19:17:05      1.083333   \n",
       "7951759      unknown 2017-06-25 22:21:10 2017-06-25 22:22:36      1.433333   \n",
       "8909551      unknown 2017-06-29 06:14:12 2017-06-29 06:15:23      1.183333   \n",
       "479514       unknown 2017-06-02 12:57:58 2017-06-02 12:59:07      1.150000   \n",
       "8829696      unknown 2017-06-28 21:14:02 2017-06-28 21:15:05      1.050000   \n",
       "7846562      unknown 2017-06-25 13:03:43 2017-06-25 13:04:49      1.100000   \n",
       "7940526      unknown 2017-06-25 21:17:56 2017-06-25 21:19:17      1.350000   \n",
       "\n",
       "         trip_distance  direct_distance  fare_amount    speed_mph  \\\n",
       "701994           30.30            999.0        40.00  1788.196789   \n",
       "2480458          35.80            999.0       179.06  1673.766275   \n",
       "2632508          36.56              0.0       120.00  1645.199960   \n",
       "8181195          28.10            999.0       195.00  1556.307625   \n",
       "7951759          35.10            999.0       128.00  1469.302390   \n",
       "8909551          28.20            999.0       130.00  1429.859213   \n",
       "479514           26.80            999.0       106.00  1398.260844   \n",
       "8829696          24.20            999.0       119.99  1382.857137   \n",
       "7846562          22.60            999.0        98.00  1232.727196   \n",
       "7940526          27.70            999.0       125.00  1231.111062   \n",
       "\n",
       "         dollar_per_min  \n",
       "701994        39.344263  \n",
       "2480458      139.527276  \n",
       "2632508       89.999997  \n",
       "8181195      179.999993  \n",
       "7951759       89.302329  \n",
       "8909551      109.859160  \n",
       "479514        92.173915  \n",
       "8829696      114.276196  \n",
       "7846562       89.090907  \n",
       "7940526       92.592591  "
      ]
     },
     "execution_count": 49,
     "metadata": {},
     "output_type": "execute_result"
    }
   ],
   "source": [
    "#review high speeds\n",
    "df=data_merged.query('speed_mph>50')\n",
    "df=df[['PULocationID','Borough_PU','Zone_PU','DOLocationID','Borough_DO','Zone_DO','PU_time','DO_time',\n",
    "       'duration_min','trip_distance','direct_distance','fare_amount','speed_mph','dollar_per_min']]\n",
    "df=df.sort_values(by=['speed_mph'],ascending=False)\n",
    "print(\"Bottom Ten Trips for Speed (mph)\")\n",
    "df.head(10)\n",
    "\n"
   ]
  },
  {
   "cell_type": "markdown",
   "metadata": {},
   "source": [
    "The top ten trips for high speed all have unknown drop off locations and all but one have unknown pickup locations. The trips have longer distances (22 to 37 miles), but durations close to 1 minutes. I believe that this is due to an error in the meter or an error with taxi driver's input. I would need to impute the duration values to fix the speed, but this introduces a high level of uncertainty since the locations could be spread out across NYC.\n",
    "\n",
    "I did notice that many of the trips with speeds around 50 mph were airport trips. I need to analyze the speed limit threshold across the airport classifications. It makes sense for an airport trip to have a higher speed due to the taxis traveling on highways and perimeter roads with less intersections. "
   ]
  },
  {
   "cell_type": "code",
   "execution_count": 50,
   "metadata": {},
   "outputs": [
    {
     "name": "stdout",
     "output_type": "stream",
     "text": [
      "Distribution of Trip Speed by Airport Classification\n"
     ]
    },
    {
     "data": {
      "text/html": [
       "<div>\n",
       "<style scoped>\n",
       "    .dataframe tbody tr th:only-of-type {\n",
       "        vertical-align: middle;\n",
       "    }\n",
       "\n",
       "    .dataframe tbody tr th {\n",
       "        vertical-align: top;\n",
       "    }\n",
       "\n",
       "    .dataframe thead th {\n",
       "        text-align: right;\n",
       "    }\n",
       "</style>\n",
       "<table border=\"1\" class=\"dataframe\">\n",
       "  <thead>\n",
       "    <tr style=\"text-align: right;\">\n",
       "      <th></th>\n",
       "      <th>count</th>\n",
       "      <th>mean</th>\n",
       "      <th>std</th>\n",
       "      <th>min</th>\n",
       "      <th>25%</th>\n",
       "      <th>50%</th>\n",
       "      <th>75%</th>\n",
       "      <th>max</th>\n",
       "    </tr>\n",
       "    <tr>\n",
       "      <th>Airport_Ind</th>\n",
       "      <th></th>\n",
       "      <th></th>\n",
       "      <th></th>\n",
       "      <th></th>\n",
       "      <th></th>\n",
       "      <th></th>\n",
       "      <th></th>\n",
       "      <th></th>\n",
       "    </tr>\n",
       "  </thead>\n",
       "  <tbody>\n",
       "    <tr>\n",
       "      <th>EWR</th>\n",
       "      <td>17899.0</td>\n",
       "      <td>27.0</td>\n",
       "      <td>12.0</td>\n",
       "      <td>1.0</td>\n",
       "      <td>20.0</td>\n",
       "      <td>26.0</td>\n",
       "      <td>33.0</td>\n",
       "      <td>788.0</td>\n",
       "    </tr>\n",
       "    <tr>\n",
       "      <th>JFK</th>\n",
       "      <td>285774.0</td>\n",
       "      <td>24.0</td>\n",
       "      <td>11.0</td>\n",
       "      <td>0.0</td>\n",
       "      <td>18.0</td>\n",
       "      <td>22.0</td>\n",
       "      <td>29.0</td>\n",
       "      <td>1645.0</td>\n",
       "    </tr>\n",
       "    <tr>\n",
       "      <th>LGA</th>\n",
       "      <td>381334.0</td>\n",
       "      <td>19.0</td>\n",
       "      <td>8.0</td>\n",
       "      <td>0.0</td>\n",
       "      <td>13.0</td>\n",
       "      <td>17.0</td>\n",
       "      <td>23.0</td>\n",
       "      <td>793.0</td>\n",
       "    </tr>\n",
       "    <tr>\n",
       "      <th>None</th>\n",
       "      <td>8798287.0</td>\n",
       "      <td>11.0</td>\n",
       "      <td>6.0</td>\n",
       "      <td>0.0</td>\n",
       "      <td>7.0</td>\n",
       "      <td>10.0</td>\n",
       "      <td>13.0</td>\n",
       "      <td>1788.0</td>\n",
       "    </tr>\n",
       "  </tbody>\n",
       "</table>\n",
       "</div>"
      ],
      "text/plain": [
       "                 count  mean   std  min   25%   50%   75%     max\n",
       "Airport_Ind                                                      \n",
       "EWR            17899.0  27.0  12.0  1.0  20.0  26.0  33.0   788.0\n",
       "JFK           285774.0  24.0  11.0  0.0  18.0  22.0  29.0  1645.0\n",
       "LGA           381334.0  19.0   8.0  0.0  13.0  17.0  23.0   793.0\n",
       "None         8798287.0  11.0   6.0  0.0   7.0  10.0  13.0  1788.0"
      ]
     },
     "execution_count": 50,
     "metadata": {},
     "output_type": "execute_result"
    }
   ],
   "source": [
    "print(\"Distribution of Trip Speed by Airport Classification\")\n",
    "np.around(data_merged.groupby(['Airport_Ind'])['speed_mph'].describe(),0)"
   ]
  },
  {
   "cell_type": "code",
   "execution_count": 51,
   "metadata": {},
   "outputs": [
    {
     "data": {
      "text/plain": [
       "Airport_Ind       \n",
       "EWR          0.995    48.648023\n",
       "JFK          0.995    48.177541\n",
       "LGA          0.995    40.790472\n",
       "None         0.995    29.608825\n",
       "Name: speed_mph, dtype: float64"
      ]
     },
     "execution_count": 51,
     "metadata": {},
     "output_type": "execute_result"
    }
   ],
   "source": [
    "data_merged.groupby(['Airport_Ind'])['speed_mph'].quantile([0.995])"
   ]
  },
  {
   "cell_type": "markdown",
   "metadata": {},
   "source": [
    "The airport trips have a much higher speed than those trips not to the airport. I want to review those trips with high speeds that are not going to the airport. "
   ]
  },
  {
   "cell_type": "code",
   "execution_count": 52,
   "metadata": {},
   "outputs": [
    {
     "name": "stdout",
     "output_type": "stream",
     "text": [
      "Top Ten Fastest No Airport Trips With A Speed Greater than 50 mph\n"
     ]
    },
    {
     "data": {
      "text/html": [
       "<div>\n",
       "<style scoped>\n",
       "    .dataframe tbody tr th:only-of-type {\n",
       "        vertical-align: middle;\n",
       "    }\n",
       "\n",
       "    .dataframe tbody tr th {\n",
       "        vertical-align: top;\n",
       "    }\n",
       "\n",
       "    .dataframe thead th {\n",
       "        text-align: right;\n",
       "    }\n",
       "</style>\n",
       "<table border=\"1\" class=\"dataframe\">\n",
       "  <thead>\n",
       "    <tr style=\"text-align: right;\">\n",
       "      <th></th>\n",
       "      <th>PULocationID</th>\n",
       "      <th>Borough_PU</th>\n",
       "      <th>Zone_PU</th>\n",
       "      <th>DOLocationID</th>\n",
       "      <th>Borough_DO</th>\n",
       "      <th>Zone_DO</th>\n",
       "      <th>PU_time</th>\n",
       "      <th>DO_time</th>\n",
       "      <th>duration_min</th>\n",
       "      <th>trip_distance</th>\n",
       "      <th>direct_distance</th>\n",
       "      <th>fare_amount</th>\n",
       "      <th>speed_mph</th>\n",
       "      <th>dollar_per_min</th>\n",
       "    </tr>\n",
       "  </thead>\n",
       "  <tbody>\n",
       "    <tr>\n",
       "      <th>701994</th>\n",
       "      <td>265</td>\n",
       "      <td>Unknown</td>\n",
       "      <td>unknown</td>\n",
       "      <td>265</td>\n",
       "      <td>Unknown</td>\n",
       "      <td>unknown</td>\n",
       "      <td>2017-06-03 01:14:29</td>\n",
       "      <td>2017-06-03 01:15:30</td>\n",
       "      <td>1.016667</td>\n",
       "      <td>30.3</td>\n",
       "      <td>999.0</td>\n",
       "      <td>40.00</td>\n",
       "      <td>1788.196789</td>\n",
       "      <td>39.344263</td>\n",
       "    </tr>\n",
       "    <tr>\n",
       "      <th>2480458</th>\n",
       "      <td>265</td>\n",
       "      <td>Unknown</td>\n",
       "      <td>unknown</td>\n",
       "      <td>265</td>\n",
       "      <td>Unknown</td>\n",
       "      <td>unknown</td>\n",
       "      <td>2017-06-08 17:09:02</td>\n",
       "      <td>2017-06-08 17:10:19</td>\n",
       "      <td>1.283333</td>\n",
       "      <td>35.8</td>\n",
       "      <td>999.0</td>\n",
       "      <td>179.06</td>\n",
       "      <td>1673.766275</td>\n",
       "      <td>139.527276</td>\n",
       "    </tr>\n",
       "    <tr>\n",
       "      <th>8181195</th>\n",
       "      <td>265</td>\n",
       "      <td>Unknown</td>\n",
       "      <td>unknown</td>\n",
       "      <td>265</td>\n",
       "      <td>Unknown</td>\n",
       "      <td>unknown</td>\n",
       "      <td>2017-06-26 19:16:00</td>\n",
       "      <td>2017-06-26 19:17:05</td>\n",
       "      <td>1.083333</td>\n",
       "      <td>28.1</td>\n",
       "      <td>999.0</td>\n",
       "      <td>195.00</td>\n",
       "      <td>1556.307625</td>\n",
       "      <td>179.999993</td>\n",
       "    </tr>\n",
       "    <tr>\n",
       "      <th>7951759</th>\n",
       "      <td>265</td>\n",
       "      <td>Unknown</td>\n",
       "      <td>unknown</td>\n",
       "      <td>265</td>\n",
       "      <td>Unknown</td>\n",
       "      <td>unknown</td>\n",
       "      <td>2017-06-25 22:21:10</td>\n",
       "      <td>2017-06-25 22:22:36</td>\n",
       "      <td>1.433333</td>\n",
       "      <td>35.1</td>\n",
       "      <td>999.0</td>\n",
       "      <td>128.00</td>\n",
       "      <td>1469.302390</td>\n",
       "      <td>89.302329</td>\n",
       "    </tr>\n",
       "    <tr>\n",
       "      <th>8909551</th>\n",
       "      <td>265</td>\n",
       "      <td>Unknown</td>\n",
       "      <td>unknown</td>\n",
       "      <td>265</td>\n",
       "      <td>Unknown</td>\n",
       "      <td>unknown</td>\n",
       "      <td>2017-06-29 06:14:12</td>\n",
       "      <td>2017-06-29 06:15:23</td>\n",
       "      <td>1.183333</td>\n",
       "      <td>28.2</td>\n",
       "      <td>999.0</td>\n",
       "      <td>130.00</td>\n",
       "      <td>1429.859213</td>\n",
       "      <td>109.859160</td>\n",
       "    </tr>\n",
       "    <tr>\n",
       "      <th>479514</th>\n",
       "      <td>265</td>\n",
       "      <td>Unknown</td>\n",
       "      <td>unknown</td>\n",
       "      <td>265</td>\n",
       "      <td>Unknown</td>\n",
       "      <td>unknown</td>\n",
       "      <td>2017-06-02 12:57:58</td>\n",
       "      <td>2017-06-02 12:59:07</td>\n",
       "      <td>1.150000</td>\n",
       "      <td>26.8</td>\n",
       "      <td>999.0</td>\n",
       "      <td>106.00</td>\n",
       "      <td>1398.260844</td>\n",
       "      <td>92.173915</td>\n",
       "    </tr>\n",
       "    <tr>\n",
       "      <th>8829696</th>\n",
       "      <td>265</td>\n",
       "      <td>Unknown</td>\n",
       "      <td>unknown</td>\n",
       "      <td>265</td>\n",
       "      <td>Unknown</td>\n",
       "      <td>unknown</td>\n",
       "      <td>2017-06-28 21:14:02</td>\n",
       "      <td>2017-06-28 21:15:05</td>\n",
       "      <td>1.050000</td>\n",
       "      <td>24.2</td>\n",
       "      <td>999.0</td>\n",
       "      <td>119.99</td>\n",
       "      <td>1382.857137</td>\n",
       "      <td>114.276196</td>\n",
       "    </tr>\n",
       "    <tr>\n",
       "      <th>7846562</th>\n",
       "      <td>265</td>\n",
       "      <td>Unknown</td>\n",
       "      <td>unknown</td>\n",
       "      <td>265</td>\n",
       "      <td>Unknown</td>\n",
       "      <td>unknown</td>\n",
       "      <td>2017-06-25 13:03:43</td>\n",
       "      <td>2017-06-25 13:04:49</td>\n",
       "      <td>1.100000</td>\n",
       "      <td>22.6</td>\n",
       "      <td>999.0</td>\n",
       "      <td>98.00</td>\n",
       "      <td>1232.727196</td>\n",
       "      <td>89.090907</td>\n",
       "    </tr>\n",
       "    <tr>\n",
       "      <th>7940526</th>\n",
       "      <td>265</td>\n",
       "      <td>Unknown</td>\n",
       "      <td>unknown</td>\n",
       "      <td>265</td>\n",
       "      <td>Unknown</td>\n",
       "      <td>unknown</td>\n",
       "      <td>2017-06-25 21:17:56</td>\n",
       "      <td>2017-06-25 21:19:17</td>\n",
       "      <td>1.350000</td>\n",
       "      <td>27.7</td>\n",
       "      <td>999.0</td>\n",
       "      <td>125.00</td>\n",
       "      <td>1231.111062</td>\n",
       "      <td>92.592591</td>\n",
       "    </tr>\n",
       "    <tr>\n",
       "      <th>4894235</th>\n",
       "      <td>265</td>\n",
       "      <td>Unknown</td>\n",
       "      <td>unknown</td>\n",
       "      <td>265</td>\n",
       "      <td>Unknown</td>\n",
       "      <td>unknown</td>\n",
       "      <td>2017-06-16 00:34:43</td>\n",
       "      <td>2017-06-16 00:35:45</td>\n",
       "      <td>1.033333</td>\n",
       "      <td>20.7</td>\n",
       "      <td>999.0</td>\n",
       "      <td>106.50</td>\n",
       "      <td>1201.935504</td>\n",
       "      <td>103.064519</td>\n",
       "    </tr>\n",
       "  </tbody>\n",
       "</table>\n",
       "</div>"
      ],
      "text/plain": [
       "         PULocationID Borough_PU  Zone_PU  DOLocationID Borough_DO  Zone_DO  \\\n",
       "701994            265    Unknown  unknown           265    Unknown  unknown   \n",
       "2480458           265    Unknown  unknown           265    Unknown  unknown   \n",
       "8181195           265    Unknown  unknown           265    Unknown  unknown   \n",
       "7951759           265    Unknown  unknown           265    Unknown  unknown   \n",
       "8909551           265    Unknown  unknown           265    Unknown  unknown   \n",
       "479514            265    Unknown  unknown           265    Unknown  unknown   \n",
       "8829696           265    Unknown  unknown           265    Unknown  unknown   \n",
       "7846562           265    Unknown  unknown           265    Unknown  unknown   \n",
       "7940526           265    Unknown  unknown           265    Unknown  unknown   \n",
       "4894235           265    Unknown  unknown           265    Unknown  unknown   \n",
       "\n",
       "                    PU_time             DO_time  duration_min  trip_distance  \\\n",
       "701994  2017-06-03 01:14:29 2017-06-03 01:15:30      1.016667           30.3   \n",
       "2480458 2017-06-08 17:09:02 2017-06-08 17:10:19      1.283333           35.8   \n",
       "8181195 2017-06-26 19:16:00 2017-06-26 19:17:05      1.083333           28.1   \n",
       "7951759 2017-06-25 22:21:10 2017-06-25 22:22:36      1.433333           35.1   \n",
       "8909551 2017-06-29 06:14:12 2017-06-29 06:15:23      1.183333           28.2   \n",
       "479514  2017-06-02 12:57:58 2017-06-02 12:59:07      1.150000           26.8   \n",
       "8829696 2017-06-28 21:14:02 2017-06-28 21:15:05      1.050000           24.2   \n",
       "7846562 2017-06-25 13:03:43 2017-06-25 13:04:49      1.100000           22.6   \n",
       "7940526 2017-06-25 21:17:56 2017-06-25 21:19:17      1.350000           27.7   \n",
       "4894235 2017-06-16 00:34:43 2017-06-16 00:35:45      1.033333           20.7   \n",
       "\n",
       "         direct_distance  fare_amount    speed_mph  dollar_per_min  \n",
       "701994             999.0        40.00  1788.196789       39.344263  \n",
       "2480458            999.0       179.06  1673.766275      139.527276  \n",
       "8181195            999.0       195.00  1556.307625      179.999993  \n",
       "7951759            999.0       128.00  1469.302390       89.302329  \n",
       "8909551            999.0       130.00  1429.859213      109.859160  \n",
       "479514             999.0       106.00  1398.260844       92.173915  \n",
       "8829696            999.0       119.99  1382.857137      114.276196  \n",
       "7846562            999.0        98.00  1232.727196       89.090907  \n",
       "7940526            999.0       125.00  1231.111062       92.592591  \n",
       "4894235            999.0       106.50  1201.935504      103.064519  "
      ]
     },
     "execution_count": 52,
     "metadata": {},
     "output_type": "execute_result"
    }
   ],
   "source": [
    "df=data_merged.query('speed_mph>50 and Airport_Ind==\"None\"')\n",
    "df=df[['PULocationID','Borough_PU','Zone_PU','DOLocationID','Borough_DO','Zone_DO','PU_time','DO_time',\n",
    "       'duration_min','trip_distance','direct_distance','fare_amount','speed_mph','dollar_per_min']]\n",
    "df=df.sort_values(by=['speed_mph'],ascending=False)\n",
    "print(\"Top Ten Fastest No Airport Trips With A Speed Greater than 50 mph\")                    \n",
    "df.head(10)"
   ]
  },
  {
   "cell_type": "code",
   "execution_count": 53,
   "metadata": {},
   "outputs": [
    {
     "name": "stdout",
     "output_type": "stream",
     "text": [
      "Bottom Ten Slowest No Airport Trips With A Speed Greater than 50 mph\n"
     ]
    },
    {
     "data": {
      "text/html": [
       "<div>\n",
       "<style scoped>\n",
       "    .dataframe tbody tr th:only-of-type {\n",
       "        vertical-align: middle;\n",
       "    }\n",
       "\n",
       "    .dataframe tbody tr th {\n",
       "        vertical-align: top;\n",
       "    }\n",
       "\n",
       "    .dataframe thead th {\n",
       "        text-align: right;\n",
       "    }\n",
       "</style>\n",
       "<table border=\"1\" class=\"dataframe\">\n",
       "  <thead>\n",
       "    <tr style=\"text-align: right;\">\n",
       "      <th></th>\n",
       "      <th>PULocationID</th>\n",
       "      <th>Borough_PU</th>\n",
       "      <th>Zone_PU</th>\n",
       "      <th>DOLocationID</th>\n",
       "      <th>Borough_DO</th>\n",
       "      <th>Zone_DO</th>\n",
       "      <th>PU_time</th>\n",
       "      <th>DO_time</th>\n",
       "      <th>duration_min</th>\n",
       "      <th>trip_distance</th>\n",
       "      <th>direct_distance</th>\n",
       "      <th>fare_amount</th>\n",
       "      <th>speed_mph</th>\n",
       "      <th>dollar_per_min</th>\n",
       "    </tr>\n",
       "  </thead>\n",
       "  <tbody>\n",
       "    <tr>\n",
       "      <th>6120493</th>\n",
       "      <td>264</td>\n",
       "      <td>Unknown</td>\n",
       "      <td>NV</td>\n",
       "      <td>264</td>\n",
       "      <td>Unknown</td>\n",
       "      <td>NV</td>\n",
       "      <td>2017-06-20 03:35:20</td>\n",
       "      <td>2017-06-20 03:51:24</td>\n",
       "      <td>16.066668</td>\n",
       "      <td>13.39</td>\n",
       "      <td>999.000000</td>\n",
       "      <td>36.0</td>\n",
       "      <td>50.004145</td>\n",
       "      <td>2.240664</td>\n",
       "    </tr>\n",
       "    <tr>\n",
       "      <th>7803631</th>\n",
       "      <td>74</td>\n",
       "      <td>Manhattan</td>\n",
       "      <td>East Harlem North</td>\n",
       "      <td>216</td>\n",
       "      <td>Queens</td>\n",
       "      <td>South Ozone Park</td>\n",
       "      <td>2017-06-25 09:04:00</td>\n",
       "      <td>2017-06-25 09:20:54</td>\n",
       "      <td>16.900000</td>\n",
       "      <td>14.10</td>\n",
       "      <td>27.996801</td>\n",
       "      <td>52.0</td>\n",
       "      <td>50.059172</td>\n",
       "      <td>3.076923</td>\n",
       "    </tr>\n",
       "    <tr>\n",
       "      <th>187288</th>\n",
       "      <td>124</td>\n",
       "      <td>Queens</td>\n",
       "      <td>Howard Beach</td>\n",
       "      <td>219</td>\n",
       "      <td>Queens</td>\n",
       "      <td>Springfield Gardens South</td>\n",
       "      <td>2017-06-01 16:24:25</td>\n",
       "      <td>2017-06-01 16:26:56</td>\n",
       "      <td>2.516667</td>\n",
       "      <td>2.10</td>\n",
       "      <td>12.081978</td>\n",
       "      <td>7.5</td>\n",
       "      <td>50.066225</td>\n",
       "      <td>2.980132</td>\n",
       "    </tr>\n",
       "    <tr>\n",
       "      <th>7109724</th>\n",
       "      <td>48</td>\n",
       "      <td>Manhattan</td>\n",
       "      <td>Clinton East</td>\n",
       "      <td>265</td>\n",
       "      <td>Unknown</td>\n",
       "      <td>unknown</td>\n",
       "      <td>2017-06-23 04:02:15</td>\n",
       "      <td>2017-06-23 04:51:48</td>\n",
       "      <td>49.549999</td>\n",
       "      <td>41.35</td>\n",
       "      <td>999.000000</td>\n",
       "      <td>180.0</td>\n",
       "      <td>50.070636</td>\n",
       "      <td>3.632694</td>\n",
       "    </tr>\n",
       "    <tr>\n",
       "      <th>1598088</th>\n",
       "      <td>14</td>\n",
       "      <td>Brooklyn</td>\n",
       "      <td>Bay Ridge</td>\n",
       "      <td>219</td>\n",
       "      <td>Queens</td>\n",
       "      <td>Springfield Gardens South</td>\n",
       "      <td>2017-06-05 23:30:07</td>\n",
       "      <td>2017-06-05 23:56:00</td>\n",
       "      <td>25.883333</td>\n",
       "      <td>21.60</td>\n",
       "      <td>37.169357</td>\n",
       "      <td>56.5</td>\n",
       "      <td>50.070831</td>\n",
       "      <td>2.182872</td>\n",
       "    </tr>\n",
       "    <tr>\n",
       "      <th>7787856</th>\n",
       "      <td>230</td>\n",
       "      <td>Manhattan</td>\n",
       "      <td>Times Sq/Theatre District</td>\n",
       "      <td>265</td>\n",
       "      <td>Unknown</td>\n",
       "      <td>unknown</td>\n",
       "      <td>2017-06-25 05:49:59</td>\n",
       "      <td>2017-06-25 06:33:53</td>\n",
       "      <td>43.900002</td>\n",
       "      <td>36.64</td>\n",
       "      <td>999.000000</td>\n",
       "      <td>146.0</td>\n",
       "      <td>50.077448</td>\n",
       "      <td>3.325740</td>\n",
       "    </tr>\n",
       "    <tr>\n",
       "      <th>1949344</th>\n",
       "      <td>163</td>\n",
       "      <td>Manhattan</td>\n",
       "      <td>Midtown North</td>\n",
       "      <td>265</td>\n",
       "      <td>Unknown</td>\n",
       "      <td>unknown</td>\n",
       "      <td>2017-06-07 01:16:26</td>\n",
       "      <td>2017-06-07 02:12:37</td>\n",
       "      <td>56.183334</td>\n",
       "      <td>46.90</td>\n",
       "      <td>999.000000</td>\n",
       "      <td>150.0</td>\n",
       "      <td>50.086027</td>\n",
       "      <td>2.669831</td>\n",
       "    </tr>\n",
       "    <tr>\n",
       "      <th>8918556</th>\n",
       "      <td>93</td>\n",
       "      <td>Queens</td>\n",
       "      <td>Flushing Meadows-Corona Park</td>\n",
       "      <td>93</td>\n",
       "      <td>Queens</td>\n",
       "      <td>Flushing Meadows-Corona Park</td>\n",
       "      <td>2017-06-29 07:09:14</td>\n",
       "      <td>2017-06-29 07:11:52</td>\n",
       "      <td>2.633333</td>\n",
       "      <td>2.20</td>\n",
       "      <td>0.000000</td>\n",
       "      <td>8.0</td>\n",
       "      <td>50.126582</td>\n",
       "      <td>3.037975</td>\n",
       "    </tr>\n",
       "    <tr>\n",
       "      <th>1433604</th>\n",
       "      <td>70</td>\n",
       "      <td>Queens</td>\n",
       "      <td>East Elmhurst</td>\n",
       "      <td>265</td>\n",
       "      <td>Unknown</td>\n",
       "      <td>unknown</td>\n",
       "      <td>2017-06-05 13:50:49</td>\n",
       "      <td>2017-06-05 14:15:57</td>\n",
       "      <td>25.133333</td>\n",
       "      <td>21.00</td>\n",
       "      <td>999.000000</td>\n",
       "      <td>100.0</td>\n",
       "      <td>50.132625</td>\n",
       "      <td>3.978780</td>\n",
       "    </tr>\n",
       "    <tr>\n",
       "      <th>2021154</th>\n",
       "      <td>50</td>\n",
       "      <td>Manhattan</td>\n",
       "      <td>Clinton West</td>\n",
       "      <td>265</td>\n",
       "      <td>Unknown</td>\n",
       "      <td>unknown</td>\n",
       "      <td>2017-06-07 09:52:33</td>\n",
       "      <td>2017-06-07 10:29:40</td>\n",
       "      <td>37.116665</td>\n",
       "      <td>31.02</td>\n",
       "      <td>999.000000</td>\n",
       "      <td>80.5</td>\n",
       "      <td>50.144590</td>\n",
       "      <td>2.168837</td>\n",
       "    </tr>\n",
       "  </tbody>\n",
       "</table>\n",
       "</div>"
      ],
      "text/plain": [
       "         PULocationID Borough_PU                       Zone_PU  DOLocationID  \\\n",
       "6120493           264    Unknown                            NV           264   \n",
       "7803631            74  Manhattan             East Harlem North           216   \n",
       "187288            124     Queens                  Howard Beach           219   \n",
       "7109724            48  Manhattan                  Clinton East           265   \n",
       "1598088            14   Brooklyn                     Bay Ridge           219   \n",
       "7787856           230  Manhattan     Times Sq/Theatre District           265   \n",
       "1949344           163  Manhattan                 Midtown North           265   \n",
       "8918556            93     Queens  Flushing Meadows-Corona Park            93   \n",
       "1433604            70     Queens                 East Elmhurst           265   \n",
       "2021154            50  Manhattan                  Clinton West           265   \n",
       "\n",
       "        Borough_DO                       Zone_DO             PU_time  \\\n",
       "6120493    Unknown                            NV 2017-06-20 03:35:20   \n",
       "7803631     Queens              South Ozone Park 2017-06-25 09:04:00   \n",
       "187288      Queens     Springfield Gardens South 2017-06-01 16:24:25   \n",
       "7109724    Unknown                       unknown 2017-06-23 04:02:15   \n",
       "1598088     Queens     Springfield Gardens South 2017-06-05 23:30:07   \n",
       "7787856    Unknown                       unknown 2017-06-25 05:49:59   \n",
       "1949344    Unknown                       unknown 2017-06-07 01:16:26   \n",
       "8918556     Queens  Flushing Meadows-Corona Park 2017-06-29 07:09:14   \n",
       "1433604    Unknown                       unknown 2017-06-05 13:50:49   \n",
       "2021154    Unknown                       unknown 2017-06-07 09:52:33   \n",
       "\n",
       "                    DO_time  duration_min  trip_distance  direct_distance  \\\n",
       "6120493 2017-06-20 03:51:24     16.066668          13.39       999.000000   \n",
       "7803631 2017-06-25 09:20:54     16.900000          14.10        27.996801   \n",
       "187288  2017-06-01 16:26:56      2.516667           2.10        12.081978   \n",
       "7109724 2017-06-23 04:51:48     49.549999          41.35       999.000000   \n",
       "1598088 2017-06-05 23:56:00     25.883333          21.60        37.169357   \n",
       "7787856 2017-06-25 06:33:53     43.900002          36.64       999.000000   \n",
       "1949344 2017-06-07 02:12:37     56.183334          46.90       999.000000   \n",
       "8918556 2017-06-29 07:11:52      2.633333           2.20         0.000000   \n",
       "1433604 2017-06-05 14:15:57     25.133333          21.00       999.000000   \n",
       "2021154 2017-06-07 10:29:40     37.116665          31.02       999.000000   \n",
       "\n",
       "         fare_amount  speed_mph  dollar_per_min  \n",
       "6120493         36.0  50.004145        2.240664  \n",
       "7803631         52.0  50.059172        3.076923  \n",
       "187288           7.5  50.066225        2.980132  \n",
       "7109724        180.0  50.070636        3.632694  \n",
       "1598088         56.5  50.070831        2.182872  \n",
       "7787856        146.0  50.077448        3.325740  \n",
       "1949344        150.0  50.086027        2.669831  \n",
       "8918556          8.0  50.126582        3.037975  \n",
       "1433604        100.0  50.132625        3.978780  \n",
       "2021154         80.5  50.144590        2.168837  "
      ]
     },
     "execution_count": 53,
     "metadata": {},
     "output_type": "execute_result"
    }
   ],
   "source": [
    "df=data_merged.query('speed_mph>50 and Airport_Ind==\"None\"')\n",
    "df=df[['PULocationID','Borough_PU','Zone_PU','DOLocationID','Borough_DO','Zone_DO','PU_time','DO_time',\n",
    "       'duration_min','trip_distance','direct_distance','fare_amount','speed_mph','dollar_per_min']]\n",
    "df=df.sort_values(by=['speed_mph'],ascending=True)\n",
    "print(\"Bottom Ten Slowest No Airport Trips With A Speed Greater than 50 mph\")                    \n",
    "df.head(10)"
   ]
  },
  {
   "cell_type": "markdown",
   "metadata": {},
   "source": [
    "I debated applying a different speed outlier threshold to airport trips vs nonairport trips. After reviewing the high speed trips (speed>50mph) for non airport trips, I determined that the duration values are wrong for trips with extreme speeds and cannot be properly imputed due to the high occurance of unknown pickup and dropoff locations. The non airport trips that have speeds of approximately 50 mph have relatively appropriate duration, distance, and speed combinations. I will apply the same speed outlier filter for all trips, regardless of airport classification. I will drop all trips with a speed greater than 65 mph."
   ]
  },
  {
   "cell_type": "markdown",
   "metadata": {},
   "source": [
    "####  Trips with Low Speed "
   ]
  },
  {
   "cell_type": "code",
   "execution_count": 54,
   "metadata": {},
   "outputs": [
    {
     "name": "stdout",
     "output_type": "stream",
     "text": [
      "Slowest 10 Trips\n"
     ]
    },
    {
     "data": {
      "text/html": [
       "<div>\n",
       "<style scoped>\n",
       "    .dataframe tbody tr th:only-of-type {\n",
       "        vertical-align: middle;\n",
       "    }\n",
       "\n",
       "    .dataframe tbody tr th {\n",
       "        vertical-align: top;\n",
       "    }\n",
       "\n",
       "    .dataframe thead th {\n",
       "        text-align: right;\n",
       "    }\n",
       "</style>\n",
       "<table border=\"1\" class=\"dataframe\">\n",
       "  <thead>\n",
       "    <tr style=\"text-align: right;\">\n",
       "      <th></th>\n",
       "      <th>PULocationID</th>\n",
       "      <th>Borough_PU</th>\n",
       "      <th>Zone_PU</th>\n",
       "      <th>DOLocationID</th>\n",
       "      <th>Borough_DO</th>\n",
       "      <th>Zone_DO</th>\n",
       "      <th>PU_time</th>\n",
       "      <th>DO_time</th>\n",
       "      <th>duration_min</th>\n",
       "      <th>trip_distance</th>\n",
       "      <th>direct_distance</th>\n",
       "      <th>fare_amount</th>\n",
       "      <th>speed_mph</th>\n",
       "      <th>dollar_per_min</th>\n",
       "    </tr>\n",
       "  </thead>\n",
       "  <tbody>\n",
       "    <tr>\n",
       "      <th>9271057</th>\n",
       "      <td>161</td>\n",
       "      <td>Manhattan</td>\n",
       "      <td>Midtown Center</td>\n",
       "      <td>161</td>\n",
       "      <td>Manhattan</td>\n",
       "      <td>Midtown Center</td>\n",
       "      <td>2017-06-30 09:57:23</td>\n",
       "      <td>2017-06-30 11:26:55</td>\n",
       "      <td>89.533333</td>\n",
       "      <td>0.20</td>\n",
       "      <td>0.000000</td>\n",
       "      <td>4.5</td>\n",
       "      <td>0.134028</td>\n",
       "      <td>0.050261</td>\n",
       "    </tr>\n",
       "    <tr>\n",
       "      <th>2123741</th>\n",
       "      <td>211</td>\n",
       "      <td>Manhattan</td>\n",
       "      <td>SoHo</td>\n",
       "      <td>144</td>\n",
       "      <td>Manhattan</td>\n",
       "      <td>Little Italy/NoLiTa</td>\n",
       "      <td>2017-06-07 16:06:51</td>\n",
       "      <td>2017-06-07 17:32:01</td>\n",
       "      <td>85.166664</td>\n",
       "      <td>0.20</td>\n",
       "      <td>0.801303</td>\n",
       "      <td>45.0</td>\n",
       "      <td>0.140900</td>\n",
       "      <td>0.528376</td>\n",
       "    </tr>\n",
       "    <tr>\n",
       "      <th>2810254</th>\n",
       "      <td>132</td>\n",
       "      <td>Queens</td>\n",
       "      <td>JFK Airport</td>\n",
       "      <td>79</td>\n",
       "      <td>Manhattan</td>\n",
       "      <td>East Village</td>\n",
       "      <td>2017-06-09 16:02:14</td>\n",
       "      <td>2017-06-09 17:11:53</td>\n",
       "      <td>69.650002</td>\n",
       "      <td>0.20</td>\n",
       "      <td>31.966752</td>\n",
       "      <td>52.0</td>\n",
       "      <td>0.172290</td>\n",
       "      <td>0.746590</td>\n",
       "    </tr>\n",
       "    <tr>\n",
       "      <th>5786236</th>\n",
       "      <td>230</td>\n",
       "      <td>Manhattan</td>\n",
       "      <td>Times Sq/Theatre District</td>\n",
       "      <td>100</td>\n",
       "      <td>Manhattan</td>\n",
       "      <td>Garment District</td>\n",
       "      <td>2017-06-18 22:03:38</td>\n",
       "      <td>2017-06-18 23:06:37</td>\n",
       "      <td>62.983334</td>\n",
       "      <td>0.20</td>\n",
       "      <td>1.293779</td>\n",
       "      <td>34.0</td>\n",
       "      <td>0.190527</td>\n",
       "      <td>0.539825</td>\n",
       "    </tr>\n",
       "    <tr>\n",
       "      <th>6216529</th>\n",
       "      <td>140</td>\n",
       "      <td>Manhattan</td>\n",
       "      <td>Lenox Hill East</td>\n",
       "      <td>140</td>\n",
       "      <td>Manhattan</td>\n",
       "      <td>Lenox Hill East</td>\n",
       "      <td>2017-06-20 12:09:01</td>\n",
       "      <td>2017-06-20 13:28:59</td>\n",
       "      <td>79.966667</td>\n",
       "      <td>0.26</td>\n",
       "      <td>0.000000</td>\n",
       "      <td>37.5</td>\n",
       "      <td>0.195081</td>\n",
       "      <td>0.468945</td>\n",
       "    </tr>\n",
       "    <tr>\n",
       "      <th>927523</th>\n",
       "      <td>132</td>\n",
       "      <td>Queens</td>\n",
       "      <td>JFK Airport</td>\n",
       "      <td>97</td>\n",
       "      <td>Brooklyn</td>\n",
       "      <td>Fort Greene</td>\n",
       "      <td>2017-06-03 19:11:02</td>\n",
       "      <td>2017-06-03 20:12:19</td>\n",
       "      <td>61.283333</td>\n",
       "      <td>0.20</td>\n",
       "      <td>28.126947</td>\n",
       "      <td>33.0</td>\n",
       "      <td>0.195812</td>\n",
       "      <td>0.538482</td>\n",
       "    </tr>\n",
       "    <tr>\n",
       "      <th>8272526</th>\n",
       "      <td>162</td>\n",
       "      <td>Manhattan</td>\n",
       "      <td>Midtown East</td>\n",
       "      <td>170</td>\n",
       "      <td>Manhattan</td>\n",
       "      <td>Murray Hill</td>\n",
       "      <td>2017-06-27 05:50:12</td>\n",
       "      <td>2017-06-27 06:46:40</td>\n",
       "      <td>56.466667</td>\n",
       "      <td>0.20</td>\n",
       "      <td>1.763758</td>\n",
       "      <td>30.5</td>\n",
       "      <td>0.212515</td>\n",
       "      <td>0.540142</td>\n",
       "    </tr>\n",
       "    <tr>\n",
       "      <th>6880803</th>\n",
       "      <td>164</td>\n",
       "      <td>Manhattan</td>\n",
       "      <td>Midtown South</td>\n",
       "      <td>70</td>\n",
       "      <td>Queens</td>\n",
       "      <td>East Elmhurst</td>\n",
       "      <td>2017-06-22 13:12:40</td>\n",
       "      <td>2017-06-22 14:34:10</td>\n",
       "      <td>81.500000</td>\n",
       "      <td>0.31</td>\n",
       "      <td>16.159842</td>\n",
       "      <td>45.0</td>\n",
       "      <td>0.228221</td>\n",
       "      <td>0.552147</td>\n",
       "    </tr>\n",
       "    <tr>\n",
       "      <th>3758303</th>\n",
       "      <td>25</td>\n",
       "      <td>Brooklyn</td>\n",
       "      <td>Boerum Hill</td>\n",
       "      <td>132</td>\n",
       "      <td>Queens</td>\n",
       "      <td>JFK Airport</td>\n",
       "      <td>2017-06-12 17:20:50</td>\n",
       "      <td>2017-06-12 18:35:06</td>\n",
       "      <td>74.266670</td>\n",
       "      <td>0.30</td>\n",
       "      <td>29.290158</td>\n",
       "      <td>4.0</td>\n",
       "      <td>0.242370</td>\n",
       "      <td>0.053860</td>\n",
       "    </tr>\n",
       "    <tr>\n",
       "      <th>4311987</th>\n",
       "      <td>170</td>\n",
       "      <td>Manhattan</td>\n",
       "      <td>Murray Hill</td>\n",
       "      <td>48</td>\n",
       "      <td>Manhattan</td>\n",
       "      <td>Clinton East</td>\n",
       "      <td>2017-06-14 11:25:17</td>\n",
       "      <td>2017-06-14 12:18:01</td>\n",
       "      <td>52.733334</td>\n",
       "      <td>0.23</td>\n",
       "      <td>3.142386</td>\n",
       "      <td>4.5</td>\n",
       "      <td>0.261694</td>\n",
       "      <td>0.085335</td>\n",
       "    </tr>\n",
       "  </tbody>\n",
       "</table>\n",
       "</div>"
      ],
      "text/plain": [
       "         PULocationID Borough_PU                    Zone_PU  DOLocationID  \\\n",
       "9271057           161  Manhattan             Midtown Center           161   \n",
       "2123741           211  Manhattan                       SoHo           144   \n",
       "2810254           132     Queens                JFK Airport            79   \n",
       "5786236           230  Manhattan  Times Sq/Theatre District           100   \n",
       "6216529           140  Manhattan            Lenox Hill East           140   \n",
       "927523            132     Queens                JFK Airport            97   \n",
       "8272526           162  Manhattan               Midtown East           170   \n",
       "6880803           164  Manhattan              Midtown South            70   \n",
       "3758303            25   Brooklyn                Boerum Hill           132   \n",
       "4311987           170  Manhattan                Murray Hill            48   \n",
       "\n",
       "        Borough_DO              Zone_DO             PU_time  \\\n",
       "9271057  Manhattan       Midtown Center 2017-06-30 09:57:23   \n",
       "2123741  Manhattan  Little Italy/NoLiTa 2017-06-07 16:06:51   \n",
       "2810254  Manhattan         East Village 2017-06-09 16:02:14   \n",
       "5786236  Manhattan     Garment District 2017-06-18 22:03:38   \n",
       "6216529  Manhattan      Lenox Hill East 2017-06-20 12:09:01   \n",
       "927523    Brooklyn          Fort Greene 2017-06-03 19:11:02   \n",
       "8272526  Manhattan          Murray Hill 2017-06-27 05:50:12   \n",
       "6880803     Queens        East Elmhurst 2017-06-22 13:12:40   \n",
       "3758303     Queens          JFK Airport 2017-06-12 17:20:50   \n",
       "4311987  Manhattan         Clinton East 2017-06-14 11:25:17   \n",
       "\n",
       "                    DO_time  duration_min  trip_distance  direct_distance  \\\n",
       "9271057 2017-06-30 11:26:55     89.533333           0.20         0.000000   \n",
       "2123741 2017-06-07 17:32:01     85.166664           0.20         0.801303   \n",
       "2810254 2017-06-09 17:11:53     69.650002           0.20        31.966752   \n",
       "5786236 2017-06-18 23:06:37     62.983334           0.20         1.293779   \n",
       "6216529 2017-06-20 13:28:59     79.966667           0.26         0.000000   \n",
       "927523  2017-06-03 20:12:19     61.283333           0.20        28.126947   \n",
       "8272526 2017-06-27 06:46:40     56.466667           0.20         1.763758   \n",
       "6880803 2017-06-22 14:34:10     81.500000           0.31        16.159842   \n",
       "3758303 2017-06-12 18:35:06     74.266670           0.30        29.290158   \n",
       "4311987 2017-06-14 12:18:01     52.733334           0.23         3.142386   \n",
       "\n",
       "         fare_amount  speed_mph  dollar_per_min  \n",
       "9271057          4.5   0.134028        0.050261  \n",
       "2123741         45.0   0.140900        0.528376  \n",
       "2810254         52.0   0.172290        0.746590  \n",
       "5786236         34.0   0.190527        0.539825  \n",
       "6216529         37.5   0.195081        0.468945  \n",
       "927523          33.0   0.195812        0.538482  \n",
       "8272526         30.5   0.212515        0.540142  \n",
       "6880803         45.0   0.228221        0.552147  \n",
       "3758303          4.0   0.242370        0.053860  \n",
       "4311987          4.5   0.261694        0.085335  "
      ]
     },
     "execution_count": 54,
     "metadata": {},
     "output_type": "execute_result"
    }
   ],
   "source": [
    "df=data_merged.query('speed_mph<3')\n",
    "df=df[['PULocationID','Borough_PU','Zone_PU','DOLocationID','Borough_DO','Zone_DO','PU_time','DO_time',\n",
    "       'duration_min','trip_distance','direct_distance','fare_amount','speed_mph','dollar_per_min']]\n",
    "df=df.sort_values(by=['speed_mph'])\n",
    "print(\"Slowest 10 Trips\")\n",
    "df.head(10)\n",
    "\n"
   ]
  },
  {
   "cell_type": "markdown",
   "metadata": {},
   "source": [
    "Observations: \n",
    "   * All of these trips have very high durations, very low distances, and high fare amounts. All three metrics are inconsistent. They also have very low rates (dollar per minute). The trips tend to occur in Manhattan. \n",
    "   * The direct distance (Haversine calculation) validates that several of these trips have long distances. Imputing the distance will fix the mph.\n",
    "   * The direct distance also indicates that several of the trips have short distances between pickup and drop off locations. That means that either the location ids are wrong or the duration and fare amounts are wrong. I am unable to validate if the issue occurs with the locationIds, so I will not impute. "
   ]
  },
  {
   "cell_type": "code",
   "execution_count": 55,
   "metadata": {},
   "outputs": [
    {
     "name": "stdout",
     "output_type": "stream",
     "text": [
      "Sample of Trips with a speed of 1 mph\n"
     ]
    },
    {
     "data": {
      "text/html": [
       "<div>\n",
       "<style scoped>\n",
       "    .dataframe tbody tr th:only-of-type {\n",
       "        vertical-align: middle;\n",
       "    }\n",
       "\n",
       "    .dataframe tbody tr th {\n",
       "        vertical-align: top;\n",
       "    }\n",
       "\n",
       "    .dataframe thead th {\n",
       "        text-align: right;\n",
       "    }\n",
       "</style>\n",
       "<table border=\"1\" class=\"dataframe\">\n",
       "  <thead>\n",
       "    <tr style=\"text-align: right;\">\n",
       "      <th></th>\n",
       "      <th>PULocationID</th>\n",
       "      <th>Borough_PU</th>\n",
       "      <th>Zone_PU</th>\n",
       "      <th>DOLocationID</th>\n",
       "      <th>Borough_DO</th>\n",
       "      <th>Zone_DO</th>\n",
       "      <th>PU_time</th>\n",
       "      <th>DO_time</th>\n",
       "      <th>duration_min</th>\n",
       "      <th>trip_distance</th>\n",
       "      <th>direct_distance</th>\n",
       "      <th>fare_amount</th>\n",
       "      <th>speed_mph</th>\n",
       "      <th>dollar_per_min</th>\n",
       "    </tr>\n",
       "  </thead>\n",
       "  <tbody>\n",
       "    <tr>\n",
       "      <th>5350046</th>\n",
       "      <td>48</td>\n",
       "      <td>Manhattan</td>\n",
       "      <td>Clinton East</td>\n",
       "      <td>100</td>\n",
       "      <td>Manhattan</td>\n",
       "      <td>Garment District</td>\n",
       "      <td>2017-06-17 12:30:05</td>\n",
       "      <td>2017-06-17 12:42:05</td>\n",
       "      <td>12.000000</td>\n",
       "      <td>0.20</td>\n",
       "      <td>1.567664</td>\n",
       "      <td>8.5</td>\n",
       "      <td>1.000000</td>\n",
       "      <td>0.708333</td>\n",
       "    </tr>\n",
       "    <tr>\n",
       "      <th>5387985</th>\n",
       "      <td>234</td>\n",
       "      <td>Manhattan</td>\n",
       "      <td>Union Sq</td>\n",
       "      <td>90</td>\n",
       "      <td>Manhattan</td>\n",
       "      <td>Flatiron</td>\n",
       "      <td>2017-06-17 14:26:18</td>\n",
       "      <td>2017-06-17 14:38:18</td>\n",
       "      <td>12.000000</td>\n",
       "      <td>0.20</td>\n",
       "      <td>0.942993</td>\n",
       "      <td>8.0</td>\n",
       "      <td>1.000000</td>\n",
       "      <td>0.666667</td>\n",
       "    </tr>\n",
       "    <tr>\n",
       "      <th>9065532</th>\n",
       "      <td>48</td>\n",
       "      <td>Manhattan</td>\n",
       "      <td>Clinton East</td>\n",
       "      <td>48</td>\n",
       "      <td>Manhattan</td>\n",
       "      <td>Clinton East</td>\n",
       "      <td>2017-06-29 16:55:35</td>\n",
       "      <td>2017-06-29 17:07:35</td>\n",
       "      <td>12.000000</td>\n",
       "      <td>0.20</td>\n",
       "      <td>0.000000</td>\n",
       "      <td>8.5</td>\n",
       "      <td>1.000000</td>\n",
       "      <td>0.708333</td>\n",
       "    </tr>\n",
       "    <tr>\n",
       "      <th>4769692</th>\n",
       "      <td>230</td>\n",
       "      <td>Manhattan</td>\n",
       "      <td>Times Sq/Theatre District</td>\n",
       "      <td>230</td>\n",
       "      <td>Manhattan</td>\n",
       "      <td>Times Sq/Theatre District</td>\n",
       "      <td>2017-06-15 18:21:09</td>\n",
       "      <td>2017-06-15 18:39:09</td>\n",
       "      <td>18.000000</td>\n",
       "      <td>0.30</td>\n",
       "      <td>0.000000</td>\n",
       "      <td>11.5</td>\n",
       "      <td>1.000000</td>\n",
       "      <td>0.638889</td>\n",
       "    </tr>\n",
       "    <tr>\n",
       "      <th>5378194</th>\n",
       "      <td>230</td>\n",
       "      <td>Manhattan</td>\n",
       "      <td>Times Sq/Theatre District</td>\n",
       "      <td>100</td>\n",
       "      <td>Manhattan</td>\n",
       "      <td>Garment District</td>\n",
       "      <td>2017-06-17 13:52:58</td>\n",
       "      <td>2017-06-17 14:04:59</td>\n",
       "      <td>12.016666</td>\n",
       "      <td>0.20</td>\n",
       "      <td>1.293779</td>\n",
       "      <td>8.0</td>\n",
       "      <td>0.998613</td>\n",
       "      <td>0.665742</td>\n",
       "    </tr>\n",
       "    <tr>\n",
       "      <th>7328046</th>\n",
       "      <td>100</td>\n",
       "      <td>Manhattan</td>\n",
       "      <td>Garment District</td>\n",
       "      <td>230</td>\n",
       "      <td>Manhattan</td>\n",
       "      <td>Times Sq/Theatre District</td>\n",
       "      <td>2017-06-23 19:31:02</td>\n",
       "      <td>2017-06-23 19:55:04</td>\n",
       "      <td>24.033333</td>\n",
       "      <td>0.40</td>\n",
       "      <td>1.293779</td>\n",
       "      <td>14.5</td>\n",
       "      <td>0.998613</td>\n",
       "      <td>0.603329</td>\n",
       "    </tr>\n",
       "    <tr>\n",
       "      <th>9080828</th>\n",
       "      <td>100</td>\n",
       "      <td>Manhattan</td>\n",
       "      <td>Garment District</td>\n",
       "      <td>100</td>\n",
       "      <td>Manhattan</td>\n",
       "      <td>Garment District</td>\n",
       "      <td>2017-06-29 18:00:36</td>\n",
       "      <td>2017-06-29 18:16:51</td>\n",
       "      <td>16.250000</td>\n",
       "      <td>0.27</td>\n",
       "      <td>0.000000</td>\n",
       "      <td>10.5</td>\n",
       "      <td>0.996923</td>\n",
       "      <td>0.646154</td>\n",
       "    </tr>\n",
       "    <tr>\n",
       "      <th>9007545</th>\n",
       "      <td>234</td>\n",
       "      <td>Manhattan</td>\n",
       "      <td>Union Sq</td>\n",
       "      <td>164</td>\n",
       "      <td>Manhattan</td>\n",
       "      <td>Midtown South</td>\n",
       "      <td>2017-06-29 13:01:20</td>\n",
       "      <td>2017-06-29 13:17:35</td>\n",
       "      <td>16.250000</td>\n",
       "      <td>0.27</td>\n",
       "      <td>1.640392</td>\n",
       "      <td>10.5</td>\n",
       "      <td>0.996923</td>\n",
       "      <td>0.646154</td>\n",
       "    </tr>\n",
       "    <tr>\n",
       "      <th>8989905</th>\n",
       "      <td>234</td>\n",
       "      <td>Manhattan</td>\n",
       "      <td>Union Sq</td>\n",
       "      <td>186</td>\n",
       "      <td>Manhattan</td>\n",
       "      <td>Penn Station/Madison Sq West</td>\n",
       "      <td>2017-06-29 11:52:04</td>\n",
       "      <td>2017-06-29 12:08:56</td>\n",
       "      <td>16.866667</td>\n",
       "      <td>0.28</td>\n",
       "      <td>1.485164</td>\n",
       "      <td>10.5</td>\n",
       "      <td>0.996047</td>\n",
       "      <td>0.622530</td>\n",
       "    </tr>\n",
       "    <tr>\n",
       "      <th>5099503</th>\n",
       "      <td>231</td>\n",
       "      <td>Manhattan</td>\n",
       "      <td>TriBeCa/Civic Center</td>\n",
       "      <td>211</td>\n",
       "      <td>Manhattan</td>\n",
       "      <td>SoHo</td>\n",
       "      <td>2017-06-16 17:27:14</td>\n",
       "      <td>2017-06-16 17:43:30</td>\n",
       "      <td>16.266666</td>\n",
       "      <td>0.27</td>\n",
       "      <td>1.179394</td>\n",
       "      <td>10.5</td>\n",
       "      <td>0.995902</td>\n",
       "      <td>0.645492</td>\n",
       "    </tr>\n",
       "  </tbody>\n",
       "</table>\n",
       "</div>"
      ],
      "text/plain": [
       "         PULocationID Borough_PU                    Zone_PU  DOLocationID  \\\n",
       "5350046            48  Manhattan               Clinton East           100   \n",
       "5387985           234  Manhattan                   Union Sq            90   \n",
       "9065532            48  Manhattan               Clinton East            48   \n",
       "4769692           230  Manhattan  Times Sq/Theatre District           230   \n",
       "5378194           230  Manhattan  Times Sq/Theatre District           100   \n",
       "7328046           100  Manhattan           Garment District           230   \n",
       "9080828           100  Manhattan           Garment District           100   \n",
       "9007545           234  Manhattan                   Union Sq           164   \n",
       "8989905           234  Manhattan                   Union Sq           186   \n",
       "5099503           231  Manhattan       TriBeCa/Civic Center           211   \n",
       "\n",
       "        Borough_DO                       Zone_DO             PU_time  \\\n",
       "5350046  Manhattan              Garment District 2017-06-17 12:30:05   \n",
       "5387985  Manhattan                      Flatiron 2017-06-17 14:26:18   \n",
       "9065532  Manhattan                  Clinton East 2017-06-29 16:55:35   \n",
       "4769692  Manhattan     Times Sq/Theatre District 2017-06-15 18:21:09   \n",
       "5378194  Manhattan              Garment District 2017-06-17 13:52:58   \n",
       "7328046  Manhattan     Times Sq/Theatre District 2017-06-23 19:31:02   \n",
       "9080828  Manhattan              Garment District 2017-06-29 18:00:36   \n",
       "9007545  Manhattan                 Midtown South 2017-06-29 13:01:20   \n",
       "8989905  Manhattan  Penn Station/Madison Sq West 2017-06-29 11:52:04   \n",
       "5099503  Manhattan                          SoHo 2017-06-16 17:27:14   \n",
       "\n",
       "                    DO_time  duration_min  trip_distance  direct_distance  \\\n",
       "5350046 2017-06-17 12:42:05     12.000000           0.20         1.567664   \n",
       "5387985 2017-06-17 14:38:18     12.000000           0.20         0.942993   \n",
       "9065532 2017-06-29 17:07:35     12.000000           0.20         0.000000   \n",
       "4769692 2017-06-15 18:39:09     18.000000           0.30         0.000000   \n",
       "5378194 2017-06-17 14:04:59     12.016666           0.20         1.293779   \n",
       "7328046 2017-06-23 19:55:04     24.033333           0.40         1.293779   \n",
       "9080828 2017-06-29 18:16:51     16.250000           0.27         0.000000   \n",
       "9007545 2017-06-29 13:17:35     16.250000           0.27         1.640392   \n",
       "8989905 2017-06-29 12:08:56     16.866667           0.28         1.485164   \n",
       "5099503 2017-06-16 17:43:30     16.266666           0.27         1.179394   \n",
       "\n",
       "         fare_amount  speed_mph  dollar_per_min  \n",
       "5350046          8.5   1.000000        0.708333  \n",
       "5387985          8.0   1.000000        0.666667  \n",
       "9065532          8.5   1.000000        0.708333  \n",
       "4769692         11.5   1.000000        0.638889  \n",
       "5378194          8.0   0.998613        0.665742  \n",
       "7328046         14.5   0.998613        0.603329  \n",
       "9080828         10.5   0.996923        0.646154  \n",
       "9007545         10.5   0.996923        0.646154  \n",
       "8989905         10.5   0.996047        0.622530  \n",
       "5099503         10.5   0.995902        0.645492  "
      ]
     },
     "execution_count": 55,
     "metadata": {},
     "output_type": "execute_result"
    }
   ],
   "source": [
    "df=data_merged.query('speed_mph<1')\n",
    "df=df[['PULocationID','Borough_PU','Zone_PU','DOLocationID','Borough_DO','Zone_DO','PU_time','DO_time',\n",
    "       'duration_min','trip_distance','direct_distance','fare_amount','speed_mph','dollar_per_min']]\n",
    "df=df.sort_values(by=['speed_mph'],ascending=False)\n",
    "print(\"Sample of Trips with a speed of 1 mph\")\n",
    "df.head(10)"
   ]
  },
  {
   "cell_type": "code",
   "execution_count": 56,
   "metadata": {},
   "outputs": [
    {
     "name": "stdout",
     "output_type": "stream",
     "text": [
      "Sample of Trips with a speed of 2 mph\n"
     ]
    },
    {
     "data": {
      "text/html": [
       "<div>\n",
       "<style scoped>\n",
       "    .dataframe tbody tr th:only-of-type {\n",
       "        vertical-align: middle;\n",
       "    }\n",
       "\n",
       "    .dataframe tbody tr th {\n",
       "        vertical-align: top;\n",
       "    }\n",
       "\n",
       "    .dataframe thead th {\n",
       "        text-align: right;\n",
       "    }\n",
       "</style>\n",
       "<table border=\"1\" class=\"dataframe\">\n",
       "  <thead>\n",
       "    <tr style=\"text-align: right;\">\n",
       "      <th></th>\n",
       "      <th>PULocationID</th>\n",
       "      <th>Borough_PU</th>\n",
       "      <th>Zone_PU</th>\n",
       "      <th>DOLocationID</th>\n",
       "      <th>Borough_DO</th>\n",
       "      <th>Zone_DO</th>\n",
       "      <th>PU_time</th>\n",
       "      <th>DO_time</th>\n",
       "      <th>duration_min</th>\n",
       "      <th>trip_distance</th>\n",
       "      <th>direct_distance</th>\n",
       "      <th>fare_amount</th>\n",
       "      <th>speed_mph</th>\n",
       "      <th>dollar_per_min</th>\n",
       "    </tr>\n",
       "  </thead>\n",
       "  <tbody>\n",
       "    <tr>\n",
       "      <th>4291451</th>\n",
       "      <td>113</td>\n",
       "      <td>Manhattan</td>\n",
       "      <td>Greenwich Village North</td>\n",
       "      <td>113</td>\n",
       "      <td>Manhattan</td>\n",
       "      <td>Greenwich Village North</td>\n",
       "      <td>2017-06-14 10:14:04</td>\n",
       "      <td>2017-06-14 10:22:28</td>\n",
       "      <td>8.4</td>\n",
       "      <td>0.28</td>\n",
       "      <td>0.000000</td>\n",
       "      <td>6.5</td>\n",
       "      <td>2.0</td>\n",
       "      <td>0.773810</td>\n",
       "    </tr>\n",
       "    <tr>\n",
       "      <th>6570587</th>\n",
       "      <td>229</td>\n",
       "      <td>Manhattan</td>\n",
       "      <td>Sutton Place/Turtle Bay North</td>\n",
       "      <td>161</td>\n",
       "      <td>Manhattan</td>\n",
       "      <td>Midtown Center</td>\n",
       "      <td>2017-06-21 14:19:51</td>\n",
       "      <td>2017-06-21 14:30:03</td>\n",
       "      <td>10.2</td>\n",
       "      <td>0.34</td>\n",
       "      <td>1.687178</td>\n",
       "      <td>7.0</td>\n",
       "      <td>2.0</td>\n",
       "      <td>0.686275</td>\n",
       "    </tr>\n",
       "    <tr>\n",
       "      <th>4679335</th>\n",
       "      <td>50</td>\n",
       "      <td>Manhattan</td>\n",
       "      <td>Clinton West</td>\n",
       "      <td>48</td>\n",
       "      <td>Manhattan</td>\n",
       "      <td>Clinton East</td>\n",
       "      <td>2017-06-15 12:52:58</td>\n",
       "      <td>2017-06-15 13:04:04</td>\n",
       "      <td>11.1</td>\n",
       "      <td>0.37</td>\n",
       "      <td>0.967464</td>\n",
       "      <td>8.0</td>\n",
       "      <td>2.0</td>\n",
       "      <td>0.720721</td>\n",
       "    </tr>\n",
       "    <tr>\n",
       "      <th>9294540</th>\n",
       "      <td>68</td>\n",
       "      <td>Manhattan</td>\n",
       "      <td>East Chelsea</td>\n",
       "      <td>68</td>\n",
       "      <td>Manhattan</td>\n",
       "      <td>East Chelsea</td>\n",
       "      <td>2017-06-30 11:43:54</td>\n",
       "      <td>2017-06-30 11:49:54</td>\n",
       "      <td>6.0</td>\n",
       "      <td>0.20</td>\n",
       "      <td>0.000000</td>\n",
       "      <td>5.0</td>\n",
       "      <td>2.0</td>\n",
       "      <td>0.833333</td>\n",
       "    </tr>\n",
       "    <tr>\n",
       "      <th>8383989</th>\n",
       "      <td>186</td>\n",
       "      <td>Manhattan</td>\n",
       "      <td>Penn Station/Madison Sq West</td>\n",
       "      <td>230</td>\n",
       "      <td>Manhattan</td>\n",
       "      <td>Times Sq/Theatre District</td>\n",
       "      <td>2017-06-27 13:18:32</td>\n",
       "      <td>2017-06-27 13:42:32</td>\n",
       "      <td>24.0</td>\n",
       "      <td>0.80</td>\n",
       "      <td>2.323423</td>\n",
       "      <td>14.5</td>\n",
       "      <td>2.0</td>\n",
       "      <td>0.604167</td>\n",
       "    </tr>\n",
       "    <tr>\n",
       "      <th>7859927</th>\n",
       "      <td>161</td>\n",
       "      <td>Manhattan</td>\n",
       "      <td>Midtown Center</td>\n",
       "      <td>164</td>\n",
       "      <td>Manhattan</td>\n",
       "      <td>Midtown South</td>\n",
       "      <td>2017-06-25 14:12:13</td>\n",
       "      <td>2017-06-25 14:18:13</td>\n",
       "      <td>6.0</td>\n",
       "      <td>0.20</td>\n",
       "      <td>2.041490</td>\n",
       "      <td>5.5</td>\n",
       "      <td>2.0</td>\n",
       "      <td>0.916667</td>\n",
       "    </tr>\n",
       "    <tr>\n",
       "      <th>9105108</th>\n",
       "      <td>90</td>\n",
       "      <td>Manhattan</td>\n",
       "      <td>Flatiron</td>\n",
       "      <td>186</td>\n",
       "      <td>Manhattan</td>\n",
       "      <td>Penn Station/Madison Sq West</td>\n",
       "      <td>2017-06-29 19:23:15</td>\n",
       "      <td>2017-06-29 19:35:15</td>\n",
       "      <td>12.0</td>\n",
       "      <td>0.40</td>\n",
       "      <td>1.212252</td>\n",
       "      <td>8.5</td>\n",
       "      <td>2.0</td>\n",
       "      <td>0.708333</td>\n",
       "    </tr>\n",
       "    <tr>\n",
       "      <th>1723442</th>\n",
       "      <td>141</td>\n",
       "      <td>Manhattan</td>\n",
       "      <td>Lenox Hill West</td>\n",
       "      <td>161</td>\n",
       "      <td>Manhattan</td>\n",
       "      <td>Midtown Center</td>\n",
       "      <td>2017-06-06 12:14:26</td>\n",
       "      <td>2017-06-06 12:38:26</td>\n",
       "      <td>24.0</td>\n",
       "      <td>0.80</td>\n",
       "      <td>2.853651</td>\n",
       "      <td>14.5</td>\n",
       "      <td>2.0</td>\n",
       "      <td>0.604167</td>\n",
       "    </tr>\n",
       "    <tr>\n",
       "      <th>5919018</th>\n",
       "      <td>249</td>\n",
       "      <td>Manhattan</td>\n",
       "      <td>West Village</td>\n",
       "      <td>114</td>\n",
       "      <td>Manhattan</td>\n",
       "      <td>Greenwich Village South</td>\n",
       "      <td>2017-06-19 12:33:00</td>\n",
       "      <td>2017-06-19 12:39:00</td>\n",
       "      <td>6.0</td>\n",
       "      <td>0.20</td>\n",
       "      <td>1.192043</td>\n",
       "      <td>5.5</td>\n",
       "      <td>2.0</td>\n",
       "      <td>0.916667</td>\n",
       "    </tr>\n",
       "    <tr>\n",
       "      <th>5106337</th>\n",
       "      <td>230</td>\n",
       "      <td>Manhattan</td>\n",
       "      <td>Times Sq/Theatre District</td>\n",
       "      <td>163</td>\n",
       "      <td>Manhattan</td>\n",
       "      <td>Midtown North</td>\n",
       "      <td>2017-06-16 17:49:32</td>\n",
       "      <td>2017-06-16 17:55:32</td>\n",
       "      <td>6.0</td>\n",
       "      <td>0.20</td>\n",
       "      <td>1.136629</td>\n",
       "      <td>5.5</td>\n",
       "      <td>2.0</td>\n",
       "      <td>0.916667</td>\n",
       "    </tr>\n",
       "  </tbody>\n",
       "</table>\n",
       "</div>"
      ],
      "text/plain": [
       "         PULocationID Borough_PU                        Zone_PU  DOLocationID  \\\n",
       "4291451           113  Manhattan        Greenwich Village North           113   \n",
       "6570587           229  Manhattan  Sutton Place/Turtle Bay North           161   \n",
       "4679335            50  Manhattan                   Clinton West            48   \n",
       "9294540            68  Manhattan                   East Chelsea            68   \n",
       "8383989           186  Manhattan   Penn Station/Madison Sq West           230   \n",
       "7859927           161  Manhattan                 Midtown Center           164   \n",
       "9105108            90  Manhattan                       Flatiron           186   \n",
       "1723442           141  Manhattan                Lenox Hill West           161   \n",
       "5919018           249  Manhattan                   West Village           114   \n",
       "5106337           230  Manhattan      Times Sq/Theatre District           163   \n",
       "\n",
       "        Borough_DO                       Zone_DO             PU_time  \\\n",
       "4291451  Manhattan       Greenwich Village North 2017-06-14 10:14:04   \n",
       "6570587  Manhattan                Midtown Center 2017-06-21 14:19:51   \n",
       "4679335  Manhattan                  Clinton East 2017-06-15 12:52:58   \n",
       "9294540  Manhattan                  East Chelsea 2017-06-30 11:43:54   \n",
       "8383989  Manhattan     Times Sq/Theatre District 2017-06-27 13:18:32   \n",
       "7859927  Manhattan                 Midtown South 2017-06-25 14:12:13   \n",
       "9105108  Manhattan  Penn Station/Madison Sq West 2017-06-29 19:23:15   \n",
       "1723442  Manhattan                Midtown Center 2017-06-06 12:14:26   \n",
       "5919018  Manhattan       Greenwich Village South 2017-06-19 12:33:00   \n",
       "5106337  Manhattan                 Midtown North 2017-06-16 17:49:32   \n",
       "\n",
       "                    DO_time  duration_min  trip_distance  direct_distance  \\\n",
       "4291451 2017-06-14 10:22:28           8.4           0.28         0.000000   \n",
       "6570587 2017-06-21 14:30:03          10.2           0.34         1.687178   \n",
       "4679335 2017-06-15 13:04:04          11.1           0.37         0.967464   \n",
       "9294540 2017-06-30 11:49:54           6.0           0.20         0.000000   \n",
       "8383989 2017-06-27 13:42:32          24.0           0.80         2.323423   \n",
       "7859927 2017-06-25 14:18:13           6.0           0.20         2.041490   \n",
       "9105108 2017-06-29 19:35:15          12.0           0.40         1.212252   \n",
       "1723442 2017-06-06 12:38:26          24.0           0.80         2.853651   \n",
       "5919018 2017-06-19 12:39:00           6.0           0.20         1.192043   \n",
       "5106337 2017-06-16 17:55:32           6.0           0.20         1.136629   \n",
       "\n",
       "         fare_amount  speed_mph  dollar_per_min  \n",
       "4291451          6.5        2.0        0.773810  \n",
       "6570587          7.0        2.0        0.686275  \n",
       "4679335          8.0        2.0        0.720721  \n",
       "9294540          5.0        2.0        0.833333  \n",
       "8383989         14.5        2.0        0.604167  \n",
       "7859927          5.5        2.0        0.916667  \n",
       "9105108          8.5        2.0        0.708333  \n",
       "1723442         14.5        2.0        0.604167  \n",
       "5919018          5.5        2.0        0.916667  \n",
       "5106337          5.5        2.0        0.916667  "
      ]
     },
     "execution_count": 56,
     "metadata": {},
     "output_type": "execute_result"
    }
   ],
   "source": [
    "df=data_merged.query('speed_mph<2')\n",
    "df=df[['PULocationID','Borough_PU','Zone_PU','DOLocationID','Borough_DO','Zone_DO','PU_time','DO_time',\n",
    "       'duration_min','trip_distance','direct_distance','fare_amount','speed_mph','dollar_per_min']]\n",
    "df=df.sort_values(by=['speed_mph'],ascending=False)\n",
    "print(\"Sample of Trips with a speed of 2 mph\")\n",
    "df.head(10)"
   ]
  },
  {
   "cell_type": "markdown",
   "metadata": {},
   "source": [
    "After reviewing the slow trips at approximately 0 mph, 1 mph, and 2 mph, I have concluded that the data begins to look reasonable at 1 mph. Most of the trips at speeds around 1 mph are short trips within Manhattan.I will drop all records that have speeds less than 1 mph.\n"
   ]
  },
  {
   "cell_type": "markdown",
   "metadata": {},
   "source": [
    "#### Trips with High Rates"
   ]
  },
  {
   "cell_type": "code",
   "execution_count": 57,
   "metadata": {},
   "outputs": [
    {
     "name": "stdout",
     "output_type": "stream",
     "text": [
      "Trips with Rate of $3/Min\n"
     ]
    },
    {
     "data": {
      "text/html": [
       "<div>\n",
       "<style scoped>\n",
       "    .dataframe tbody tr th:only-of-type {\n",
       "        vertical-align: middle;\n",
       "    }\n",
       "\n",
       "    .dataframe tbody tr th {\n",
       "        vertical-align: top;\n",
       "    }\n",
       "\n",
       "    .dataframe thead th {\n",
       "        text-align: right;\n",
       "    }\n",
       "</style>\n",
       "<table border=\"1\" class=\"dataframe\">\n",
       "  <thead>\n",
       "    <tr style=\"text-align: right;\">\n",
       "      <th></th>\n",
       "      <th>PULocationID</th>\n",
       "      <th>Borough_PU</th>\n",
       "      <th>Zone_PU</th>\n",
       "      <th>DOLocationID</th>\n",
       "      <th>Borough_DO</th>\n",
       "      <th>Zone_DO</th>\n",
       "      <th>PU_time</th>\n",
       "      <th>DO_time</th>\n",
       "      <th>duration_min</th>\n",
       "      <th>trip_distance</th>\n",
       "      <th>direct_distance</th>\n",
       "      <th>fare_amount</th>\n",
       "      <th>speed_mph</th>\n",
       "      <th>dollar_per_min</th>\n",
       "    </tr>\n",
       "  </thead>\n",
       "  <tbody>\n",
       "    <tr>\n",
       "      <th>3894076</th>\n",
       "      <td>113</td>\n",
       "      <td>Manhattan</td>\n",
       "      <td>Greenwich Village North</td>\n",
       "      <td>144</td>\n",
       "      <td>Manhattan</td>\n",
       "      <td>Little Italy/NoLiTa</td>\n",
       "      <td>2017-06-13 06:23:03</td>\n",
       "      <td>2017-06-13 06:24:43</td>\n",
       "      <td>1.666667</td>\n",
       "      <td>1.03</td>\n",
       "      <td>2.163388</td>\n",
       "      <td>5.0</td>\n",
       "      <td>37.080000</td>\n",
       "      <td>3.0</td>\n",
       "    </tr>\n",
       "    <tr>\n",
       "      <th>1305886</th>\n",
       "      <td>164</td>\n",
       "      <td>Manhattan</td>\n",
       "      <td>Midtown South</td>\n",
       "      <td>265</td>\n",
       "      <td>Unknown</td>\n",
       "      <td>unknown</td>\n",
       "      <td>2017-06-05 00:14:29</td>\n",
       "      <td>2017-06-05 00:27:49</td>\n",
       "      <td>13.333333</td>\n",
       "      <td>4.05</td>\n",
       "      <td>999.000000</td>\n",
       "      <td>40.0</td>\n",
       "      <td>18.225000</td>\n",
       "      <td>3.0</td>\n",
       "    </tr>\n",
       "    <tr>\n",
       "      <th>6300414</th>\n",
       "      <td>151</td>\n",
       "      <td>Manhattan</td>\n",
       "      <td>Manhattan Valley</td>\n",
       "      <td>24</td>\n",
       "      <td>Manhattan</td>\n",
       "      <td>Bloomingdale</td>\n",
       "      <td>2017-06-20 17:29:32</td>\n",
       "      <td>2017-06-20 17:30:42</td>\n",
       "      <td>1.166667</td>\n",
       "      <td>0.42</td>\n",
       "      <td>0.804974</td>\n",
       "      <td>3.5</td>\n",
       "      <td>21.600001</td>\n",
       "      <td>3.0</td>\n",
       "    </tr>\n",
       "    <tr>\n",
       "      <th>7411368</th>\n",
       "      <td>237</td>\n",
       "      <td>Manhattan</td>\n",
       "      <td>Upper East Side South</td>\n",
       "      <td>162</td>\n",
       "      <td>Manhattan</td>\n",
       "      <td>Midtown East</td>\n",
       "      <td>2017-06-23 23:55:50</td>\n",
       "      <td>2017-06-23 23:57:00</td>\n",
       "      <td>1.166667</td>\n",
       "      <td>0.40</td>\n",
       "      <td>2.273374</td>\n",
       "      <td>3.5</td>\n",
       "      <td>20.571430</td>\n",
       "      <td>3.0</td>\n",
       "    </tr>\n",
       "    <tr>\n",
       "      <th>8055142</th>\n",
       "      <td>262</td>\n",
       "      <td>Manhattan</td>\n",
       "      <td>Yorkville East</td>\n",
       "      <td>262</td>\n",
       "      <td>Manhattan</td>\n",
       "      <td>Yorkville East</td>\n",
       "      <td>2017-06-26 10:58:56</td>\n",
       "      <td>2017-06-26 11:00:06</td>\n",
       "      <td>1.166667</td>\n",
       "      <td>0.40</td>\n",
       "      <td>0.000000</td>\n",
       "      <td>3.5</td>\n",
       "      <td>20.571430</td>\n",
       "      <td>3.0</td>\n",
       "    </tr>\n",
       "    <tr>\n",
       "      <th>1955816</th>\n",
       "      <td>263</td>\n",
       "      <td>Manhattan</td>\n",
       "      <td>Yorkville West</td>\n",
       "      <td>141</td>\n",
       "      <td>Manhattan</td>\n",
       "      <td>Lenox Hill West</td>\n",
       "      <td>2017-06-07 03:14:17</td>\n",
       "      <td>2017-06-07 03:15:27</td>\n",
       "      <td>1.166667</td>\n",
       "      <td>0.47</td>\n",
       "      <td>2.383267</td>\n",
       "      <td>3.5</td>\n",
       "      <td>24.171430</td>\n",
       "      <td>3.0</td>\n",
       "    </tr>\n",
       "    <tr>\n",
       "      <th>5340537</th>\n",
       "      <td>237</td>\n",
       "      <td>Manhattan</td>\n",
       "      <td>Upper East Side South</td>\n",
       "      <td>141</td>\n",
       "      <td>Manhattan</td>\n",
       "      <td>Lenox Hill West</td>\n",
       "      <td>2017-06-17 12:05:36</td>\n",
       "      <td>2017-06-17 12:06:46</td>\n",
       "      <td>1.166667</td>\n",
       "      <td>0.46</td>\n",
       "      <td>0.865730</td>\n",
       "      <td>3.5</td>\n",
       "      <td>23.657144</td>\n",
       "      <td>3.0</td>\n",
       "    </tr>\n",
       "    <tr>\n",
       "      <th>8013963</th>\n",
       "      <td>7</td>\n",
       "      <td>Queens</td>\n",
       "      <td>Astoria</td>\n",
       "      <td>7</td>\n",
       "      <td>Queens</td>\n",
       "      <td>Astoria</td>\n",
       "      <td>2017-06-26 08:08:41</td>\n",
       "      <td>2017-06-26 08:09:51</td>\n",
       "      <td>1.166667</td>\n",
       "      <td>0.40</td>\n",
       "      <td>0.000000</td>\n",
       "      <td>3.5</td>\n",
       "      <td>20.571430</td>\n",
       "      <td>3.0</td>\n",
       "    </tr>\n",
       "    <tr>\n",
       "      <th>5404840</th>\n",
       "      <td>262</td>\n",
       "      <td>Manhattan</td>\n",
       "      <td>Yorkville East</td>\n",
       "      <td>140</td>\n",
       "      <td>Manhattan</td>\n",
       "      <td>Lenox Hill East</td>\n",
       "      <td>2017-06-17 15:43:41</td>\n",
       "      <td>2017-06-17 15:44:51</td>\n",
       "      <td>1.166667</td>\n",
       "      <td>0.35</td>\n",
       "      <td>2.301433</td>\n",
       "      <td>3.5</td>\n",
       "      <td>18.000001</td>\n",
       "      <td>3.0</td>\n",
       "    </tr>\n",
       "    <tr>\n",
       "      <th>5413182</th>\n",
       "      <td>142</td>\n",
       "      <td>Manhattan</td>\n",
       "      <td>Lincoln Square East</td>\n",
       "      <td>239</td>\n",
       "      <td>Manhattan</td>\n",
       "      <td>Upper West Side South</td>\n",
       "      <td>2017-06-17 16:20:27</td>\n",
       "      <td>2017-06-17 16:21:37</td>\n",
       "      <td>1.166667</td>\n",
       "      <td>0.40</td>\n",
       "      <td>1.872619</td>\n",
       "      <td>3.5</td>\n",
       "      <td>20.571430</td>\n",
       "      <td>3.0</td>\n",
       "    </tr>\n",
       "  </tbody>\n",
       "</table>\n",
       "</div>"
      ],
      "text/plain": [
       "         PULocationID Borough_PU                  Zone_PU  DOLocationID  \\\n",
       "3894076           113  Manhattan  Greenwich Village North           144   \n",
       "1305886           164  Manhattan            Midtown South           265   \n",
       "6300414           151  Manhattan         Manhattan Valley            24   \n",
       "7411368           237  Manhattan    Upper East Side South           162   \n",
       "8055142           262  Manhattan           Yorkville East           262   \n",
       "1955816           263  Manhattan           Yorkville West           141   \n",
       "5340537           237  Manhattan    Upper East Side South           141   \n",
       "8013963             7     Queens                  Astoria             7   \n",
       "5404840           262  Manhattan           Yorkville East           140   \n",
       "5413182           142  Manhattan      Lincoln Square East           239   \n",
       "\n",
       "        Borough_DO                Zone_DO             PU_time  \\\n",
       "3894076  Manhattan    Little Italy/NoLiTa 2017-06-13 06:23:03   \n",
       "1305886    Unknown                unknown 2017-06-05 00:14:29   \n",
       "6300414  Manhattan           Bloomingdale 2017-06-20 17:29:32   \n",
       "7411368  Manhattan           Midtown East 2017-06-23 23:55:50   \n",
       "8055142  Manhattan         Yorkville East 2017-06-26 10:58:56   \n",
       "1955816  Manhattan        Lenox Hill West 2017-06-07 03:14:17   \n",
       "5340537  Manhattan        Lenox Hill West 2017-06-17 12:05:36   \n",
       "8013963     Queens                Astoria 2017-06-26 08:08:41   \n",
       "5404840  Manhattan        Lenox Hill East 2017-06-17 15:43:41   \n",
       "5413182  Manhattan  Upper West Side South 2017-06-17 16:20:27   \n",
       "\n",
       "                    DO_time  duration_min  trip_distance  direct_distance  \\\n",
       "3894076 2017-06-13 06:24:43      1.666667           1.03         2.163388   \n",
       "1305886 2017-06-05 00:27:49     13.333333           4.05       999.000000   \n",
       "6300414 2017-06-20 17:30:42      1.166667           0.42         0.804974   \n",
       "7411368 2017-06-23 23:57:00      1.166667           0.40         2.273374   \n",
       "8055142 2017-06-26 11:00:06      1.166667           0.40         0.000000   \n",
       "1955816 2017-06-07 03:15:27      1.166667           0.47         2.383267   \n",
       "5340537 2017-06-17 12:06:46      1.166667           0.46         0.865730   \n",
       "8013963 2017-06-26 08:09:51      1.166667           0.40         0.000000   \n",
       "5404840 2017-06-17 15:44:51      1.166667           0.35         2.301433   \n",
       "5413182 2017-06-17 16:21:37      1.166667           0.40         1.872619   \n",
       "\n",
       "         fare_amount  speed_mph  dollar_per_min  \n",
       "3894076          5.0  37.080000             3.0  \n",
       "1305886         40.0  18.225000             3.0  \n",
       "6300414          3.5  21.600001             3.0  \n",
       "7411368          3.5  20.571430             3.0  \n",
       "8055142          3.5  20.571430             3.0  \n",
       "1955816          3.5  24.171430             3.0  \n",
       "5340537          3.5  23.657144             3.0  \n",
       "8013963          3.5  20.571430             3.0  \n",
       "5404840          3.5  18.000001             3.0  \n",
       "5413182          3.5  20.571430             3.0  "
      ]
     },
     "execution_count": 57,
     "metadata": {},
     "output_type": "execute_result"
    }
   ],
   "source": [
    "df=data_merged.query('dollar_per_min>3')\n",
    "df=df[['PULocationID','Borough_PU','Zone_PU','DOLocationID','Borough_DO','Zone_DO','PU_time','DO_time',\n",
    "       'duration_min','trip_distance','direct_distance','fare_amount','speed_mph','dollar_per_min']]\n",
    "df=df.sort_values(by=['dollar_per_min'],ascending=True)\n",
    "print(\"Trips with Rate of $3/Min\")\n",
    "df.head(10)"
   ]
  },
  {
   "cell_type": "code",
   "execution_count": 58,
   "metadata": {},
   "outputs": [
    {
     "name": "stdout",
     "output_type": "stream",
     "text": [
      "Trips with Rate of $3.5/Min\n"
     ]
    },
    {
     "data": {
      "text/html": [
       "<div>\n",
       "<style scoped>\n",
       "    .dataframe tbody tr th:only-of-type {\n",
       "        vertical-align: middle;\n",
       "    }\n",
       "\n",
       "    .dataframe tbody tr th {\n",
       "        vertical-align: top;\n",
       "    }\n",
       "\n",
       "    .dataframe thead th {\n",
       "        text-align: right;\n",
       "    }\n",
       "</style>\n",
       "<table border=\"1\" class=\"dataframe\">\n",
       "  <thead>\n",
       "    <tr style=\"text-align: right;\">\n",
       "      <th></th>\n",
       "      <th>PULocationID</th>\n",
       "      <th>Borough_PU</th>\n",
       "      <th>Zone_PU</th>\n",
       "      <th>DOLocationID</th>\n",
       "      <th>Borough_DO</th>\n",
       "      <th>Zone_DO</th>\n",
       "      <th>PU_time</th>\n",
       "      <th>DO_time</th>\n",
       "      <th>duration_min</th>\n",
       "      <th>trip_distance</th>\n",
       "      <th>direct_distance</th>\n",
       "      <th>fare_amount</th>\n",
       "      <th>speed_mph</th>\n",
       "      <th>dollar_per_min</th>\n",
       "    </tr>\n",
       "  </thead>\n",
       "  <tbody>\n",
       "    <tr>\n",
       "      <th>599200</th>\n",
       "      <td>138</td>\n",
       "      <td>Queens</td>\n",
       "      <td>LaGuardia Airport</td>\n",
       "      <td>265</td>\n",
       "      <td>Unknown</td>\n",
       "      <td>unknown</td>\n",
       "      <td>2017-06-02 19:52:32</td>\n",
       "      <td>2017-06-02 20:19:40</td>\n",
       "      <td>27.133333</td>\n",
       "      <td>17.50</td>\n",
       "      <td>999.000000</td>\n",
       "      <td>95.0</td>\n",
       "      <td>38.697788</td>\n",
       "      <td>3.501229</td>\n",
       "    </tr>\n",
       "    <tr>\n",
       "      <th>7405128</th>\n",
       "      <td>145</td>\n",
       "      <td>Queens</td>\n",
       "      <td>Long Island City/Hunters Point</td>\n",
       "      <td>234</td>\n",
       "      <td>Manhattan</td>\n",
       "      <td>Union Sq</td>\n",
       "      <td>2017-06-23 23:34:18</td>\n",
       "      <td>2017-06-23 23:49:09</td>\n",
       "      <td>14.850000</td>\n",
       "      <td>2.80</td>\n",
       "      <td>5.774618</td>\n",
       "      <td>52.0</td>\n",
       "      <td>11.313131</td>\n",
       "      <td>3.501683</td>\n",
       "    </tr>\n",
       "    <tr>\n",
       "      <th>8721160</th>\n",
       "      <td>48</td>\n",
       "      <td>Manhattan</td>\n",
       "      <td>Clinton East</td>\n",
       "      <td>229</td>\n",
       "      <td>Manhattan</td>\n",
       "      <td>Sutton Place/Turtle Bay North</td>\n",
       "      <td>2017-06-28 14:38:11</td>\n",
       "      <td>2017-06-28 14:53:02</td>\n",
       "      <td>14.850000</td>\n",
       "      <td>1.25</td>\n",
       "      <td>3.494958</td>\n",
       "      <td>52.0</td>\n",
       "      <td>5.050505</td>\n",
       "      <td>3.501683</td>\n",
       "    </tr>\n",
       "    <tr>\n",
       "      <th>8498024</th>\n",
       "      <td>230</td>\n",
       "      <td>Manhattan</td>\n",
       "      <td>Times Sq/Theatre District</td>\n",
       "      <td>14</td>\n",
       "      <td>Brooklyn</td>\n",
       "      <td>Bay Ridge</td>\n",
       "      <td>2017-06-27 19:58:40</td>\n",
       "      <td>2017-06-27 20:15:22</td>\n",
       "      <td>16.700001</td>\n",
       "      <td>15.95</td>\n",
       "      <td>25.179226</td>\n",
       "      <td>58.5</td>\n",
       "      <td>57.305389</td>\n",
       "      <td>3.502994</td>\n",
       "    </tr>\n",
       "    <tr>\n",
       "      <th>6101282</th>\n",
       "      <td>90</td>\n",
       "      <td>Manhattan</td>\n",
       "      <td>Flatiron</td>\n",
       "      <td>265</td>\n",
       "      <td>Unknown</td>\n",
       "      <td>unknown</td>\n",
       "      <td>2017-06-19 23:20:42</td>\n",
       "      <td>2017-06-19 23:36:24</td>\n",
       "      <td>15.700000</td>\n",
       "      <td>6.09</td>\n",
       "      <td>999.000000</td>\n",
       "      <td>55.0</td>\n",
       "      <td>23.273886</td>\n",
       "      <td>3.503185</td>\n",
       "    </tr>\n",
       "    <tr>\n",
       "      <th>4339864</th>\n",
       "      <td>236</td>\n",
       "      <td>Manhattan</td>\n",
       "      <td>Upper East Side North</td>\n",
       "      <td>236</td>\n",
       "      <td>Manhattan</td>\n",
       "      <td>Upper East Side North</td>\n",
       "      <td>2017-06-14 12:57:21</td>\n",
       "      <td>2017-06-14 12:59:38</td>\n",
       "      <td>2.283333</td>\n",
       "      <td>0.99</td>\n",
       "      <td>0.000000</td>\n",
       "      <td>8.0</td>\n",
       "      <td>26.014600</td>\n",
       "      <td>3.503650</td>\n",
       "    </tr>\n",
       "    <tr>\n",
       "      <th>7989482</th>\n",
       "      <td>246</td>\n",
       "      <td>Manhattan</td>\n",
       "      <td>West Chelsea/Hudson Yards</td>\n",
       "      <td>265</td>\n",
       "      <td>Unknown</td>\n",
       "      <td>unknown</td>\n",
       "      <td>2017-06-26 05:40:37</td>\n",
       "      <td>2017-06-26 05:57:44</td>\n",
       "      <td>17.116667</td>\n",
       "      <td>11.20</td>\n",
       "      <td>999.000000</td>\n",
       "      <td>60.0</td>\n",
       "      <td>39.259980</td>\n",
       "      <td>3.505355</td>\n",
       "    </tr>\n",
       "    <tr>\n",
       "      <th>6746515</th>\n",
       "      <td>246</td>\n",
       "      <td>Manhattan</td>\n",
       "      <td>West Chelsea/Hudson Yards</td>\n",
       "      <td>265</td>\n",
       "      <td>Unknown</td>\n",
       "      <td>unknown</td>\n",
       "      <td>2017-06-22 00:02:07</td>\n",
       "      <td>2017-06-22 00:21:48</td>\n",
       "      <td>19.683332</td>\n",
       "      <td>9.96</td>\n",
       "      <td>999.000000</td>\n",
       "      <td>69.0</td>\n",
       "      <td>30.360714</td>\n",
       "      <td>3.505504</td>\n",
       "    </tr>\n",
       "    <tr>\n",
       "      <th>3667694</th>\n",
       "      <td>144</td>\n",
       "      <td>Manhattan</td>\n",
       "      <td>Little Italy/NoLiTa</td>\n",
       "      <td>125</td>\n",
       "      <td>Manhattan</td>\n",
       "      <td>Hudson Sq</td>\n",
       "      <td>2017-06-12 11:46:18</td>\n",
       "      <td>2017-06-12 12:01:08</td>\n",
       "      <td>14.833333</td>\n",
       "      <td>1.50</td>\n",
       "      <td>1.578478</td>\n",
       "      <td>52.0</td>\n",
       "      <td>6.067416</td>\n",
       "      <td>3.505618</td>\n",
       "    </tr>\n",
       "    <tr>\n",
       "      <th>9061395</th>\n",
       "      <td>74</td>\n",
       "      <td>Manhattan</td>\n",
       "      <td>East Harlem North</td>\n",
       "      <td>151</td>\n",
       "      <td>Manhattan</td>\n",
       "      <td>Manhattan Valley</td>\n",
       "      <td>2017-06-29 16:35:09</td>\n",
       "      <td>2017-06-29 16:49:59</td>\n",
       "      <td>14.833333</td>\n",
       "      <td>2.40</td>\n",
       "      <td>4.226697</td>\n",
       "      <td>52.0</td>\n",
       "      <td>9.707865</td>\n",
       "      <td>3.505618</td>\n",
       "    </tr>\n",
       "  </tbody>\n",
       "</table>\n",
       "</div>"
      ],
      "text/plain": [
       "         PULocationID Borough_PU                         Zone_PU  \\\n",
       "599200            138     Queens               LaGuardia Airport   \n",
       "7405128           145     Queens  Long Island City/Hunters Point   \n",
       "8721160            48  Manhattan                    Clinton East   \n",
       "8498024           230  Manhattan       Times Sq/Theatre District   \n",
       "6101282            90  Manhattan                        Flatiron   \n",
       "4339864           236  Manhattan           Upper East Side North   \n",
       "7989482           246  Manhattan       West Chelsea/Hudson Yards   \n",
       "6746515           246  Manhattan       West Chelsea/Hudson Yards   \n",
       "3667694           144  Manhattan             Little Italy/NoLiTa   \n",
       "9061395            74  Manhattan               East Harlem North   \n",
       "\n",
       "         DOLocationID Borough_DO                        Zone_DO  \\\n",
       "599200            265    Unknown                        unknown   \n",
       "7405128           234  Manhattan                       Union Sq   \n",
       "8721160           229  Manhattan  Sutton Place/Turtle Bay North   \n",
       "8498024            14   Brooklyn                      Bay Ridge   \n",
       "6101282           265    Unknown                        unknown   \n",
       "4339864           236  Manhattan          Upper East Side North   \n",
       "7989482           265    Unknown                        unknown   \n",
       "6746515           265    Unknown                        unknown   \n",
       "3667694           125  Manhattan                      Hudson Sq   \n",
       "9061395           151  Manhattan               Manhattan Valley   \n",
       "\n",
       "                    PU_time             DO_time  duration_min  trip_distance  \\\n",
       "599200  2017-06-02 19:52:32 2017-06-02 20:19:40     27.133333          17.50   \n",
       "7405128 2017-06-23 23:34:18 2017-06-23 23:49:09     14.850000           2.80   \n",
       "8721160 2017-06-28 14:38:11 2017-06-28 14:53:02     14.850000           1.25   \n",
       "8498024 2017-06-27 19:58:40 2017-06-27 20:15:22     16.700001          15.95   \n",
       "6101282 2017-06-19 23:20:42 2017-06-19 23:36:24     15.700000           6.09   \n",
       "4339864 2017-06-14 12:57:21 2017-06-14 12:59:38      2.283333           0.99   \n",
       "7989482 2017-06-26 05:40:37 2017-06-26 05:57:44     17.116667          11.20   \n",
       "6746515 2017-06-22 00:02:07 2017-06-22 00:21:48     19.683332           9.96   \n",
       "3667694 2017-06-12 11:46:18 2017-06-12 12:01:08     14.833333           1.50   \n",
       "9061395 2017-06-29 16:35:09 2017-06-29 16:49:59     14.833333           2.40   \n",
       "\n",
       "         direct_distance  fare_amount  speed_mph  dollar_per_min  \n",
       "599200        999.000000         95.0  38.697788        3.501229  \n",
       "7405128         5.774618         52.0  11.313131        3.501683  \n",
       "8721160         3.494958         52.0   5.050505        3.501683  \n",
       "8498024        25.179226         58.5  57.305389        3.502994  \n",
       "6101282       999.000000         55.0  23.273886        3.503185  \n",
       "4339864         0.000000          8.0  26.014600        3.503650  \n",
       "7989482       999.000000         60.0  39.259980        3.505355  \n",
       "6746515       999.000000         69.0  30.360714        3.505504  \n",
       "3667694         1.578478         52.0   6.067416        3.505618  \n",
       "9061395         4.226697         52.0   9.707865        3.505618  "
      ]
     },
     "execution_count": 58,
     "metadata": {},
     "output_type": "execute_result"
    }
   ],
   "source": [
    "df=data_merged.query('dollar_per_min>3.5')\n",
    "df=df[['PULocationID','Borough_PU','Zone_PU','DOLocationID','Borough_DO','Zone_DO','PU_time','DO_time',\n",
    "       'duration_min','trip_distance','direct_distance','fare_amount','speed_mph','dollar_per_min']]\n",
    "df=df.sort_values(by=['dollar_per_min'],ascending=True)\n",
    "print(\"Trips with Rate of $3.5/Min\")\n",
    "df.head(10)"
   ]
  },
  {
   "cell_type": "code",
   "execution_count": 59,
   "metadata": {},
   "outputs": [
    {
     "name": "stdout",
     "output_type": "stream",
     "text": [
      "Trips with Rate of $4/Min\n"
     ]
    },
    {
     "data": {
      "text/html": [
       "<div>\n",
       "<style scoped>\n",
       "    .dataframe tbody tr th:only-of-type {\n",
       "        vertical-align: middle;\n",
       "    }\n",
       "\n",
       "    .dataframe tbody tr th {\n",
       "        vertical-align: top;\n",
       "    }\n",
       "\n",
       "    .dataframe thead th {\n",
       "        text-align: right;\n",
       "    }\n",
       "</style>\n",
       "<table border=\"1\" class=\"dataframe\">\n",
       "  <thead>\n",
       "    <tr style=\"text-align: right;\">\n",
       "      <th></th>\n",
       "      <th>PULocationID</th>\n",
       "      <th>Borough_PU</th>\n",
       "      <th>Zone_PU</th>\n",
       "      <th>DOLocationID</th>\n",
       "      <th>Borough_DO</th>\n",
       "      <th>Zone_DO</th>\n",
       "      <th>PU_time</th>\n",
       "      <th>DO_time</th>\n",
       "      <th>duration_min</th>\n",
       "      <th>trip_distance</th>\n",
       "      <th>direct_distance</th>\n",
       "      <th>fare_amount</th>\n",
       "      <th>speed_mph</th>\n",
       "      <th>dollar_per_min</th>\n",
       "    </tr>\n",
       "  </thead>\n",
       "  <tbody>\n",
       "    <tr>\n",
       "      <th>4715919</th>\n",
       "      <td>15</td>\n",
       "      <td>Queens</td>\n",
       "      <td>Bay Terrace/Fort Totten</td>\n",
       "      <td>265</td>\n",
       "      <td>Unknown</td>\n",
       "      <td>unknown</td>\n",
       "      <td>2017-06-15 15:01:47</td>\n",
       "      <td>2017-06-15 15:38:01</td>\n",
       "      <td>36.233334</td>\n",
       "      <td>16.20</td>\n",
       "      <td>999.000000</td>\n",
       "      <td>145.0</td>\n",
       "      <td>26.826128</td>\n",
       "      <td>4.001840</td>\n",
       "    </tr>\n",
       "    <tr>\n",
       "      <th>5174478</th>\n",
       "      <td>48</td>\n",
       "      <td>Manhattan</td>\n",
       "      <td>Clinton East</td>\n",
       "      <td>265</td>\n",
       "      <td>Unknown</td>\n",
       "      <td>unknown</td>\n",
       "      <td>2017-06-16 21:24:11</td>\n",
       "      <td>2017-06-16 22:00:25</td>\n",
       "      <td>36.233334</td>\n",
       "      <td>25.20</td>\n",
       "      <td>999.000000</td>\n",
       "      <td>145.0</td>\n",
       "      <td>41.729532</td>\n",
       "      <td>4.001840</td>\n",
       "    </tr>\n",
       "    <tr>\n",
       "      <th>3000747</th>\n",
       "      <td>90</td>\n",
       "      <td>Manhattan</td>\n",
       "      <td>Flatiron</td>\n",
       "      <td>265</td>\n",
       "      <td>Unknown</td>\n",
       "      <td>unknown</td>\n",
       "      <td>2017-06-10 02:59:45</td>\n",
       "      <td>2017-06-10 03:14:44</td>\n",
       "      <td>14.983334</td>\n",
       "      <td>5.40</td>\n",
       "      <td>999.000000</td>\n",
       "      <td>60.0</td>\n",
       "      <td>21.624026</td>\n",
       "      <td>4.004449</td>\n",
       "    </tr>\n",
       "    <tr>\n",
       "      <th>5813612</th>\n",
       "      <td>264</td>\n",
       "      <td>Unknown</td>\n",
       "      <td>NV</td>\n",
       "      <td>264</td>\n",
       "      <td>Unknown</td>\n",
       "      <td>NV</td>\n",
       "      <td>2017-06-19 01:11:45</td>\n",
       "      <td>2017-06-19 01:39:13</td>\n",
       "      <td>27.466667</td>\n",
       "      <td>23.28</td>\n",
       "      <td>999.000000</td>\n",
       "      <td>110.0</td>\n",
       "      <td>50.854367</td>\n",
       "      <td>4.004854</td>\n",
       "    </tr>\n",
       "    <tr>\n",
       "      <th>3888881</th>\n",
       "      <td>157</td>\n",
       "      <td>Queens</td>\n",
       "      <td>Maspeth</td>\n",
       "      <td>132</td>\n",
       "      <td>Queens</td>\n",
       "      <td>JFK Airport</td>\n",
       "      <td>2017-06-13 05:13:03</td>\n",
       "      <td>2017-06-13 05:26:02</td>\n",
       "      <td>12.983334</td>\n",
       "      <td>11.26</td>\n",
       "      <td>22.225640</td>\n",
       "      <td>52.0</td>\n",
       "      <td>52.035942</td>\n",
       "      <td>4.005135</td>\n",
       "    </tr>\n",
       "    <tr>\n",
       "      <th>9425421</th>\n",
       "      <td>132</td>\n",
       "      <td>Queens</td>\n",
       "      <td>JFK Airport</td>\n",
       "      <td>130</td>\n",
       "      <td>Queens</td>\n",
       "      <td>Jamaica</td>\n",
       "      <td>2017-06-30 20:04:07</td>\n",
       "      <td>2017-06-30 20:17:06</td>\n",
       "      <td>12.983334</td>\n",
       "      <td>5.40</td>\n",
       "      <td>11.262984</td>\n",
       "      <td>52.0</td>\n",
       "      <td>24.955070</td>\n",
       "      <td>4.005135</td>\n",
       "    </tr>\n",
       "    <tr>\n",
       "      <th>7012202</th>\n",
       "      <td>70</td>\n",
       "      <td>Queens</td>\n",
       "      <td>East Elmhurst</td>\n",
       "      <td>265</td>\n",
       "      <td>Unknown</td>\n",
       "      <td>unknown</td>\n",
       "      <td>2017-06-22 20:41:28</td>\n",
       "      <td>2017-06-22 21:12:10</td>\n",
       "      <td>30.700001</td>\n",
       "      <td>22.20</td>\n",
       "      <td>999.000000</td>\n",
       "      <td>123.0</td>\n",
       "      <td>43.387623</td>\n",
       "      <td>4.006515</td>\n",
       "    </tr>\n",
       "    <tr>\n",
       "      <th>5425446</th>\n",
       "      <td>142</td>\n",
       "      <td>Manhattan</td>\n",
       "      <td>Lincoln Square East</td>\n",
       "      <td>265</td>\n",
       "      <td>Unknown</td>\n",
       "      <td>unknown</td>\n",
       "      <td>2017-06-17 17:12:41</td>\n",
       "      <td>2017-06-17 17:40:38</td>\n",
       "      <td>27.950001</td>\n",
       "      <td>16.10</td>\n",
       "      <td>999.000000</td>\n",
       "      <td>112.0</td>\n",
       "      <td>34.561717</td>\n",
       "      <td>4.007156</td>\n",
       "    </tr>\n",
       "    <tr>\n",
       "      <th>7770609</th>\n",
       "      <td>186</td>\n",
       "      <td>Manhattan</td>\n",
       "      <td>Penn Station/Madison Sq West</td>\n",
       "      <td>265</td>\n",
       "      <td>Unknown</td>\n",
       "      <td>unknown</td>\n",
       "      <td>2017-06-25 03:08:18</td>\n",
       "      <td>2017-06-25 03:38:14</td>\n",
       "      <td>29.933332</td>\n",
       "      <td>24.49</td>\n",
       "      <td>999.000000</td>\n",
       "      <td>120.0</td>\n",
       "      <td>49.089088</td>\n",
       "      <td>4.008909</td>\n",
       "    </tr>\n",
       "    <tr>\n",
       "      <th>6125544</th>\n",
       "      <td>209</td>\n",
       "      <td>Manhattan</td>\n",
       "      <td>Seaport</td>\n",
       "      <td>1</td>\n",
       "      <td>EWR</td>\n",
       "      <td>Newark Airport</td>\n",
       "      <td>2017-06-20 05:56:08</td>\n",
       "      <td>2017-06-20 06:17:20</td>\n",
       "      <td>21.200001</td>\n",
       "      <td>13.49</td>\n",
       "      <td>23.906879</td>\n",
       "      <td>85.0</td>\n",
       "      <td>38.179243</td>\n",
       "      <td>4.009434</td>\n",
       "    </tr>\n",
       "  </tbody>\n",
       "</table>\n",
       "</div>"
      ],
      "text/plain": [
       "         PULocationID Borough_PU                       Zone_PU  DOLocationID  \\\n",
       "4715919            15     Queens       Bay Terrace/Fort Totten           265   \n",
       "5174478            48  Manhattan                  Clinton East           265   \n",
       "3000747            90  Manhattan                      Flatiron           265   \n",
       "5813612           264    Unknown                            NV           264   \n",
       "3888881           157     Queens                       Maspeth           132   \n",
       "9425421           132     Queens                   JFK Airport           130   \n",
       "7012202            70     Queens                 East Elmhurst           265   \n",
       "5425446           142  Manhattan           Lincoln Square East           265   \n",
       "7770609           186  Manhattan  Penn Station/Madison Sq West           265   \n",
       "6125544           209  Manhattan                       Seaport             1   \n",
       "\n",
       "        Borough_DO         Zone_DO             PU_time             DO_time  \\\n",
       "4715919    Unknown         unknown 2017-06-15 15:01:47 2017-06-15 15:38:01   \n",
       "5174478    Unknown         unknown 2017-06-16 21:24:11 2017-06-16 22:00:25   \n",
       "3000747    Unknown         unknown 2017-06-10 02:59:45 2017-06-10 03:14:44   \n",
       "5813612    Unknown              NV 2017-06-19 01:11:45 2017-06-19 01:39:13   \n",
       "3888881     Queens     JFK Airport 2017-06-13 05:13:03 2017-06-13 05:26:02   \n",
       "9425421     Queens         Jamaica 2017-06-30 20:04:07 2017-06-30 20:17:06   \n",
       "7012202    Unknown         unknown 2017-06-22 20:41:28 2017-06-22 21:12:10   \n",
       "5425446    Unknown         unknown 2017-06-17 17:12:41 2017-06-17 17:40:38   \n",
       "7770609    Unknown         unknown 2017-06-25 03:08:18 2017-06-25 03:38:14   \n",
       "6125544        EWR  Newark Airport 2017-06-20 05:56:08 2017-06-20 06:17:20   \n",
       "\n",
       "         duration_min  trip_distance  direct_distance  fare_amount  speed_mph  \\\n",
       "4715919     36.233334          16.20       999.000000        145.0  26.826128   \n",
       "5174478     36.233334          25.20       999.000000        145.0  41.729532   \n",
       "3000747     14.983334           5.40       999.000000         60.0  21.624026   \n",
       "5813612     27.466667          23.28       999.000000        110.0  50.854367   \n",
       "3888881     12.983334          11.26        22.225640         52.0  52.035942   \n",
       "9425421     12.983334           5.40        11.262984         52.0  24.955070   \n",
       "7012202     30.700001          22.20       999.000000        123.0  43.387623   \n",
       "5425446     27.950001          16.10       999.000000        112.0  34.561717   \n",
       "7770609     29.933332          24.49       999.000000        120.0  49.089088   \n",
       "6125544     21.200001          13.49        23.906879         85.0  38.179243   \n",
       "\n",
       "         dollar_per_min  \n",
       "4715919        4.001840  \n",
       "5174478        4.001840  \n",
       "3000747        4.004449  \n",
       "5813612        4.004854  \n",
       "3888881        4.005135  \n",
       "9425421        4.005135  \n",
       "7012202        4.006515  \n",
       "5425446        4.007156  \n",
       "7770609        4.008909  \n",
       "6125544        4.009434  "
      ]
     },
     "execution_count": 59,
     "metadata": {},
     "output_type": "execute_result"
    }
   ],
   "source": [
    "df=data_merged.query('dollar_per_min>4')\n",
    "df=df[['PULocationID','Borough_PU','Zone_PU','DOLocationID','Borough_DO','Zone_DO','PU_time','DO_time',\n",
    "       'duration_min','trip_distance','direct_distance','fare_amount','speed_mph','dollar_per_min']]\n",
    "df=df.sort_values(by=['dollar_per_min'],ascending=True)\n",
    "print(\"Trips with Rate of $4/Min\")\n",
    "df.head(10)"
   ]
  },
  {
   "cell_type": "code",
   "execution_count": 60,
   "metadata": {},
   "outputs": [
    {
     "data": {
      "image/png": "[encoded data removed]",
      "text/plain": [
       "<matplotlib.figure.Figure at 0x2630b7ef1d0>"
      ]
     },
     "metadata": {},
     "output_type": "display_data"
    }
   ],
   "source": [
    "#Review the fare rate of airport trips vs non airport trips\n",
    "# drop records with fare rate greater than $10/min so that I can view the box plots\n",
    "data_filtered=data_merged.query('dollar_per_min<10')\n",
    "fig, ax = plt.subplots(figsize=(10,8))\n",
    "data_filtered.boxplot(column=['dollar_per_min'], by='Airport_Ind', ax=ax)\n",
    "del(data_filtered)"
   ]
  },
  {
   "cell_type": "markdown",
   "metadata": {},
   "source": [
    "Observations: \n",
    "   * The duration, fare amount, and distance metrics for trips with a rate of \\\\$3/min look reasonable. It is surprising that nine of the ten trips have the same duration. The trips are all short and quick.\n",
    "   * The duration and distance metrics for trips with a rate of \\\\$3.50 seem intuitive, but there may be an issue with several of the fare amounts. For example, out of the sample of ten trips, four trips have short duration and distance, but a fare of \\\\$52. This leads me to believe that the taxi was charging a flat fare for these trips instead of using the meter.\n",
    "   * Most of the sample trips with fare rates of $4.00/min have unknown pickup/dropoff locations. The fare amounts are unusually high. Out of the sample trips, only the airport trips appear to have correct data. The boxplot of fare rates by airport classification coorborates that the airport trips tend to have a higher earning rate. \n",
    "   * I will cap the earning rate to \\\\$3.50 for all non airport trips and \\\\$4 for airport trips\n",
    "    \n",
    "    "
   ]
  },
  {
   "cell_type": "markdown",
   "metadata": {},
   "source": [
    "#### Trips with Low Rates"
   ]
  },
  {
   "cell_type": "code",
   "execution_count": 61,
   "metadata": {},
   "outputs": [
    {
     "name": "stdout",
     "output_type": "stream",
     "text": [
      "Trips with Low Rates\n"
     ]
    },
    {
     "data": {
      "text/html": [
       "<div>\n",
       "<style scoped>\n",
       "    .dataframe tbody tr th:only-of-type {\n",
       "        vertical-align: middle;\n",
       "    }\n",
       "\n",
       "    .dataframe tbody tr th {\n",
       "        vertical-align: top;\n",
       "    }\n",
       "\n",
       "    .dataframe thead th {\n",
       "        text-align: right;\n",
       "    }\n",
       "</style>\n",
       "<table border=\"1\" class=\"dataframe\">\n",
       "  <thead>\n",
       "    <tr style=\"text-align: right;\">\n",
       "      <th></th>\n",
       "      <th>PULocationID</th>\n",
       "      <th>Borough_PU</th>\n",
       "      <th>Zone_PU</th>\n",
       "      <th>DOLocationID</th>\n",
       "      <th>Borough_DO</th>\n",
       "      <th>Zone_DO</th>\n",
       "      <th>PU_time</th>\n",
       "      <th>DO_time</th>\n",
       "      <th>duration_min</th>\n",
       "      <th>trip_distance</th>\n",
       "      <th>direct_distance</th>\n",
       "      <th>fare_amount</th>\n",
       "      <th>speed_mph</th>\n",
       "      <th>dollar_per_min</th>\n",
       "    </tr>\n",
       "  </thead>\n",
       "  <tbody>\n",
       "    <tr>\n",
       "      <th>9271057</th>\n",
       "      <td>161</td>\n",
       "      <td>Manhattan</td>\n",
       "      <td>Midtown Center</td>\n",
       "      <td>161</td>\n",
       "      <td>Manhattan</td>\n",
       "      <td>Midtown Center</td>\n",
       "      <td>2017-06-30 09:57:23</td>\n",
       "      <td>2017-06-30 11:26:55</td>\n",
       "      <td>89.533333</td>\n",
       "      <td>0.20</td>\n",
       "      <td>0.000000</td>\n",
       "      <td>4.5</td>\n",
       "      <td>0.134028</td>\n",
       "      <td>0.050261</td>\n",
       "    </tr>\n",
       "    <tr>\n",
       "      <th>6580862</th>\n",
       "      <td>138</td>\n",
       "      <td>Queens</td>\n",
       "      <td>LaGuardia Airport</td>\n",
       "      <td>170</td>\n",
       "      <td>Manhattan</td>\n",
       "      <td>Murray Hill</td>\n",
       "      <td>2017-06-21 14:56:37</td>\n",
       "      <td>2017-06-21 16:05:45</td>\n",
       "      <td>69.133331</td>\n",
       "      <td>0.58</td>\n",
       "      <td>14.931754</td>\n",
       "      <td>3.5</td>\n",
       "      <td>0.503375</td>\n",
       "      <td>0.050627</td>\n",
       "    </tr>\n",
       "    <tr>\n",
       "      <th>31708</th>\n",
       "      <td>107</td>\n",
       "      <td>Manhattan</td>\n",
       "      <td>Gramercy</td>\n",
       "      <td>170</td>\n",
       "      <td>Manhattan</td>\n",
       "      <td>Murray Hill</td>\n",
       "      <td>2017-06-01 06:56:34</td>\n",
       "      <td>2017-06-01 08:15:21</td>\n",
       "      <td>78.783333</td>\n",
       "      <td>0.61</td>\n",
       "      <td>2.036365</td>\n",
       "      <td>4.0</td>\n",
       "      <td>0.464565</td>\n",
       "      <td>0.050772</td>\n",
       "    </tr>\n",
       "    <tr>\n",
       "      <th>5868852</th>\n",
       "      <td>142</td>\n",
       "      <td>Manhattan</td>\n",
       "      <td>Lincoln Square East</td>\n",
       "      <td>193</td>\n",
       "      <td>Queens</td>\n",
       "      <td>Queensbridge/Ravenswood</td>\n",
       "      <td>2017-06-19 09:11:11</td>\n",
       "      <td>2017-06-19 10:39:21</td>\n",
       "      <td>88.166664</td>\n",
       "      <td>0.98</td>\n",
       "      <td>5.977388</td>\n",
       "      <td>4.5</td>\n",
       "      <td>0.666919</td>\n",
       "      <td>0.051040</td>\n",
       "    </tr>\n",
       "    <tr>\n",
       "      <th>3758303</th>\n",
       "      <td>25</td>\n",
       "      <td>Brooklyn</td>\n",
       "      <td>Boerum Hill</td>\n",
       "      <td>132</td>\n",
       "      <td>Queens</td>\n",
       "      <td>JFK Airport</td>\n",
       "      <td>2017-06-12 17:20:50</td>\n",
       "      <td>2017-06-12 18:35:06</td>\n",
       "      <td>74.266670</td>\n",
       "      <td>0.30</td>\n",
       "      <td>29.290158</td>\n",
       "      <td>4.0</td>\n",
       "      <td>0.242370</td>\n",
       "      <td>0.053860</td>\n",
       "    </tr>\n",
       "    <tr>\n",
       "      <th>8147168</th>\n",
       "      <td>264</td>\n",
       "      <td>Unknown</td>\n",
       "      <td>NV</td>\n",
       "      <td>142</td>\n",
       "      <td>Manhattan</td>\n",
       "      <td>Lincoln Square East</td>\n",
       "      <td>2017-06-26 17:21:50</td>\n",
       "      <td>2017-06-26 18:39:57</td>\n",
       "      <td>78.116669</td>\n",
       "      <td>0.51</td>\n",
       "      <td>999.000000</td>\n",
       "      <td>4.5</td>\n",
       "      <td>0.391722</td>\n",
       "      <td>0.057606</td>\n",
       "    </tr>\n",
       "    <tr>\n",
       "      <th>8120169</th>\n",
       "      <td>100</td>\n",
       "      <td>Manhattan</td>\n",
       "      <td>Garment District</td>\n",
       "      <td>186</td>\n",
       "      <td>Manhattan</td>\n",
       "      <td>Penn Station/Madison Sq West</td>\n",
       "      <td>2017-06-26 15:29:09</td>\n",
       "      <td>2017-06-26 16:27:50</td>\n",
       "      <td>58.683334</td>\n",
       "      <td>0.50</td>\n",
       "      <td>1.029645</td>\n",
       "      <td>3.5</td>\n",
       "      <td>0.511218</td>\n",
       "      <td>0.059642</td>\n",
       "    </tr>\n",
       "    <tr>\n",
       "      <th>9270892</th>\n",
       "      <td>161</td>\n",
       "      <td>Manhattan</td>\n",
       "      <td>Midtown Center</td>\n",
       "      <td>161</td>\n",
       "      <td>Manhattan</td>\n",
       "      <td>Midtown Center</td>\n",
       "      <td>2017-06-30 09:56:45</td>\n",
       "      <td>2017-06-30 11:12:01</td>\n",
       "      <td>75.266670</td>\n",
       "      <td>17.50</td>\n",
       "      <td>0.000000</td>\n",
       "      <td>4.5</td>\n",
       "      <td>13.950398</td>\n",
       "      <td>0.059787</td>\n",
       "    </tr>\n",
       "    <tr>\n",
       "      <th>5502905</th>\n",
       "      <td>79</td>\n",
       "      <td>Manhattan</td>\n",
       "      <td>East Village</td>\n",
       "      <td>224</td>\n",
       "      <td>Manhattan</td>\n",
       "      <td>Stuy Town/Peter Cooper Village</td>\n",
       "      <td>2017-06-17 22:06:02</td>\n",
       "      <td>2017-06-17 23:06:00</td>\n",
       "      <td>59.966667</td>\n",
       "      <td>0.71</td>\n",
       "      <td>1.207444</td>\n",
       "      <td>4.0</td>\n",
       "      <td>0.710395</td>\n",
       "      <td>0.066704</td>\n",
       "    </tr>\n",
       "    <tr>\n",
       "      <th>3554679</th>\n",
       "      <td>68</td>\n",
       "      <td>Manhattan</td>\n",
       "      <td>East Chelsea</td>\n",
       "      <td>68</td>\n",
       "      <td>Manhattan</td>\n",
       "      <td>East Chelsea</td>\n",
       "      <td>2017-06-11 22:54:22</td>\n",
       "      <td>2017-06-12 00:00:00</td>\n",
       "      <td>65.633331</td>\n",
       "      <td>0.87</td>\n",
       "      <td>0.000000</td>\n",
       "      <td>4.5</td>\n",
       "      <td>0.795328</td>\n",
       "      <td>0.068563</td>\n",
       "    </tr>\n",
       "  </tbody>\n",
       "</table>\n",
       "</div>"
      ],
      "text/plain": [
       "         PULocationID Borough_PU              Zone_PU  DOLocationID  \\\n",
       "9271057           161  Manhattan       Midtown Center           161   \n",
       "6580862           138     Queens    LaGuardia Airport           170   \n",
       "31708             107  Manhattan             Gramercy           170   \n",
       "5868852           142  Manhattan  Lincoln Square East           193   \n",
       "3758303            25   Brooklyn          Boerum Hill           132   \n",
       "8147168           264    Unknown                   NV           142   \n",
       "8120169           100  Manhattan     Garment District           186   \n",
       "9270892           161  Manhattan       Midtown Center           161   \n",
       "5502905            79  Manhattan         East Village           224   \n",
       "3554679            68  Manhattan         East Chelsea            68   \n",
       "\n",
       "        Borough_DO                         Zone_DO             PU_time  \\\n",
       "9271057  Manhattan                  Midtown Center 2017-06-30 09:57:23   \n",
       "6580862  Manhattan                     Murray Hill 2017-06-21 14:56:37   \n",
       "31708    Manhattan                     Murray Hill 2017-06-01 06:56:34   \n",
       "5868852     Queens         Queensbridge/Ravenswood 2017-06-19 09:11:11   \n",
       "3758303     Queens                     JFK Airport 2017-06-12 17:20:50   \n",
       "8147168  Manhattan             Lincoln Square East 2017-06-26 17:21:50   \n",
       "8120169  Manhattan    Penn Station/Madison Sq West 2017-06-26 15:29:09   \n",
       "9270892  Manhattan                  Midtown Center 2017-06-30 09:56:45   \n",
       "5502905  Manhattan  Stuy Town/Peter Cooper Village 2017-06-17 22:06:02   \n",
       "3554679  Manhattan                    East Chelsea 2017-06-11 22:54:22   \n",
       "\n",
       "                    DO_time  duration_min  trip_distance  direct_distance  \\\n",
       "9271057 2017-06-30 11:26:55     89.533333           0.20         0.000000   \n",
       "6580862 2017-06-21 16:05:45     69.133331           0.58        14.931754   \n",
       "31708   2017-06-01 08:15:21     78.783333           0.61         2.036365   \n",
       "5868852 2017-06-19 10:39:21     88.166664           0.98         5.977388   \n",
       "3758303 2017-06-12 18:35:06     74.266670           0.30        29.290158   \n",
       "8147168 2017-06-26 18:39:57     78.116669           0.51       999.000000   \n",
       "8120169 2017-06-26 16:27:50     58.683334           0.50         1.029645   \n",
       "9270892 2017-06-30 11:12:01     75.266670          17.50         0.000000   \n",
       "5502905 2017-06-17 23:06:00     59.966667           0.71         1.207444   \n",
       "3554679 2017-06-12 00:00:00     65.633331           0.87         0.000000   \n",
       "\n",
       "         fare_amount  speed_mph  dollar_per_min  \n",
       "9271057          4.5   0.134028        0.050261  \n",
       "6580862          3.5   0.503375        0.050627  \n",
       "31708            4.0   0.464565        0.050772  \n",
       "5868852          4.5   0.666919        0.051040  \n",
       "3758303          4.0   0.242370        0.053860  \n",
       "8147168          4.5   0.391722        0.057606  \n",
       "8120169          3.5   0.511218        0.059642  \n",
       "9270892          4.5  13.950398        0.059787  \n",
       "5502905          4.0   0.710395        0.066704  \n",
       "3554679          4.5   0.795328        0.068563  "
      ]
     },
     "execution_count": 61,
     "metadata": {},
     "output_type": "execute_result"
    }
   ],
   "source": [
    "df=data_merged.query('dollar_per_min<0.50')\n",
    "df=df[['PULocationID','Borough_PU','Zone_PU','DOLocationID','Borough_DO','Zone_DO','PU_time','DO_time',\n",
    "       'duration_min','trip_distance','direct_distance','fare_amount','speed_mph','dollar_per_min']]\n",
    "df=df.sort_values(by=['dollar_per_min'],ascending=True)\n",
    "print(\"Trips with Low Rates\")\n",
    "df.head(10)"
   ]
  },
  {
   "cell_type": "code",
   "execution_count": 62,
   "metadata": {},
   "outputs": [
    {
     "name": "stdout",
     "output_type": "stream",
     "text": [
      "Trips with Low Rates\n"
     ]
    },
    {
     "data": {
      "text/html": [
       "<div>\n",
       "<style scoped>\n",
       "    .dataframe tbody tr th:only-of-type {\n",
       "        vertical-align: middle;\n",
       "    }\n",
       "\n",
       "    .dataframe tbody tr th {\n",
       "        vertical-align: top;\n",
       "    }\n",
       "\n",
       "    .dataframe thead th {\n",
       "        text-align: right;\n",
       "    }\n",
       "</style>\n",
       "<table border=\"1\" class=\"dataframe\">\n",
       "  <thead>\n",
       "    <tr style=\"text-align: right;\">\n",
       "      <th></th>\n",
       "      <th>PULocationID</th>\n",
       "      <th>Borough_PU</th>\n",
       "      <th>Zone_PU</th>\n",
       "      <th>DOLocationID</th>\n",
       "      <th>Borough_DO</th>\n",
       "      <th>Zone_DO</th>\n",
       "      <th>PU_time</th>\n",
       "      <th>DO_time</th>\n",
       "      <th>duration_min</th>\n",
       "      <th>trip_distance</th>\n",
       "      <th>direct_distance</th>\n",
       "      <th>fare_amount</th>\n",
       "      <th>speed_mph</th>\n",
       "      <th>dollar_per_min</th>\n",
       "    </tr>\n",
       "  </thead>\n",
       "  <tbody>\n",
       "    <tr>\n",
       "      <th>3716711</th>\n",
       "      <td>186</td>\n",
       "      <td>Manhattan</td>\n",
       "      <td>Penn Station/Madison Sq West</td>\n",
       "      <td>87</td>\n",
       "      <td>Manhattan</td>\n",
       "      <td>Financial District North</td>\n",
       "      <td>2017-06-12 14:50:10</td>\n",
       "      <td>2017-06-12 15:32:11</td>\n",
       "      <td>42.016666</td>\n",
       "      <td>5.50</td>\n",
       "      <td>7.767534</td>\n",
       "      <td>21.0</td>\n",
       "      <td>7.854027</td>\n",
       "      <td>0.499802</td>\n",
       "    </tr>\n",
       "    <tr>\n",
       "      <th>6925208</th>\n",
       "      <td>233</td>\n",
       "      <td>Manhattan</td>\n",
       "      <td>UN/Turtle Bay South</td>\n",
       "      <td>186</td>\n",
       "      <td>Manhattan</td>\n",
       "      <td>Penn Station/Madison Sq West</td>\n",
       "      <td>2017-06-22 15:54:18</td>\n",
       "      <td>2017-06-22 16:25:19</td>\n",
       "      <td>31.016666</td>\n",
       "      <td>1.49</td>\n",
       "      <td>2.876678</td>\n",
       "      <td>15.5</td>\n",
       "      <td>2.882321</td>\n",
       "      <td>0.499731</td>\n",
       "    </tr>\n",
       "    <tr>\n",
       "      <th>2424905</th>\n",
       "      <td>68</td>\n",
       "      <td>Manhattan</td>\n",
       "      <td>East Chelsea</td>\n",
       "      <td>161</td>\n",
       "      <td>Manhattan</td>\n",
       "      <td>Midtown Center</td>\n",
       "      <td>2017-06-08 13:47:22</td>\n",
       "      <td>2017-06-08 14:16:23</td>\n",
       "      <td>29.016666</td>\n",
       "      <td>2.40</td>\n",
       "      <td>3.521923</td>\n",
       "      <td>14.5</td>\n",
       "      <td>4.962665</td>\n",
       "      <td>0.499713</td>\n",
       "    </tr>\n",
       "    <tr>\n",
       "      <th>68679</th>\n",
       "      <td>48</td>\n",
       "      <td>Manhattan</td>\n",
       "      <td>Clinton East</td>\n",
       "      <td>68</td>\n",
       "      <td>Manhattan</td>\n",
       "      <td>East Chelsea</td>\n",
       "      <td>2017-06-01 09:08:31</td>\n",
       "      <td>2017-06-01 09:37:32</td>\n",
       "      <td>29.016666</td>\n",
       "      <td>1.85</td>\n",
       "      <td>2.828764</td>\n",
       "      <td>14.5</td>\n",
       "      <td>3.825388</td>\n",
       "      <td>0.499713</td>\n",
       "    </tr>\n",
       "    <tr>\n",
       "      <th>529131</th>\n",
       "      <td>88</td>\n",
       "      <td>Manhattan</td>\n",
       "      <td>Financial District South</td>\n",
       "      <td>231</td>\n",
       "      <td>Manhattan</td>\n",
       "      <td>TriBeCa/Civic Center</td>\n",
       "      <td>2017-06-02 16:01:17</td>\n",
       "      <td>2017-06-02 16:28:18</td>\n",
       "      <td>27.016666</td>\n",
       "      <td>1.38</td>\n",
       "      <td>2.808356</td>\n",
       "      <td>13.5</td>\n",
       "      <td>3.064775</td>\n",
       "      <td>0.499692</td>\n",
       "    </tr>\n",
       "    <tr>\n",
       "      <th>7269579</th>\n",
       "      <td>261</td>\n",
       "      <td>Manhattan</td>\n",
       "      <td>World Trade Center</td>\n",
       "      <td>13</td>\n",
       "      <td>Manhattan</td>\n",
       "      <td>Battery Park City</td>\n",
       "      <td>2017-06-23 16:12:33</td>\n",
       "      <td>2017-06-23 16:37:34</td>\n",
       "      <td>25.016666</td>\n",
       "      <td>1.20</td>\n",
       "      <td>0.641129</td>\n",
       "      <td>12.5</td>\n",
       "      <td>2.878081</td>\n",
       "      <td>0.499667</td>\n",
       "    </tr>\n",
       "    <tr>\n",
       "      <th>4298824</th>\n",
       "      <td>230</td>\n",
       "      <td>Manhattan</td>\n",
       "      <td>Times Sq/Theatre District</td>\n",
       "      <td>233</td>\n",
       "      <td>Manhattan</td>\n",
       "      <td>UN/Turtle Bay South</td>\n",
       "      <td>2017-06-14 10:40:27</td>\n",
       "      <td>2017-06-14 11:03:28</td>\n",
       "      <td>23.016666</td>\n",
       "      <td>1.10</td>\n",
       "      <td>2.591360</td>\n",
       "      <td>11.5</td>\n",
       "      <td>2.867487</td>\n",
       "      <td>0.499638</td>\n",
       "    </tr>\n",
       "    <tr>\n",
       "      <th>3215850</th>\n",
       "      <td>161</td>\n",
       "      <td>Manhattan</td>\n",
       "      <td>Midtown Center</td>\n",
       "      <td>50</td>\n",
       "      <td>Manhattan</td>\n",
       "      <td>Clinton West</td>\n",
       "      <td>2017-06-10 19:50:14</td>\n",
       "      <td>2017-06-10 20:13:15</td>\n",
       "      <td>23.016666</td>\n",
       "      <td>1.56</td>\n",
       "      <td>2.697621</td>\n",
       "      <td>11.5</td>\n",
       "      <td>4.066618</td>\n",
       "      <td>0.499638</td>\n",
       "    </tr>\n",
       "    <tr>\n",
       "      <th>8033324</th>\n",
       "      <td>7</td>\n",
       "      <td>Queens</td>\n",
       "      <td>Astoria</td>\n",
       "      <td>193</td>\n",
       "      <td>Queens</td>\n",
       "      <td>Queensbridge/Ravenswood</td>\n",
       "      <td>2017-06-26 09:25:12</td>\n",
       "      <td>2017-06-26 09:47:13</td>\n",
       "      <td>22.016666</td>\n",
       "      <td>3.10</td>\n",
       "      <td>2.550214</td>\n",
       "      <td>11.0</td>\n",
       "      <td>8.448146</td>\n",
       "      <td>0.499622</td>\n",
       "    </tr>\n",
       "    <tr>\n",
       "      <th>1494756</th>\n",
       "      <td>138</td>\n",
       "      <td>Queens</td>\n",
       "      <td>LaGuardia Airport</td>\n",
       "      <td>129</td>\n",
       "      <td>Queens</td>\n",
       "      <td>Jackson Heights</td>\n",
       "      <td>2017-06-05 17:40:56</td>\n",
       "      <td>2017-06-05 18:02:57</td>\n",
       "      <td>22.016666</td>\n",
       "      <td>2.47</td>\n",
       "      <td>3.452730</td>\n",
       "      <td>11.0</td>\n",
       "      <td>6.731264</td>\n",
       "      <td>0.499622</td>\n",
       "    </tr>\n",
       "  </tbody>\n",
       "</table>\n",
       "</div>"
      ],
      "text/plain": [
       "         PULocationID Borough_PU                       Zone_PU  DOLocationID  \\\n",
       "3716711           186  Manhattan  Penn Station/Madison Sq West            87   \n",
       "6925208           233  Manhattan           UN/Turtle Bay South           186   \n",
       "2424905            68  Manhattan                  East Chelsea           161   \n",
       "68679              48  Manhattan                  Clinton East            68   \n",
       "529131             88  Manhattan      Financial District South           231   \n",
       "7269579           261  Manhattan            World Trade Center            13   \n",
       "4298824           230  Manhattan     Times Sq/Theatre District           233   \n",
       "3215850           161  Manhattan                Midtown Center            50   \n",
       "8033324             7     Queens                       Astoria           193   \n",
       "1494756           138     Queens             LaGuardia Airport           129   \n",
       "\n",
       "        Borough_DO                       Zone_DO             PU_time  \\\n",
       "3716711  Manhattan      Financial District North 2017-06-12 14:50:10   \n",
       "6925208  Manhattan  Penn Station/Madison Sq West 2017-06-22 15:54:18   \n",
       "2424905  Manhattan                Midtown Center 2017-06-08 13:47:22   \n",
       "68679    Manhattan                  East Chelsea 2017-06-01 09:08:31   \n",
       "529131   Manhattan          TriBeCa/Civic Center 2017-06-02 16:01:17   \n",
       "7269579  Manhattan             Battery Park City 2017-06-23 16:12:33   \n",
       "4298824  Manhattan           UN/Turtle Bay South 2017-06-14 10:40:27   \n",
       "3215850  Manhattan                  Clinton West 2017-06-10 19:50:14   \n",
       "8033324     Queens       Queensbridge/Ravenswood 2017-06-26 09:25:12   \n",
       "1494756     Queens               Jackson Heights 2017-06-05 17:40:56   \n",
       "\n",
       "                    DO_time  duration_min  trip_distance  direct_distance  \\\n",
       "3716711 2017-06-12 15:32:11     42.016666           5.50         7.767534   \n",
       "6925208 2017-06-22 16:25:19     31.016666           1.49         2.876678   \n",
       "2424905 2017-06-08 14:16:23     29.016666           2.40         3.521923   \n",
       "68679   2017-06-01 09:37:32     29.016666           1.85         2.828764   \n",
       "529131  2017-06-02 16:28:18     27.016666           1.38         2.808356   \n",
       "7269579 2017-06-23 16:37:34     25.016666           1.20         0.641129   \n",
       "4298824 2017-06-14 11:03:28     23.016666           1.10         2.591360   \n",
       "3215850 2017-06-10 20:13:15     23.016666           1.56         2.697621   \n",
       "8033324 2017-06-26 09:47:13     22.016666           3.10         2.550214   \n",
       "1494756 2017-06-05 18:02:57     22.016666           2.47         3.452730   \n",
       "\n",
       "         fare_amount  speed_mph  dollar_per_min  \n",
       "3716711         21.0   7.854027        0.499802  \n",
       "6925208         15.5   2.882321        0.499731  \n",
       "2424905         14.5   4.962665        0.499713  \n",
       "68679           14.5   3.825388        0.499713  \n",
       "529131          13.5   3.064775        0.499692  \n",
       "7269579         12.5   2.878081        0.499667  \n",
       "4298824         11.5   2.867487        0.499638  \n",
       "3215850         11.5   4.066618        0.499638  \n",
       "8033324         11.0   8.448146        0.499622  \n",
       "1494756         11.0   6.731264        0.499622  "
      ]
     },
     "execution_count": 62,
     "metadata": {},
     "output_type": "execute_result"
    }
   ],
   "source": [
    "df=data_merged.query('dollar_per_min<0.50')\n",
    "df=df[['PULocationID','Borough_PU','Zone_PU','DOLocationID','Borough_DO','Zone_DO','PU_time','DO_time',\n",
    "       'duration_min','trip_distance','direct_distance','fare_amount','speed_mph','dollar_per_min']]\n",
    "df=df.sort_values(by=['dollar_per_min'],ascending=False)\n",
    "print(\"Trips with Low Rates\")\n",
    "df.head(10)"
   ]
  },
  {
   "cell_type": "code",
   "execution_count": 63,
   "metadata": {},
   "outputs": [
    {
     "name": "stdout",
     "output_type": "stream",
     "text": [
      "Bottom 0.5% and 1% Fare Rate (Dollar per Minute) by Airport Classification\n"
     ]
    },
    {
     "data": {
      "text/plain": [
       "Airport_Ind       \n",
       "EWR          0.005    0.964057\n",
       "             0.010    0.997409\n",
       "JFK          0.005    0.589458\n",
       "             0.010    0.600546\n",
       "LGA          0.005    0.618474\n",
       "             0.010    0.631803\n",
       "None         0.005    0.589452\n",
       "             0.010    0.603248\n",
       "Name: dollar_per_min, dtype: float64"
      ]
     },
     "execution_count": 63,
     "metadata": {},
     "output_type": "execute_result"
    }
   ],
   "source": [
    "print(\"Bottom 0.5% and 1% Fare Rate (Dollar per Minute) by Airport Classification\")\n",
    "data_merged.groupby(['Airport_Ind'])['dollar_per_min'].quantile([0.005,0.01])"
   ]
  },
  {
   "cell_type": "markdown",
   "metadata": {},
   "source": [
    "Observations:\n",
    "   * Standard taxi rates charge \\\\$0.50 per 1/5 mile traveled or per minute in slow traffic. This means that a taxi should receive a minimum rate of \\\\$0.50 per minute. (It should be slightly higher because the fare includes an intial fee of \\\\$2.50. Low fares would be due to negotiated rates or incorrect data.\n",
    "   * For trips with a rate close to zero, the direct distance metric confirms that the trip distance is being reported incorrectly. These trips should be much longer in distance than what is being reported. Furthermore, the durations of these trips are high, which is in line with the direct distance metrics, but the fares are very low. I have concluded that both the distance and fare are being misreported for trips with unusually low fare rates.\n",
    "   * The trips with a fare rate around \\\\$0.50 have distances in line with the direct distance metrics. The fare amounts are around \\\\$11-\\\\$13, which is to be expected with short trips. The durations of these trips are mostly around 20-30 minutes, resulting in low trip speed. Since many of the inner city trips have low speeds, these edge cases may be valid. \n",
    "   * The quantile plot of fare rates shows that the bottom 0.5% and bottom 1% is \\\\$1 for EWR trips, \\\\$0.60 for JFK trips, \\\\$0.62 for LGA trips, and \\\\$0.59 for all other trips.\n",
    "   * I will drop all trips with a fare rate under \\\\$0.50/min\n",
    "   "
   ]
  },
  {
   "cell_type": "markdown",
   "metadata": {},
   "source": [
    "## Filter Out Additional Policies with Incorrect Speeds and Fare Rates"
   ]
  },
  {
   "cell_type": "markdown",
   "metadata": {},
   "source": [
    "Drop conditions:\n",
    "   * High Speed (greater than 65 mph)\n",
    "   * Low Speed (less than 1 mph)\n",
    "   * High Rates (greater than \\\\$4/min for airport trips, greater than \\\\$3.50/min for non airport trips)\n",
    "   * Low Rates (less than \\\\$0.50/min)\n"
   ]
  },
  {
   "cell_type": "code",
   "execution_count": 64,
   "metadata": {},
   "outputs": [],
   "source": [
    "m=data_merged.shape[0]\n",
    "data_merged['airport_flag']=np.where(data_merged['Airport_Ind']=='None',1,0)\n",
    "mask_0 = (data_merged.speed_mph>65)\n",
    "mask_1 = (data_merged.speed_mph<1)\n",
    "mask_2 = ((data_merged.dollar_per_min>4) & (data_merged.airport_flag==1))\n",
    "mask_3 = ((data_merged.dollar_per_min>3.5) & (data_merged.airport_flag==0))\n",
    "data_merged.loc[mask_0, 'flag'] = 1\n",
    "data_merged.loc[mask_1, 'flag'] = 1\n",
    "data_merged.loc[mask_2, 'flag'] = 1\n",
    "data_merged.loc[mask_3, 'flag'] = 1\n",
    "data_merged['flag'].fillna(0,inplace=True)\n",
    "data_merged=data_merged.query('flag==0')\n"
   ]
  },
  {
   "cell_type": "markdown",
   "metadata": {},
   "source": [
    "## Review Trips with Unknown Destinations"
   ]
  },
  {
   "cell_type": "markdown",
   "metadata": {},
   "source": [
    "Although I have included those trips with unknown pickup and dropoff locations up until this point, I would prefer to exclude them from my analysis because it is harder to optimize a route if you do not know where you are traveling. I was hesitant to drop them at first because the represented some trip demand and fare that I would like to model. I must quantify the impact of the unknown locations and whether or not the data makes sense. \n",
    "\n",
    "If the unknown locations represent a significant percentage of my remaining data, I could impute their locations using the trips with similar fare, distance, and duration."
   ]
  },
  {
   "cell_type": "code",
   "execution_count": 65,
   "metadata": {},
   "outputs": [],
   "source": [
    "#create indicator for trips with unknown locations\n",
    "mask_0 = ((data_merged.PULocationID == 264)|(data_merged.DOLocationID==264))\n",
    "mask_1 = ((data_merged.PULocationID == 265)|(data_merged.DOLocationID==265))\n",
    "data_merged.loc[mask_0, 'unknown_loc'] = 1\n",
    "data_merged.loc[mask_1, 'unknown_loc'] = 1\n",
    "data_merged['unknown_loc'].fillna(0,inplace=True)"
   ]
  },
  {
   "cell_type": "code",
   "execution_count": 66,
   "metadata": {},
   "outputs": [
    {
     "name": "stdout",
     "output_type": "stream",
     "text": [
      "Total Records:9477676\n",
      "Total Records with Unknown Locations: 144199\n",
      "Percentage of Total Records with Unknown Location (%):1.5214594801510413\n"
     ]
    }
   ],
   "source": [
    "df=data_merged.query('unknown_loc == 1')\n",
    "print(\"Total Records:{}\".format(data_merged.shape[0]))\n",
    "print(\"Total Records with Unknown Locations: {}\".format(df.shape[0]))\n",
    "print(\"Percentage of Total Records with Unknown Location (%):{}\".format((df.shape[0]/data_merged.shape[0])*100))"
   ]
  },
  {
   "cell_type": "code",
   "execution_count": 67,
   "metadata": {},
   "outputs": [
    {
     "name": "stdout",
     "output_type": "stream",
     "text": [
      "Summary Statistics for Trips with Known Locations\n"
     ]
    },
    {
     "data": {
      "text/html": [
       "<div>\n",
       "<style scoped>\n",
       "    .dataframe tbody tr th:only-of-type {\n",
       "        vertical-align: middle;\n",
       "    }\n",
       "\n",
       "    .dataframe tbody tr th {\n",
       "        vertical-align: top;\n",
       "    }\n",
       "\n",
       "    .dataframe thead th {\n",
       "        text-align: right;\n",
       "    }\n",
       "</style>\n",
       "<table border=\"1\" class=\"dataframe\">\n",
       "  <thead>\n",
       "    <tr style=\"text-align: right;\">\n",
       "      <th></th>\n",
       "      <th>trip_distance</th>\n",
       "      <th>duration_min</th>\n",
       "      <th>fare_amount</th>\n",
       "      <th>speed_mph</th>\n",
       "      <th>dollar_per_min</th>\n",
       "    </tr>\n",
       "  </thead>\n",
       "  <tbody>\n",
       "    <tr>\n",
       "      <th>count</th>\n",
       "      <td>9333477.00</td>\n",
       "      <td>9333477.00</td>\n",
       "      <td>9333477.00</td>\n",
       "      <td>9333477.00</td>\n",
       "      <td>9333477.00</td>\n",
       "    </tr>\n",
       "    <tr>\n",
       "      <th>mean</th>\n",
       "      <td>2.96</td>\n",
       "      <td>14.81</td>\n",
       "      <td>12.98</td>\n",
       "      <td>11.23</td>\n",
       "      <td>0.96</td>\n",
       "    </tr>\n",
       "    <tr>\n",
       "      <th>std</th>\n",
       "      <td>3.63</td>\n",
       "      <td>11.98</td>\n",
       "      <td>10.45</td>\n",
       "      <td>5.78</td>\n",
       "      <td>0.28</td>\n",
       "    </tr>\n",
       "    <tr>\n",
       "      <th>min</th>\n",
       "      <td>0.20</td>\n",
       "      <td>1.02</td>\n",
       "      <td>3.50</td>\n",
       "      <td>1.00</td>\n",
       "      <td>0.06</td>\n",
       "    </tr>\n",
       "    <tr>\n",
       "      <th>25%</th>\n",
       "      <td>1.00</td>\n",
       "      <td>6.85</td>\n",
       "      <td>6.50</td>\n",
       "      <td>7.36</td>\n",
       "      <td>0.77</td>\n",
       "    </tr>\n",
       "    <tr>\n",
       "      <th>50%</th>\n",
       "      <td>1.70</td>\n",
       "      <td>11.38</td>\n",
       "      <td>9.50</td>\n",
       "      <td>10.01</td>\n",
       "      <td>0.89</td>\n",
       "    </tr>\n",
       "    <tr>\n",
       "      <th>75%</th>\n",
       "      <td>3.10</td>\n",
       "      <td>18.67</td>\n",
       "      <td>15.00</td>\n",
       "      <td>13.57</td>\n",
       "      <td>1.07</td>\n",
       "    </tr>\n",
       "    <tr>\n",
       "      <th>max</th>\n",
       "      <td>49.90</td>\n",
       "      <td>89.98</td>\n",
       "      <td>180.00</td>\n",
       "      <td>64.99</td>\n",
       "      <td>4.00</td>\n",
       "    </tr>\n",
       "  </tbody>\n",
       "</table>\n",
       "</div>"
      ],
      "text/plain": [
       "       trip_distance  duration_min  fare_amount   speed_mph  dollar_per_min\n",
       "count     9333477.00    9333477.00   9333477.00  9333477.00      9333477.00\n",
       "mean            2.96         14.81        12.98       11.23            0.96\n",
       "std             3.63         11.98        10.45        5.78            0.28\n",
       "min             0.20          1.02         3.50        1.00            0.06\n",
       "25%             1.00          6.85         6.50        7.36            0.77\n",
       "50%             1.70         11.38         9.50       10.01            0.89\n",
       "75%             3.10         18.67        15.00       13.57            1.07\n",
       "max            49.90         89.98       180.00       64.99            4.00"
      ]
     },
     "execution_count": 67,
     "metadata": {},
     "output_type": "execute_result"
    }
   ],
   "source": [
    "df=data_merged.query('unknown_loc==0')\n",
    "print(\"Summary Statistics for Trips with Known Locations\")\n",
    "np.around(df[['trip_distance','duration_min','fare_amount','speed_mph','dollar_per_min']].describe(),2)\n"
   ]
  },
  {
   "cell_type": "code",
   "execution_count": 68,
   "metadata": {},
   "outputs": [
    {
     "name": "stdout",
     "output_type": "stream",
     "text": [
      "Summary Statistics for Trips with Unknown Locations\n"
     ]
    },
    {
     "data": {
      "text/html": [
       "<div>\n",
       "<style scoped>\n",
       "    .dataframe tbody tr th:only-of-type {\n",
       "        vertical-align: middle;\n",
       "    }\n",
       "\n",
       "    .dataframe tbody tr th {\n",
       "        vertical-align: top;\n",
       "    }\n",
       "\n",
       "    .dataframe thead th {\n",
       "        text-align: right;\n",
       "    }\n",
       "</style>\n",
       "<table border=\"1\" class=\"dataframe\">\n",
       "  <thead>\n",
       "    <tr style=\"text-align: right;\">\n",
       "      <th></th>\n",
       "      <th>trip_distance</th>\n",
       "      <th>duration_min</th>\n",
       "      <th>fare_amount</th>\n",
       "      <th>speed_mph</th>\n",
       "      <th>dollar_per_min</th>\n",
       "    </tr>\n",
       "  </thead>\n",
       "  <tbody>\n",
       "    <tr>\n",
       "      <th>count</th>\n",
       "      <td>144199.00</td>\n",
       "      <td>144199.00</td>\n",
       "      <td>144199.00</td>\n",
       "      <td>144199.00</td>\n",
       "      <td>144199.00</td>\n",
       "    </tr>\n",
       "    <tr>\n",
       "      <th>mean</th>\n",
       "      <td>4.54</td>\n",
       "      <td>17.58</td>\n",
       "      <td>19.47</td>\n",
       "      <td>12.96</td>\n",
       "      <td>1.06</td>\n",
       "    </tr>\n",
       "    <tr>\n",
       "      <th>std</th>\n",
       "      <td>6.37</td>\n",
       "      <td>14.89</td>\n",
       "      <td>23.55</td>\n",
       "      <td>8.02</td>\n",
       "      <td>0.46</td>\n",
       "    </tr>\n",
       "    <tr>\n",
       "      <th>min</th>\n",
       "      <td>0.20</td>\n",
       "      <td>1.02</td>\n",
       "      <td>3.50</td>\n",
       "      <td>1.00</td>\n",
       "      <td>0.11</td>\n",
       "    </tr>\n",
       "    <tr>\n",
       "      <th>25%</th>\n",
       "      <td>1.10</td>\n",
       "      <td>7.42</td>\n",
       "      <td>7.00</td>\n",
       "      <td>7.67</td>\n",
       "      <td>0.78</td>\n",
       "    </tr>\n",
       "    <tr>\n",
       "      <th>50%</th>\n",
       "      <td>1.90</td>\n",
       "      <td>12.82</td>\n",
       "      <td>10.50</td>\n",
       "      <td>10.70</td>\n",
       "      <td>0.92</td>\n",
       "    </tr>\n",
       "    <tr>\n",
       "      <th>75%</th>\n",
       "      <td>4.60</td>\n",
       "      <td>22.43</td>\n",
       "      <td>19.50</td>\n",
       "      <td>15.44</td>\n",
       "      <td>1.16</td>\n",
       "    </tr>\n",
       "    <tr>\n",
       "      <th>max</th>\n",
       "      <td>49.82</td>\n",
       "      <td>89.97</td>\n",
       "      <td>199.50</td>\n",
       "      <td>63.41</td>\n",
       "      <td>4.00</td>\n",
       "    </tr>\n",
       "  </tbody>\n",
       "</table>\n",
       "</div>"
      ],
      "text/plain": [
       "       trip_distance  duration_min  fare_amount  speed_mph  dollar_per_min\n",
       "count      144199.00     144199.00    144199.00  144199.00       144199.00\n",
       "mean            4.54         17.58        19.47      12.96            1.06\n",
       "std             6.37         14.89        23.55       8.02            0.46\n",
       "min             0.20          1.02         3.50       1.00            0.11\n",
       "25%             1.10          7.42         7.00       7.67            0.78\n",
       "50%             1.90         12.82        10.50      10.70            0.92\n",
       "75%             4.60         22.43        19.50      15.44            1.16\n",
       "max            49.82         89.97       199.50      63.41            4.00"
      ]
     },
     "execution_count": 68,
     "metadata": {},
     "output_type": "execute_result"
    }
   ],
   "source": [
    "df=data_merged.query('unknown_loc==1')\n",
    "print(\"Summary Statistics for Trips with Unknown Locations\")\n",
    "np.around(df[['trip_distance','duration_min','fare_amount','speed_mph','dollar_per_min']].describe(),2)\n"
   ]
  },
  {
   "cell_type": "markdown",
   "metadata": {},
   "source": [
    "As seen above, the trips with unknown locations (pickup, dropoff, or both) account for only 1.5% of the cleaned data. The distributions of the data with known locations is very similar to that of unknown locations. The trips with unknown locations has a slightly higher distance, duration, fare, speed, and dollar per minute. I suspect that many of these trips are from areas outside of the boroughs.\n",
    "\n",
    "As I stated previously, if the trips accounted for more of the data, I would impute their locations using the distance, fare amount, and duration. I will drop these trips for now since location is important for the model that I would like to implement in the future, a Markov Design Process. "
   ]
  },
  {
   "cell_type": "code",
   "execution_count": 69,
   "metadata": {},
   "outputs": [],
   "source": [
    "#Drop unknown locations\n",
    "\n",
    "data_merged=data_merged.query('unknown_loc==0')\n"
   ]
  },
  {
   "cell_type": "markdown",
   "metadata": {},
   "source": [
    "## Review Trips with High Tips"
   ]
  },
  {
   "cell_type": "markdown",
   "metadata": {},
   "source": [
    "As I will detail later, I view tip amounts of trips as part of the taxi income that I am trying to optimize. Therefore, I consider high tip values to be edge cases.\n",
    "\n",
    "I will use the tip ratio (percentage of tip as part of fare) to identify outlier records. According to various websites, a tip of 20% is expected for New York City cab services. For low fares, I could expect a slightly higher tip value (to round to the nearest dollar amount)."
   ]
  },
  {
   "cell_type": "code",
   "execution_count": 70,
   "metadata": {},
   "outputs": [],
   "source": [
    "data_merged['tip_ratio']=np.where(data_merged.payment_type==1,data_merged.tip_amount/data_merged.fare_amount,0)"
   ]
  },
  {
   "cell_type": "code",
   "execution_count": 71,
   "metadata": {},
   "outputs": [
    {
     "data": {
      "text/plain": [
       "0.000      0.00\n",
       "0.010      0.00\n",
       "0.050      0.68\n",
       "0.100      1.00\n",
       "0.250      1.36\n",
       "0.500      2.00\n",
       "0.750      3.06\n",
       "0.900      5.20\n",
       "0.950      8.00\n",
       "0.990     12.47\n",
       "0.995     14.64\n",
       "0.999     18.92\n",
       "1.000    444.00\n",
       "Name: tip_amount, dtype: float64"
      ]
     },
     "execution_count": 71,
     "metadata": {},
     "output_type": "execute_result"
    }
   ],
   "source": [
    "#Review tip amounts for credit card payments\n",
    "df=data_merged.query('payment_type==1')\n",
    "df['tip_amount'].quantile([0,0.01,0.05,0.1,0.25,0.5,0.75,0.90,0.95,0.99,0.995,0.999,1])"
   ]
  },
  {
   "cell_type": "code",
   "execution_count": 72,
   "metadata": {},
   "outputs": [
    {
     "data": {
      "text/html": [
       "<div>\n",
       "<style scoped>\n",
       "    .dataframe tbody tr th:only-of-type {\n",
       "        vertical-align: middle;\n",
       "    }\n",
       "\n",
       "    .dataframe tbody tr th {\n",
       "        vertical-align: top;\n",
       "    }\n",
       "\n",
       "    .dataframe thead th {\n",
       "        text-align: right;\n",
       "    }\n",
       "</style>\n",
       "<table border=\"1\" class=\"dataframe\">\n",
       "  <thead>\n",
       "    <tr style=\"text-align: right;\">\n",
       "      <th></th>\n",
       "      <th>PULocationID</th>\n",
       "      <th>DOLocationID</th>\n",
       "      <th>trip_distance</th>\n",
       "      <th>duration_min</th>\n",
       "      <th>speed_mph</th>\n",
       "      <th>fare_amount</th>\n",
       "      <th>total_amount</th>\n",
       "      <th>tip_amount</th>\n",
       "      <th>tip_ratio</th>\n",
       "    </tr>\n",
       "  </thead>\n",
       "  <tbody>\n",
       "    <tr>\n",
       "      <th>116932</th>\n",
       "      <td>68</td>\n",
       "      <td>90</td>\n",
       "      <td>0.43</td>\n",
       "      <td>2.883333</td>\n",
       "      <td>8.947977</td>\n",
       "      <td>4.0</td>\n",
       "      <td>448.80</td>\n",
       "      <td>444.00</td>\n",
       "      <td>111.000000</td>\n",
       "    </tr>\n",
       "    <tr>\n",
       "      <th>30722</th>\n",
       "      <td>186</td>\n",
       "      <td>164</td>\n",
       "      <td>0.77</td>\n",
       "      <td>3.433333</td>\n",
       "      <td>13.456310</td>\n",
       "      <td>4.5</td>\n",
       "      <td>232.30</td>\n",
       "      <td>227.00</td>\n",
       "      <td>50.444444</td>\n",
       "    </tr>\n",
       "    <tr>\n",
       "      <th>2261962</th>\n",
       "      <td>107</td>\n",
       "      <td>100</td>\n",
       "      <td>1.32</td>\n",
       "      <td>7.066667</td>\n",
       "      <td>11.207547</td>\n",
       "      <td>7.0</td>\n",
       "      <td>345.36</td>\n",
       "      <td>337.06</td>\n",
       "      <td>48.151429</td>\n",
       "    </tr>\n",
       "    <tr>\n",
       "      <th>1702070</th>\n",
       "      <td>168</td>\n",
       "      <td>74</td>\n",
       "      <td>1.80</td>\n",
       "      <td>8.000000</td>\n",
       "      <td>13.499999</td>\n",
       "      <td>8.0</td>\n",
       "      <td>344.15</td>\n",
       "      <td>335.35</td>\n",
       "      <td>41.918750</td>\n",
       "    </tr>\n",
       "    <tr>\n",
       "      <th>4759889</th>\n",
       "      <td>238</td>\n",
       "      <td>236</td>\n",
       "      <td>1.25</td>\n",
       "      <td>9.283334</td>\n",
       "      <td>8.078994</td>\n",
       "      <td>8.0</td>\n",
       "      <td>339.80</td>\n",
       "      <td>330.00</td>\n",
       "      <td>41.250000</td>\n",
       "    </tr>\n",
       "    <tr>\n",
       "      <th>736654</th>\n",
       "      <td>226</td>\n",
       "      <td>260</td>\n",
       "      <td>1.07</td>\n",
       "      <td>4.250000</td>\n",
       "      <td>15.105882</td>\n",
       "      <td>5.5</td>\n",
       "      <td>229.00</td>\n",
       "      <td>222.20</td>\n",
       "      <td>40.400000</td>\n",
       "    </tr>\n",
       "    <tr>\n",
       "      <th>3267001</th>\n",
       "      <td>68</td>\n",
       "      <td>230</td>\n",
       "      <td>0.40</td>\n",
       "      <td>14.750000</td>\n",
       "      <td>1.627119</td>\n",
       "      <td>9.5</td>\n",
       "      <td>360.80</td>\n",
       "      <td>350.00</td>\n",
       "      <td>36.842105</td>\n",
       "    </tr>\n",
       "    <tr>\n",
       "      <th>5040364</th>\n",
       "      <td>162</td>\n",
       "      <td>140</td>\n",
       "      <td>1.21</td>\n",
       "      <td>11.150000</td>\n",
       "      <td>6.511211</td>\n",
       "      <td>8.5</td>\n",
       "      <td>309.30</td>\n",
       "      <td>300.00</td>\n",
       "      <td>35.294118</td>\n",
       "    </tr>\n",
       "    <tr>\n",
       "      <th>2899691</th>\n",
       "      <td>48</td>\n",
       "      <td>224</td>\n",
       "      <td>2.80</td>\n",
       "      <td>14.600000</td>\n",
       "      <td>11.506849</td>\n",
       "      <td>12.0</td>\n",
       "      <td>424.80</td>\n",
       "      <td>411.50</td>\n",
       "      <td>34.291667</td>\n",
       "    </tr>\n",
       "    <tr>\n",
       "      <th>512328</th>\n",
       "      <td>143</td>\n",
       "      <td>238</td>\n",
       "      <td>1.03</td>\n",
       "      <td>5.283333</td>\n",
       "      <td>11.697160</td>\n",
       "      <td>6.0</td>\n",
       "      <td>206.80</td>\n",
       "      <td>200.00</td>\n",
       "      <td>33.333333</td>\n",
       "    </tr>\n",
       "    <tr>\n",
       "      <th>4823900</th>\n",
       "      <td>144</td>\n",
       "      <td>229</td>\n",
       "      <td>2.83</td>\n",
       "      <td>18.066668</td>\n",
       "      <td>9.398523</td>\n",
       "      <td>13.5</td>\n",
       "      <td>391.59</td>\n",
       "      <td>376.79</td>\n",
       "      <td>27.910370</td>\n",
       "    </tr>\n",
       "    <tr>\n",
       "      <th>5821189</th>\n",
       "      <td>79</td>\n",
       "      <td>79</td>\n",
       "      <td>0.47</td>\n",
       "      <td>2.550000</td>\n",
       "      <td>11.058823</td>\n",
       "      <td>3.5</td>\n",
       "      <td>93.00</td>\n",
       "      <td>88.20</td>\n",
       "      <td>25.200000</td>\n",
       "    </tr>\n",
       "    <tr>\n",
       "      <th>7673214</th>\n",
       "      <td>65</td>\n",
       "      <td>148</td>\n",
       "      <td>1.79</td>\n",
       "      <td>5.066667</td>\n",
       "      <td>21.197369</td>\n",
       "      <td>7.5</td>\n",
       "      <td>196.82</td>\n",
       "      <td>188.02</td>\n",
       "      <td>25.069333</td>\n",
       "    </tr>\n",
       "    <tr>\n",
       "      <th>3014021</th>\n",
       "      <td>211</td>\n",
       "      <td>144</td>\n",
       "      <td>0.45</td>\n",
       "      <td>3.233333</td>\n",
       "      <td>8.350515</td>\n",
       "      <td>4.0</td>\n",
       "      <td>105.30</td>\n",
       "      <td>100.00</td>\n",
       "      <td>25.000000</td>\n",
       "    </tr>\n",
       "    <tr>\n",
       "      <th>4422138</th>\n",
       "      <td>237</td>\n",
       "      <td>158</td>\n",
       "      <td>3.62</td>\n",
       "      <td>26.966667</td>\n",
       "      <td>8.054388</td>\n",
       "      <td>18.0</td>\n",
       "      <td>407.80</td>\n",
       "      <td>388.00</td>\n",
       "      <td>21.555556</td>\n",
       "    </tr>\n",
       "    <tr>\n",
       "      <th>172294</th>\n",
       "      <td>170</td>\n",
       "      <td>164</td>\n",
       "      <td>0.64</td>\n",
       "      <td>2.966667</td>\n",
       "      <td>12.943820</td>\n",
       "      <td>4.5</td>\n",
       "      <td>96.30</td>\n",
       "      <td>91.00</td>\n",
       "      <td>20.222222</td>\n",
       "    </tr>\n",
       "    <tr>\n",
       "      <th>8898803</th>\n",
       "      <td>114</td>\n",
       "      <td>261</td>\n",
       "      <td>2.24</td>\n",
       "      <td>8.583333</td>\n",
       "      <td>15.658254</td>\n",
       "      <td>9.0</td>\n",
       "      <td>191.48</td>\n",
       "      <td>181.18</td>\n",
       "      <td>20.131111</td>\n",
       "    </tr>\n",
       "    <tr>\n",
       "      <th>4170199</th>\n",
       "      <td>142</td>\n",
       "      <td>163</td>\n",
       "      <td>0.74</td>\n",
       "      <td>4.483333</td>\n",
       "      <td>9.903347</td>\n",
       "      <td>5.0</td>\n",
       "      <td>106.30</td>\n",
       "      <td>100.00</td>\n",
       "      <td>20.000000</td>\n",
       "    </tr>\n",
       "    <tr>\n",
       "      <th>1604720</th>\n",
       "      <td>244</td>\n",
       "      <td>243</td>\n",
       "      <td>0.48</td>\n",
       "      <td>2.450000</td>\n",
       "      <td>11.755101</td>\n",
       "      <td>3.5</td>\n",
       "      <td>74.80</td>\n",
       "      <td>70.00</td>\n",
       "      <td>20.000000</td>\n",
       "    </tr>\n",
       "    <tr>\n",
       "      <th>3874613</th>\n",
       "      <td>22</td>\n",
       "      <td>21</td>\n",
       "      <td>1.77</td>\n",
       "      <td>7.833333</td>\n",
       "      <td>13.557447</td>\n",
       "      <td>9.0</td>\n",
       "      <td>180.30</td>\n",
       "      <td>170.00</td>\n",
       "      <td>18.888889</td>\n",
       "    </tr>\n",
       "    <tr>\n",
       "      <th>2627129</th>\n",
       "      <td>229</td>\n",
       "      <td>233</td>\n",
       "      <td>0.70</td>\n",
       "      <td>4.566667</td>\n",
       "      <td>9.197081</td>\n",
       "      <td>5.0</td>\n",
       "      <td>99.30</td>\n",
       "      <td>93.00</td>\n",
       "      <td>18.600000</td>\n",
       "    </tr>\n",
       "    <tr>\n",
       "      <th>5926228</th>\n",
       "      <td>230</td>\n",
       "      <td>163</td>\n",
       "      <td>0.58</td>\n",
       "      <td>6.233333</td>\n",
       "      <td>5.582888</td>\n",
       "      <td>5.0</td>\n",
       "      <td>95.80</td>\n",
       "      <td>90.00</td>\n",
       "      <td>18.000000</td>\n",
       "    </tr>\n",
       "    <tr>\n",
       "      <th>8591724</th>\n",
       "      <td>107</td>\n",
       "      <td>79</td>\n",
       "      <td>0.87</td>\n",
       "      <td>2.516667</td>\n",
       "      <td>20.741722</td>\n",
       "      <td>4.5</td>\n",
       "      <td>85.80</td>\n",
       "      <td>80.00</td>\n",
       "      <td>17.777778</td>\n",
       "    </tr>\n",
       "    <tr>\n",
       "      <th>1312994</th>\n",
       "      <td>230</td>\n",
       "      <td>164</td>\n",
       "      <td>0.70</td>\n",
       "      <td>7.316667</td>\n",
       "      <td>5.740319</td>\n",
       "      <td>4.0</td>\n",
       "      <td>75.30</td>\n",
       "      <td>70.00</td>\n",
       "      <td>17.500000</td>\n",
       "    </tr>\n",
       "    <tr>\n",
       "      <th>269151</th>\n",
       "      <td>125</td>\n",
       "      <td>125</td>\n",
       "      <td>0.66</td>\n",
       "      <td>2.783333</td>\n",
       "      <td>14.227546</td>\n",
       "      <td>4.0</td>\n",
       "      <td>75.30</td>\n",
       "      <td>70.00</td>\n",
       "      <td>17.500000</td>\n",
       "    </tr>\n",
       "    <tr>\n",
       "      <th>7094640</th>\n",
       "      <td>158</td>\n",
       "      <td>234</td>\n",
       "      <td>1.30</td>\n",
       "      <td>7.683333</td>\n",
       "      <td>10.151844</td>\n",
       "      <td>7.0</td>\n",
       "      <td>128.30</td>\n",
       "      <td>120.00</td>\n",
       "      <td>17.142857</td>\n",
       "    </tr>\n",
       "    <tr>\n",
       "      <th>565252</th>\n",
       "      <td>262</td>\n",
       "      <td>145</td>\n",
       "      <td>3.10</td>\n",
       "      <td>11.566667</td>\n",
       "      <td>16.080691</td>\n",
       "      <td>12.0</td>\n",
       "      <td>213.80</td>\n",
       "      <td>200.00</td>\n",
       "      <td>16.666667</td>\n",
       "    </tr>\n",
       "    <tr>\n",
       "      <th>8241369</th>\n",
       "      <td>161</td>\n",
       "      <td>43</td>\n",
       "      <td>0.80</td>\n",
       "      <td>6.066667</td>\n",
       "      <td>7.912088</td>\n",
       "      <td>6.0</td>\n",
       "      <td>107.30</td>\n",
       "      <td>100.00</td>\n",
       "      <td>16.666667</td>\n",
       "    </tr>\n",
       "    <tr>\n",
       "      <th>427492</th>\n",
       "      <td>161</td>\n",
       "      <td>249</td>\n",
       "      <td>2.60</td>\n",
       "      <td>25.883333</td>\n",
       "      <td>6.027044</td>\n",
       "      <td>16.5</td>\n",
       "      <td>279.30</td>\n",
       "      <td>262.00</td>\n",
       "      <td>15.878788</td>\n",
       "    </tr>\n",
       "    <tr>\n",
       "      <th>1311124</th>\n",
       "      <td>79</td>\n",
       "      <td>232</td>\n",
       "      <td>1.15</td>\n",
       "      <td>4.633333</td>\n",
       "      <td>14.892087</td>\n",
       "      <td>6.0</td>\n",
       "      <td>100.30</td>\n",
       "      <td>93.00</td>\n",
       "      <td>15.500000</td>\n",
       "    </tr>\n",
       "    <tr>\n",
       "      <th>...</th>\n",
       "      <td>...</td>\n",
       "      <td>...</td>\n",
       "      <td>...</td>\n",
       "      <td>...</td>\n",
       "      <td>...</td>\n",
       "      <td>...</td>\n",
       "      <td>...</td>\n",
       "      <td>...</td>\n",
       "      <td>...</td>\n",
       "    </tr>\n",
       "    <tr>\n",
       "      <th>1186228</th>\n",
       "      <td>236</td>\n",
       "      <td>1</td>\n",
       "      <td>30.30</td>\n",
       "      <td>67.983330</td>\n",
       "      <td>26.741851</td>\n",
       "      <td>105.5</td>\n",
       "      <td>139.30</td>\n",
       "      <td>15.00</td>\n",
       "      <td>0.142180</td>\n",
       "    </tr>\n",
       "    <tr>\n",
       "      <th>5803704</th>\n",
       "      <td>132</td>\n",
       "      <td>1</td>\n",
       "      <td>37.40</td>\n",
       "      <td>46.549999</td>\n",
       "      <td>48.206231</td>\n",
       "      <td>114.0</td>\n",
       "      <td>152.82</td>\n",
       "      <td>16.00</td>\n",
       "      <td>0.140351</td>\n",
       "    </tr>\n",
       "    <tr>\n",
       "      <th>6203927</th>\n",
       "      <td>186</td>\n",
       "      <td>1</td>\n",
       "      <td>17.13</td>\n",
       "      <td>53.733334</td>\n",
       "      <td>19.127792</td>\n",
       "      <td>100.0</td>\n",
       "      <td>130.80</td>\n",
       "      <td>14.00</td>\n",
       "      <td>0.140000</td>\n",
       "    </tr>\n",
       "    <tr>\n",
       "      <th>9346681</th>\n",
       "      <td>100</td>\n",
       "      <td>1</td>\n",
       "      <td>16.93</td>\n",
       "      <td>80.633331</td>\n",
       "      <td>12.597768</td>\n",
       "      <td>107.5</td>\n",
       "      <td>144.30</td>\n",
       "      <td>15.00</td>\n",
       "      <td>0.139535</td>\n",
       "    </tr>\n",
       "    <tr>\n",
       "      <th>5251063</th>\n",
       "      <td>132</td>\n",
       "      <td>1</td>\n",
       "      <td>34.17</td>\n",
       "      <td>50.283333</td>\n",
       "      <td>40.772953</td>\n",
       "      <td>107.5</td>\n",
       "      <td>139.56</td>\n",
       "      <td>15.00</td>\n",
       "      <td>0.139535</td>\n",
       "    </tr>\n",
       "    <tr>\n",
       "      <th>204992</th>\n",
       "      <td>244</td>\n",
       "      <td>138</td>\n",
       "      <td>36.12</td>\n",
       "      <td>72.633331</td>\n",
       "      <td>29.837540</td>\n",
       "      <td>114.5</td>\n",
       "      <td>150.00</td>\n",
       "      <td>15.94</td>\n",
       "      <td>0.139214</td>\n",
       "    </tr>\n",
       "    <tr>\n",
       "      <th>9018223</th>\n",
       "      <td>164</td>\n",
       "      <td>1</td>\n",
       "      <td>20.25</td>\n",
       "      <td>84.466667</td>\n",
       "      <td>14.384372</td>\n",
       "      <td>92.0</td>\n",
       "      <td>115.60</td>\n",
       "      <td>12.80</td>\n",
       "      <td>0.139130</td>\n",
       "    </tr>\n",
       "    <tr>\n",
       "      <th>5216298</th>\n",
       "      <td>132</td>\n",
       "      <td>1</td>\n",
       "      <td>30.50</td>\n",
       "      <td>75.783333</td>\n",
       "      <td>24.147790</td>\n",
       "      <td>146.0</td>\n",
       "      <td>181.80</td>\n",
       "      <td>20.00</td>\n",
       "      <td>0.136986</td>\n",
       "    </tr>\n",
       "    <tr>\n",
       "      <th>6928276</th>\n",
       "      <td>230</td>\n",
       "      <td>1</td>\n",
       "      <td>17.70</td>\n",
       "      <td>56.316666</td>\n",
       "      <td>18.857651</td>\n",
       "      <td>110.0</td>\n",
       "      <td>210.30</td>\n",
       "      <td>15.00</td>\n",
       "      <td>0.136364</td>\n",
       "    </tr>\n",
       "    <tr>\n",
       "      <th>8903543</th>\n",
       "      <td>132</td>\n",
       "      <td>1</td>\n",
       "      <td>35.90</td>\n",
       "      <td>42.016666</td>\n",
       "      <td>51.265373</td>\n",
       "      <td>110.0</td>\n",
       "      <td>150.46</td>\n",
       "      <td>15.00</td>\n",
       "      <td>0.136364</td>\n",
       "    </tr>\n",
       "    <tr>\n",
       "      <th>2083117</th>\n",
       "      <td>164</td>\n",
       "      <td>1</td>\n",
       "      <td>17.10</td>\n",
       "      <td>33.483334</td>\n",
       "      <td>30.642109</td>\n",
       "      <td>111.0</td>\n",
       "      <td>126.30</td>\n",
       "      <td>15.00</td>\n",
       "      <td>0.135135</td>\n",
       "    </tr>\n",
       "    <tr>\n",
       "      <th>3435973</th>\n",
       "      <td>132</td>\n",
       "      <td>1</td>\n",
       "      <td>35.86</td>\n",
       "      <td>63.200001</td>\n",
       "      <td>34.044302</td>\n",
       "      <td>111.5</td>\n",
       "      <td>160.80</td>\n",
       "      <td>15.00</td>\n",
       "      <td>0.134529</td>\n",
       "    </tr>\n",
       "    <tr>\n",
       "      <th>8298480</th>\n",
       "      <td>132</td>\n",
       "      <td>1</td>\n",
       "      <td>36.61</td>\n",
       "      <td>74.849998</td>\n",
       "      <td>29.346695</td>\n",
       "      <td>116.0</td>\n",
       "      <td>159.42</td>\n",
       "      <td>15.50</td>\n",
       "      <td>0.133621</td>\n",
       "    </tr>\n",
       "    <tr>\n",
       "      <th>5640241</th>\n",
       "      <td>132</td>\n",
       "      <td>1</td>\n",
       "      <td>36.43</td>\n",
       "      <td>67.083336</td>\n",
       "      <td>32.583353</td>\n",
       "      <td>114.0</td>\n",
       "      <td>153.32</td>\n",
       "      <td>15.00</td>\n",
       "      <td>0.131579</td>\n",
       "    </tr>\n",
       "    <tr>\n",
       "      <th>5770471</th>\n",
       "      <td>132</td>\n",
       "      <td>132</td>\n",
       "      <td>33.23</td>\n",
       "      <td>86.816666</td>\n",
       "      <td>22.965636</td>\n",
       "      <td>152.0</td>\n",
       "      <td>178.56</td>\n",
       "      <td>20.00</td>\n",
       "      <td>0.131579</td>\n",
       "    </tr>\n",
       "    <tr>\n",
       "      <th>2337877</th>\n",
       "      <td>138</td>\n",
       "      <td>1</td>\n",
       "      <td>31.00</td>\n",
       "      <td>81.349998</td>\n",
       "      <td>22.864168</td>\n",
       "      <td>114.0</td>\n",
       "      <td>147.56</td>\n",
       "      <td>15.00</td>\n",
       "      <td>0.131579</td>\n",
       "    </tr>\n",
       "    <tr>\n",
       "      <th>4759689</th>\n",
       "      <td>161</td>\n",
       "      <td>1</td>\n",
       "      <td>17.90</td>\n",
       "      <td>75.349998</td>\n",
       "      <td>14.253484</td>\n",
       "      <td>114.0</td>\n",
       "      <td>129.30</td>\n",
       "      <td>15.00</td>\n",
       "      <td>0.131579</td>\n",
       "    </tr>\n",
       "    <tr>\n",
       "      <th>482025</th>\n",
       "      <td>100</td>\n",
       "      <td>132</td>\n",
       "      <td>34.87</td>\n",
       "      <td>79.150002</td>\n",
       "      <td>26.433355</td>\n",
       "      <td>116.0</td>\n",
       "      <td>158.06</td>\n",
       "      <td>15.00</td>\n",
       "      <td>0.129310</td>\n",
       "    </tr>\n",
       "    <tr>\n",
       "      <th>8326770</th>\n",
       "      <td>229</td>\n",
       "      <td>1</td>\n",
       "      <td>30.90</td>\n",
       "      <td>42.716667</td>\n",
       "      <td>43.402262</td>\n",
       "      <td>99.0</td>\n",
       "      <td>132.30</td>\n",
       "      <td>12.50</td>\n",
       "      <td>0.126263</td>\n",
       "    </tr>\n",
       "    <tr>\n",
       "      <th>7869338</th>\n",
       "      <td>132</td>\n",
       "      <td>1</td>\n",
       "      <td>35.90</td>\n",
       "      <td>71.283333</td>\n",
       "      <td>30.217443</td>\n",
       "      <td>130.0</td>\n",
       "      <td>176.07</td>\n",
       "      <td>16.00</td>\n",
       "      <td>0.123077</td>\n",
       "    </tr>\n",
       "    <tr>\n",
       "      <th>7311989</th>\n",
       "      <td>263</td>\n",
       "      <td>1</td>\n",
       "      <td>29.71</td>\n",
       "      <td>81.000000</td>\n",
       "      <td>22.007407</td>\n",
       "      <td>107.5</td>\n",
       "      <td>141.00</td>\n",
       "      <td>13.06</td>\n",
       "      <td>0.121488</td>\n",
       "    </tr>\n",
       "    <tr>\n",
       "      <th>8047885</th>\n",
       "      <td>132</td>\n",
       "      <td>1</td>\n",
       "      <td>33.70</td>\n",
       "      <td>84.633331</td>\n",
       "      <td>23.891297</td>\n",
       "      <td>167.0</td>\n",
       "      <td>214.06</td>\n",
       "      <td>20.00</td>\n",
       "      <td>0.119760</td>\n",
       "    </tr>\n",
       "    <tr>\n",
       "      <th>4295931</th>\n",
       "      <td>132</td>\n",
       "      <td>1</td>\n",
       "      <td>43.50</td>\n",
       "      <td>84.616669</td>\n",
       "      <td>30.844986</td>\n",
       "      <td>135.0</td>\n",
       "      <td>167.11</td>\n",
       "      <td>15.55</td>\n",
       "      <td>0.115185</td>\n",
       "    </tr>\n",
       "    <tr>\n",
       "      <th>8690913</th>\n",
       "      <td>132</td>\n",
       "      <td>1</td>\n",
       "      <td>35.70</td>\n",
       "      <td>72.650002</td>\n",
       "      <td>29.483827</td>\n",
       "      <td>114.5</td>\n",
       "      <td>149.82</td>\n",
       "      <td>13.00</td>\n",
       "      <td>0.113537</td>\n",
       "    </tr>\n",
       "    <tr>\n",
       "      <th>5419418</th>\n",
       "      <td>132</td>\n",
       "      <td>1</td>\n",
       "      <td>44.10</td>\n",
       "      <td>76.199997</td>\n",
       "      <td>34.724410</td>\n",
       "      <td>133.0</td>\n",
       "      <td>172.06</td>\n",
       "      <td>15.00</td>\n",
       "      <td>0.112782</td>\n",
       "    </tr>\n",
       "    <tr>\n",
       "      <th>127903</th>\n",
       "      <td>132</td>\n",
       "      <td>1</td>\n",
       "      <td>44.45</td>\n",
       "      <td>73.900002</td>\n",
       "      <td>36.089309</td>\n",
       "      <td>136.0</td>\n",
       "      <td>177.80</td>\n",
       "      <td>15.00</td>\n",
       "      <td>0.110294</td>\n",
       "    </tr>\n",
       "    <tr>\n",
       "      <th>6048429</th>\n",
       "      <td>132</td>\n",
       "      <td>1</td>\n",
       "      <td>32.50</td>\n",
       "      <td>74.750000</td>\n",
       "      <td>26.086958</td>\n",
       "      <td>142.0</td>\n",
       "      <td>157.30</td>\n",
       "      <td>15.00</td>\n",
       "      <td>0.105634</td>\n",
       "    </tr>\n",
       "    <tr>\n",
       "      <th>8512613</th>\n",
       "      <td>138</td>\n",
       "      <td>1</td>\n",
       "      <td>31.36</td>\n",
       "      <td>42.349998</td>\n",
       "      <td>44.429753</td>\n",
       "      <td>145.0</td>\n",
       "      <td>176.56</td>\n",
       "      <td>15.00</td>\n",
       "      <td>0.103448</td>\n",
       "    </tr>\n",
       "    <tr>\n",
       "      <th>6346723</th>\n",
       "      <td>138</td>\n",
       "      <td>145</td>\n",
       "      <td>34.85</td>\n",
       "      <td>67.699997</td>\n",
       "      <td>30.886263</td>\n",
       "      <td>150.0</td>\n",
       "      <td>165.80</td>\n",
       "      <td>15.00</td>\n",
       "      <td>0.100000</td>\n",
       "    </tr>\n",
       "    <tr>\n",
       "      <th>8125290</th>\n",
       "      <td>132</td>\n",
       "      <td>238</td>\n",
       "      <td>20.20</td>\n",
       "      <td>57.099998</td>\n",
       "      <td>21.225920</td>\n",
       "      <td>52.0</td>\n",
       "      <td>73.16</td>\n",
       "      <td>14.60</td>\n",
       "      <td>0.000000</td>\n",
       "    </tr>\n",
       "  </tbody>\n",
       "</table>\n",
       "<p>68642 rows × 9 columns</p>\n",
       "</div>"
      ],
      "text/plain": [
       "         PULocationID  DOLocationID  trip_distance  duration_min  speed_mph  \\\n",
       "116932             68            90           0.43      2.883333   8.947977   \n",
       "30722             186           164           0.77      3.433333  13.456310   \n",
       "2261962           107           100           1.32      7.066667  11.207547   \n",
       "1702070           168            74           1.80      8.000000  13.499999   \n",
       "4759889           238           236           1.25      9.283334   8.078994   \n",
       "736654            226           260           1.07      4.250000  15.105882   \n",
       "3267001            68           230           0.40     14.750000   1.627119   \n",
       "5040364           162           140           1.21     11.150000   6.511211   \n",
       "2899691            48           224           2.80     14.600000  11.506849   \n",
       "512328            143           238           1.03      5.283333  11.697160   \n",
       "4823900           144           229           2.83     18.066668   9.398523   \n",
       "5821189            79            79           0.47      2.550000  11.058823   \n",
       "7673214            65           148           1.79      5.066667  21.197369   \n",
       "3014021           211           144           0.45      3.233333   8.350515   \n",
       "4422138           237           158           3.62     26.966667   8.054388   \n",
       "172294            170           164           0.64      2.966667  12.943820   \n",
       "8898803           114           261           2.24      8.583333  15.658254   \n",
       "4170199           142           163           0.74      4.483333   9.903347   \n",
       "1604720           244           243           0.48      2.450000  11.755101   \n",
       "3874613            22            21           1.77      7.833333  13.557447   \n",
       "2627129           229           233           0.70      4.566667   9.197081   \n",
       "5926228           230           163           0.58      6.233333   5.582888   \n",
       "8591724           107            79           0.87      2.516667  20.741722   \n",
       "1312994           230           164           0.70      7.316667   5.740319   \n",
       "269151            125           125           0.66      2.783333  14.227546   \n",
       "7094640           158           234           1.30      7.683333  10.151844   \n",
       "565252            262           145           3.10     11.566667  16.080691   \n",
       "8241369           161            43           0.80      6.066667   7.912088   \n",
       "427492            161           249           2.60     25.883333   6.027044   \n",
       "1311124            79           232           1.15      4.633333  14.892087   \n",
       "...               ...           ...            ...           ...        ...   \n",
       "1186228           236             1          30.30     67.983330  26.741851   \n",
       "5803704           132             1          37.40     46.549999  48.206231   \n",
       "6203927           186             1          17.13     53.733334  19.127792   \n",
       "9346681           100             1          16.93     80.633331  12.597768   \n",
       "5251063           132             1          34.17     50.283333  40.772953   \n",
       "204992            244           138          36.12     72.633331  29.837540   \n",
       "9018223           164             1          20.25     84.466667  14.384372   \n",
       "5216298           132             1          30.50     75.783333  24.147790   \n",
       "6928276           230             1          17.70     56.316666  18.857651   \n",
       "8903543           132             1          35.90     42.016666  51.265373   \n",
       "2083117           164             1          17.10     33.483334  30.642109   \n",
       "3435973           132             1          35.86     63.200001  34.044302   \n",
       "8298480           132             1          36.61     74.849998  29.346695   \n",
       "5640241           132             1          36.43     67.083336  32.583353   \n",
       "5770471           132           132          33.23     86.816666  22.965636   \n",
       "2337877           138             1          31.00     81.349998  22.864168   \n",
       "4759689           161             1          17.90     75.349998  14.253484   \n",
       "482025            100           132          34.87     79.150002  26.433355   \n",
       "8326770           229             1          30.90     42.716667  43.402262   \n",
       "7869338           132             1          35.90     71.283333  30.217443   \n",
       "7311989           263             1          29.71     81.000000  22.007407   \n",
       "8047885           132             1          33.70     84.633331  23.891297   \n",
       "4295931           132             1          43.50     84.616669  30.844986   \n",
       "8690913           132             1          35.70     72.650002  29.483827   \n",
       "5419418           132             1          44.10     76.199997  34.724410   \n",
       "127903            132             1          44.45     73.900002  36.089309   \n",
       "6048429           132             1          32.50     74.750000  26.086958   \n",
       "8512613           138             1          31.36     42.349998  44.429753   \n",
       "6346723           138           145          34.85     67.699997  30.886263   \n",
       "8125290           132           238          20.20     57.099998  21.225920   \n",
       "\n",
       "         fare_amount  total_amount  tip_amount   tip_ratio  \n",
       "116932           4.0        448.80      444.00  111.000000  \n",
       "30722            4.5        232.30      227.00   50.444444  \n",
       "2261962          7.0        345.36      337.06   48.151429  \n",
       "1702070          8.0        344.15      335.35   41.918750  \n",
       "4759889          8.0        339.80      330.00   41.250000  \n",
       "736654           5.5        229.00      222.20   40.400000  \n",
       "3267001          9.5        360.80      350.00   36.842105  \n",
       "5040364          8.5        309.30      300.00   35.294118  \n",
       "2899691         12.0        424.80      411.50   34.291667  \n",
       "512328           6.0        206.80      200.00   33.333333  \n",
       "4823900         13.5        391.59      376.79   27.910370  \n",
       "5821189          3.5         93.00       88.20   25.200000  \n",
       "7673214          7.5        196.82      188.02   25.069333  \n",
       "3014021          4.0        105.30      100.00   25.000000  \n",
       "4422138         18.0        407.80      388.00   21.555556  \n",
       "172294           4.5         96.30       91.00   20.222222  \n",
       "8898803          9.0        191.48      181.18   20.131111  \n",
       "4170199          5.0        106.30      100.00   20.000000  \n",
       "1604720          3.5         74.80       70.00   20.000000  \n",
       "3874613          9.0        180.30      170.00   18.888889  \n",
       "2627129          5.0         99.30       93.00   18.600000  \n",
       "5926228          5.0         95.80       90.00   18.000000  \n",
       "8591724          4.5         85.80       80.00   17.777778  \n",
       "1312994          4.0         75.30       70.00   17.500000  \n",
       "269151           4.0         75.30       70.00   17.500000  \n",
       "7094640          7.0        128.30      120.00   17.142857  \n",
       "565252          12.0        213.80      200.00   16.666667  \n",
       "8241369          6.0        107.30      100.00   16.666667  \n",
       "427492          16.5        279.30      262.00   15.878788  \n",
       "1311124          6.0        100.30       93.00   15.500000  \n",
       "...              ...           ...         ...         ...  \n",
       "1186228        105.5        139.30       15.00    0.142180  \n",
       "5803704        114.0        152.82       16.00    0.140351  \n",
       "6203927        100.0        130.80       14.00    0.140000  \n",
       "9346681        107.5        144.30       15.00    0.139535  \n",
       "5251063        107.5        139.56       15.00    0.139535  \n",
       "204992         114.5        150.00       15.94    0.139214  \n",
       "9018223         92.0        115.60       12.80    0.139130  \n",
       "5216298        146.0        181.80       20.00    0.136986  \n",
       "6928276        110.0        210.30       15.00    0.136364  \n",
       "8903543        110.0        150.46       15.00    0.136364  \n",
       "2083117        111.0        126.30       15.00    0.135135  \n",
       "3435973        111.5        160.80       15.00    0.134529  \n",
       "8298480        116.0        159.42       15.50    0.133621  \n",
       "5640241        114.0        153.32       15.00    0.131579  \n",
       "5770471        152.0        178.56       20.00    0.131579  \n",
       "2337877        114.0        147.56       15.00    0.131579  \n",
       "4759689        114.0        129.30       15.00    0.131579  \n",
       "482025         116.0        158.06       15.00    0.129310  \n",
       "8326770         99.0        132.30       12.50    0.126263  \n",
       "7869338        130.0        176.07       16.00    0.123077  \n",
       "7311989        107.5        141.00       13.06    0.121488  \n",
       "8047885        167.0        214.06       20.00    0.119760  \n",
       "4295931        135.0        167.11       15.55    0.115185  \n",
       "8690913        114.5        149.82       13.00    0.113537  \n",
       "5419418        133.0        172.06       15.00    0.112782  \n",
       "127903         136.0        177.80       15.00    0.110294  \n",
       "6048429        142.0        157.30       15.00    0.105634  \n",
       "8512613        145.0        176.56       15.00    0.103448  \n",
       "6346723        150.0        165.80       15.00    0.100000  \n",
       "8125290         52.0         73.16       14.60    0.000000  \n",
       "\n",
       "[68642 rows x 9 columns]"
      ]
     },
     "execution_count": 72,
     "metadata": {},
     "output_type": "execute_result"
    }
   ],
   "source": [
    "#calculate the tip ratio and view all policies with a tip amount greater than $15\n",
    "df=data_merged.query('tip_amount>12')\n",
    "df=df[['PULocationID','DOLocationID','trip_distance','duration_min','speed_mph','fare_amount','total_amount','tip_amount','tip_ratio']]\n",
    "df.sort_values(by=['tip_ratio'],ascending=False)"
   ]
  },
  {
   "cell_type": "markdown",
   "metadata": {},
   "source": [
    "The table above reveals that there are invalid trips in my dataset due to a very high tip value and very high total_amount with a very low fare amount. The low trip distance and duration point to the fact that the trip was not a special, long trip with a negotiated fair. I will drop all trips that have a tip value greater than $15 and a tip ratio greater than 0.40."
   ]
  },
  {
   "cell_type": "code",
   "execution_count": 73,
   "metadata": {},
   "outputs": [],
   "source": [
    "#flag policies with false tip amounts and drop\n",
    "mask_0 = ((data_merged.tip_amount > 15)&(data_merged.tip_ratio>0.40))\n",
    "data_merged.loc[mask_0, 'flag'] = 1\n",
    "data_merged['flag'].fillna(0,inplace=True)\n",
    "data_merged=data_merged.query('flag==0')\n",
    "n=data_merged.shape[0]"
   ]
  },
  {
   "cell_type": "code",
   "execution_count": 74,
   "metadata": {},
   "outputs": [
    {
     "data": {
      "application/vnd.plotly.v1+json": {
       "data": [
        {
         "hoverinfo": "label+percent",
         "labels": [
          "Available data",
          "Data loss due to invalid speed, rate, location, and tip",
          "Data loss due to invalid (negative) initial values",
          "Data loss due to fare, duration, and distance outliers"
         ],
         "marker": {
          "colors": [
           "royalblue",
           "red",
           "orange",
           "lime"
          ],
          "line": {
           "color": "black",
           "width": 1.5
          }
         },
         "rotation": 60,
         "type": "pie",
         "values": [
          9330870,
          152424,
          5375,
          168331
         ]
        }
       ],
       "layout": {
        "paper_bgcolor": "rgb(243,243,243)",
        "plot_bgcolor": "rgb(243,243,243)",
        "title": "Data Loss Due to Outliers and Invalid Values"
       }
      }
     },
     "metadata": {},
     "output_type": "display_data"
    }
   ],
   "source": [
    "#review data loss\n",
    "trace = go.Pie(values = [n,\n",
    "                         m-n,\n",
    "                         init_row-filtered_row,\n",
    "                         filtered_row - m],\n",
    "                         labels = [\"Available data\",\"Data loss due to invalid speed, rate, location, and tip\" , \"Data loss due to invalid (negative) initial values\",\"Data loss due to fare, duration, and distance outliers\"],\n",
    "               marker = dict(colors =  [ 'royalblue','red' ,'orange','lime'],line = dict(color = \"black\",\n",
    "                                                                          width =  1.5)),\n",
    "               rotation  = 60,\n",
    "               hoverinfo = \"label+percent\",\n",
    "              )\n",
    "\n",
    "layout = go.Layout(dict(title = \"Data Loss Due to Outliers and Invalid Values\",\n",
    "                        plot_bgcolor  = \"rgb(243,243,243)\",\n",
    "                        paper_bgcolor = \"rgb(243,243,243)\",\n",
    "                       )\n",
    "                  )\n",
    "\n",
    "fig = go.Figure(data=[trace],layout=layout)\n",
    "py.iplot(fig)"
   ]
  },
  {
   "cell_type": "code",
   "execution_count": 75,
   "metadata": {},
   "outputs": [],
   "source": [
    "%who_ls DataFrame\n",
    "del(coordinate_data)\n",
    "del(cord_data_DO)\n",
    "del(cord_data_PU)\n",
    "del(data)\n",
    "del(df)\n",
    "del(high_dist)\n",
    "del(summary)\n",
    "del(weather)"
   ]
  },
  {
   "cell_type": "markdown",
   "metadata": {},
   "source": [
    "## Additional Features for Modeling"
   ]
  },
  {
   "cell_type": "markdown",
   "metadata": {},
   "source": [
    "I read an article about taxi travel optimization that suggested that direction of travel may impact the probability and reward function when changing states (traveling from location a to location b). From my own experience in Atlanta traffic, I know that the direction of travel can greatly impact the duration of a trip. \n",
    "\n",
    "Direction of travel is directly tied to location pickup and drop off locations. It could also reflect the street orientation (grid like system) of Manhattan. I wanted to add this feature to the dataset and let me model decide the importance.\n",
    "\n",
    "I found a direction of travel function on the internet and included it below. "
   ]
  },
  {
   "cell_type": "code",
   "execution_count": 76,
   "metadata": {},
   "outputs": [],
   "source": [
    "data_merged['delta_lat'] = data_merged.lat1 - data_merged.lat2\n",
    "data_merged['delta_lon'] = data_merged.lng1 - data_merged.lng2\n",
    "\n",
    "def calculate_direction(d_lon, d_lat):\n",
    "    result = np.zeros(len(d_lon))\n",
    "    l = np.sqrt(d_lon**2 + d_lat**2)\n",
    "    result[d_lon>0] = (180/np.pi)*np.arcsin(d_lat[d_lon>0]/l[d_lon>0])\n",
    "    idx = (d_lon<0) & (d_lat>0)\n",
    "    result[idx] = 180 - (180/np.pi)*np.arcsin(d_lat[idx]/l[idx])\n",
    "    idx = (d_lon<0) & (d_lat<0)\n",
    "    result[idx] = -180 - (180/np.pi)*np.arcsin(d_lat[idx]/l[idx])\n",
    "    return result\n",
    "\n",
    "data_merged['direction'] = calculate_direction(data_merged.delta_lon, data_merged.delta_lat)\n"
   ]
  },
  {
   "cell_type": "code",
   "execution_count": 77,
   "metadata": {
    "scrolled": true
   },
   "outputs": [
    {
     "data": {
      "image/png": "[encoded data removed]",
      "text/plain": [
       "<matplotlib.figure.Figure at 0x263323668d0>"
      ]
     },
     "metadata": {},
     "output_type": "display_data"
    }
   ],
   "source": [
    "#Trip Direction\n",
    "plt.figure(figsize=(12,3))\n",
    "plt.title('Trip Direction')\n",
    "plt.xlabel('Trip Direction, degrees')\n",
    "plt.ylabel('No of Trips made')\n",
    "plt.hist(data_merged['direction'], bins=100)\n",
    "pass"
   ]
  },
  {
   "cell_type": "markdown",
   "metadata": {},
   "source": [
    "I am building a model to predict future fare amounts and trip duration. In the future, I will not know the speed at which I will travel, so I will calculate the mean speed for each pickup and dropoff locations, week day, and hour. I will use this hourly mean as a proxy for future speed of the trip. "
   ]
  },
  {
   "cell_type": "code",
   "execution_count": 78,
   "metadata": {},
   "outputs": [],
   "source": [
    "#add mean speed by route, hour, weekday\n",
    "speed=data_merged.groupby(['PULocationID','DOLocationID','week_day','hour'])['speed_mph'].mean().reset_index()\n",
    "speed=speed.rename(columns={'speed_mph':'mean_speed'})\n",
    "data_merged=pd.merge(data_merged,speed,how='left',on=['PULocationID','DOLocationID','week_day','hour'])\n"
   ]
  },
  {
   "cell_type": "code",
   "execution_count": 79,
   "metadata": {},
   "outputs": [],
   "source": [
    "#Find wait time : minimum time between pickup and dropoffs\n",
    "#will not run due to computational time\n",
    "##for x in range(0,data_merged.shape[0]-1,1):\n",
    "#    k=data_merged['DOLocationID'][x]\n",
    "#    l=data_merged[data_merged['PULocationID']==k]['PU_time']\n",
    "#    m=data_merged['DO_time'][x]\n",
    "#    #minimum=abs(m-1).min().total_seconds()/60\n",
    "#    minimum=abs(m-l).min().total_seconds()/60\n",
    "#    data_merged['wait_time']=minimum\n",
    "\n"
   ]
  },
  {
   "cell_type": "code",
   "execution_count": 80,
   "metadata": {},
   "outputs": [],
   "source": [
    "#from pandas.tseries.holiday import USFederalHolidayCalendar\n",
    "#import datetime\n",
    "#cal = USFederalHolidayCalendar()\n",
    "#holidays = cal.holidays(start='2017-01-01', end='2017-12-31').to_pydatetime()\n",
    "#week_dates = [ holidays - datetime.timedelta(days=i) for i in range(5) ]\n",
    "#week_dates"
   ]
  },
  {
   "cell_type": "code",
   "execution_count": 81,
   "metadata": {},
   "outputs": [],
   "source": [
    "data_merged=data_merged.drop(['flag','unknown_loc','tip_ratio','delta_lat','delta_lon'],axis=1)"
   ]
  },
  {
   "cell_type": "markdown",
   "metadata": {},
   "source": [
    "# Model Setup"
   ]
  },
  {
   "cell_type": "markdown",
   "metadata": {},
   "source": [
    "## Model Process"
   ]
  },
  {
   "cell_type": "markdown",
   "metadata": {},
   "source": [
    "The objective of this case study is to maximize my income as a taxi driver driving ten extra hours a week. Since I am limited in the hours that I can drive, I cannot increase my income by increasing my driving time. Instead, I would maximize my income by maximizing the money earned per minute of my time working.\n",
    "\n",
    "My main sources of money earned are fare amount and tip. Since tips are generally around 20% of the fare amount, this is a substantial amount of money that I must consider (impute where missing). My time working is the sum of time driving and time searching for passengers. It is worth noting that I would have a fuel cost as a function of distance driven as well as some fixed costs (taxi maintenance, taxi medallion, etc), which I will not consider in this problem.\n",
    "\n",
    "As a taxi driver, I cannot dictate where my passengers will want to go or how long my trip will last, so my path is a series of conditional probabilities dependent upon where and where I start my day. (This is known as a Markov chain). My future rewards (money earned/time spent) are dependent upon what location I travel to and when I arrive at that location due to the fact that demand and travel time fluctuate with time.\n",
    "\n",
    "If I had more time for this case study, my ultimate goal would be to build a Markov Decision process that optimizes my reward given two possible actions: picking up a passenger or searching for a trip due to low demand. I would calculate the probabilities of dropping off a passenger at each of the 263 locations after picking up at each of the 263 locations (probability matrix) for each hour using the results of a demand model. If the data was too sparse, I could cluster the locations based on geography or expand my time period. I would calculate the probability of a driver searching for a fare by applying the rule that if the average wait time at a location for that hour was greater than five minutes, the taxis that just dropped off a passenger would leave the location for a nearby location. The expected wait time could be calculated as the minimum absolute value of dropoff and pickup times.\n",
    "\n",
    "I will build models to predict the two of the inputs of my Markov Decision Process: income (fare+tip) and duration.  \n",
    "\n",
    "For the remainder of this case study, I will:\n",
    " * create the income targets (fare+tip amount)\n",
    " * explore the modeling attributes and their relationship with the targets\n",
    " * conduct feature selection and model hyperparameter tuning (in feature selection notebook)\n",
    " * review the model fits\n"
   ]
  },
  {
   "cell_type": "markdown",
   "metadata": {},
   "source": [
    "## Create Tip Amount\n",
    "\n",
    "Cash tips are not recorded. I want to include tips as part of my income. Since I only have tip information for credit card payments, I will impute the cash tips using the following logic:\n",
    "    1. group trips by pickup location, drop off location, day of week, hour\n",
    "    2. calculate the median tip ratio of credit card payments (tip/fare_amount)\n",
    "    3. multiply the cash fare amount by the tip ratio\n",
    "    4. round to the nearest dollar amount because I assume people paying cash do not want coin change\n",
    "    "
   ]
  },
  {
   "cell_type": "code",
   "execution_count": 82,
   "metadata": {},
   "outputs": [],
   "source": [
    "credit_card=data_merged.query('payment_type==1')[['PULocationID','DOLocationID','week_day','hour','fare_amount','tip_amount']]\n",
    "credit_card['credit_tip_ratio']=credit_card['tip_amount']/credit_card['fare_amount']\n",
    "credit_card=credit_card.groupby(['PULocationID','DOLocationID','week_day','hour']).agg({'credit_tip_ratio':'median'}).reset_index()\n"
   ]
  },
  {
   "cell_type": "code",
   "execution_count": 83,
   "metadata": {},
   "outputs": [],
   "source": [
    "data_merged=pd.merge(data_merged,credit_card,how=\"left\",on=['PULocationID','DOLocationID','week_day','hour'])\n",
    "data_merged['credit_tip_ratio'].fillna(0.20,inplace=True)"
   ]
  },
  {
   "cell_type": "code",
   "execution_count": 84,
   "metadata": {},
   "outputs": [],
   "source": [
    "data_merged['tip_impute']=np.where(data_merged['payment_type']==1,data_merged['tip_amount'],\n",
    "                                   np.around(data_merged['fare_amount']*data_merged['credit_tip_ratio'],0))\n"
   ]
  },
  {
   "cell_type": "code",
   "execution_count": 85,
   "metadata": {},
   "outputs": [
    {
     "data": {
      "text/plain": [
       "count    9.330870e+06\n",
       "mean     2.675615e+00\n",
       "std      2.341276e+00\n",
       "min      0.000000e+00\n",
       "25%      1.260000e+00\n",
       "50%      2.000000e+00\n",
       "75%      3.000000e+00\n",
       "max      5.700000e+01\n",
       "Name: tip_impute, dtype: float64"
      ]
     },
     "execution_count": 85,
     "metadata": {},
     "output_type": "execute_result"
    }
   ],
   "source": [
    "data_merged['tip_impute'].describe()\n"
   ]
  },
  {
   "cell_type": "code",
   "execution_count": 86,
   "metadata": {},
   "outputs": [],
   "source": [
    "#find total reward\n",
    "data_merged['total_income']=data_merged['fare_amount']+data_merged['tip_impute']"
   ]
  },
  {
   "cell_type": "code",
   "execution_count": 87,
   "metadata": {},
   "outputs": [],
   "source": [
    "train,test=train_test_split(data_merged,test_size=0.50,random_state=42)\n",
    "#train.to_csv(\"data_train.csv\")\n",
    "#test.to_csv(\"data_test.csv\")"
   ]
  },
  {
   "cell_type": "code",
   "execution_count": 88,
   "metadata": {},
   "outputs": [],
   "source": [
    "#data_merged.to_csv(\"data_merged.csv\")"
   ]
  },
  {
   "cell_type": "markdown",
   "metadata": {},
   "source": [
    "## Univariate Analysis"
   ]
  },
  {
   "cell_type": "code",
   "execution_count": 230,
   "metadata": {},
   "outputs": [
    {
     "data": {
      "image/png": "[encoded data removed]",
      "text/plain": [
       "<Figure size 864x216 with 1 Axes>"
      ]
     },
     "metadata": {
      "needs_background": "light"
     },
     "output_type": "display_data"
    }
   ],
   "source": [
    "#Total Income - Model Target\n",
    "plt.figure(figsize=(12,3))\n",
    "plt.title('Total Income')\n",
    "plt.xlabel('Total Income, Fare Plus Tip')\n",
    "plt.ylabel('No of Trips made')\n",
    "plt.hist(data_merged['total_income'], bins=100)\n",
    "pass\n"
   ]
  },
  {
   "cell_type": "code",
   "execution_count": 231,
   "metadata": {},
   "outputs": [
    {
     "data": {
      "image/png": "[encoded data removed]",
      "text/plain": [
       "<Figure size 864x216 with 1 Axes>"
      ]
     },
     "metadata": {
      "needs_background": "light"
     },
     "output_type": "display_data"
    }
   ],
   "source": [
    "# Fare Amount\n",
    "plt.figure(figsize=(12,3))\n",
    "plt.title('Fare Amount')\n",
    "plt.xlabel('Fare Amount')\n",
    "plt.ylabel('No of Trips made')\n",
    "plt.hist(data_merged['fare_amount'], bins=100)\n",
    "pass\n"
   ]
  },
  {
   "cell_type": "code",
   "execution_count": 232,
   "metadata": {},
   "outputs": [
    {
     "data": {
      "image/png": "[encoded data removed]",
      "text/plain": [
       "<Figure size 864x216 with 1 Axes>"
      ]
     },
     "metadata": {
      "needs_background": "light"
     },
     "output_type": "display_data"
    }
   ],
   "source": [
    "# Tip Impute\n",
    "plt.figure(figsize=(12,3))\n",
    "plt.title('Tip Amount - Imputed for Cash Payments')\n",
    "plt.xlabel('Tip Amount')\n",
    "plt.ylabel('No of Trips made')\n",
    "plt.xlim(0,30)\n",
    "plt.hist(data_merged['tip_impute'], bins=100)\n",
    "pass\n"
   ]
  },
  {
   "cell_type": "code",
   "execution_count": 233,
   "metadata": {},
   "outputs": [
    {
     "data": {
      "image/png": "[encoded data removed]",
      "text/plain": [
       "<Figure size 864x216 with 1 Axes>"
      ]
     },
     "metadata": {
      "needs_background": "light"
     },
     "output_type": "display_data"
    }
   ],
   "source": [
    "# Credit Card Tip Ratio\n",
    "plt.figure(figsize=(12,3))\n",
    "plt.title('Median Credit Card Tip Ratio')\n",
    "plt.xlabel('Tip Ratio')\n",
    "plt.ylabel('No of Trips made')\n",
    "plt.xlim(0,0.4)\n",
    "plt.hist(credit_card['credit_tip_ratio'], bins=100)\n",
    "pass\n"
   ]
  },
  {
   "cell_type": "markdown",
   "metadata": {},
   "source": [
    "Observations:\n",
    "   * Total income has a smoother distribution than fare rate. This is due to the fact that the addition of the tip creates more unique values around \\\\$52, the flat fare for most airport trips\n",
    "   * Almost all tips are less than \\\\$5\n",
    "   * The median percentage of tips paid on credit card trips is skewed to the left and centered around 0.22. It was surprising to me that the majority of tips are between 20-25%\n",
    "    "
   ]
  },
  {
   "cell_type": "code",
   "execution_count": 234,
   "metadata": {},
   "outputs": [
    {
     "data": {
      "image/png": "[encoded data removed]",
      "text/plain": [
       "<Figure size 864x216 with 1 Axes>"
      ]
     },
     "metadata": {
      "needs_background": "light"
     },
     "output_type": "display_data"
    }
   ],
   "source": [
    "#Trip Duration\n",
    "# trip duration distribution, minutes\n",
    "plt.figure(figsize=(12,3))\n",
    "plt.title('Trip Duration Distribution')\n",
    "plt.xlabel('Trip Duration, minutes')\n",
    "plt.ylabel('No of Trips made')\n",
    "plt.hist(data_merged['duration_min'], bins=100)\n",
    "pass\n",
    "\n"
   ]
  },
  {
   "cell_type": "markdown",
   "metadata": {},
   "source": [
    "Observations: \n",
    " * Even with outliers removed, the distriution of trip duration is still highly skewed to the right\n",
    " * The vast majority of trips lasted five to ten minutes"
   ]
  },
  {
   "cell_type": "markdown",
   "metadata": {},
   "source": [
    "Observations: \n",
    " * Even with outliers removed, the distriution of fare amounts are is still highly skewed to the right\n",
    " * The concentration of fares at \\\\$52 reflects the LGA and JFK flat fares\n",
    " * The vast majority of trips are under \\\\$25"
   ]
  },
  {
   "cell_type": "code",
   "execution_count": 235,
   "metadata": {},
   "outputs": [
    {
     "data": {
      "image/png": "[encoded data removed]",
      "text/plain": [
       "<Figure size 864x216 with 1 Axes>"
      ]
     },
     "metadata": {
      "needs_background": "light"
     },
     "output_type": "display_data"
    }
   ],
   "source": [
    "# Distance distribution, miles\n",
    "plt.figure(figsize=(12,3))\n",
    "plt.title('Trip Distance Distribution')\n",
    "plt.xlabel('Trip Distance, miles')\n",
    "plt.ylabel('No of Trips made')\n",
    "plt.hist(data_merged['trip_distance'], bins=100)\n",
    "pass\n",
    "\n"
   ]
  },
  {
   "cell_type": "code",
   "execution_count": 236,
   "metadata": {},
   "outputs": [
    {
     "data": {
      "text/plain": [
       "0.00     0.20\n",
       "0.01     0.33\n",
       "0.10     0.68\n",
       "0.25     1.00\n",
       "0.50     1.70\n",
       "0.75     3.10\n",
       "0.90     6.85\n",
       "0.95    10.70\n",
       "0.99    18.70\n",
       "1.00    49.90\n",
       "Name: trip_distance, dtype: float64"
      ]
     },
     "execution_count": 236,
     "metadata": {},
     "output_type": "execute_result"
    }
   ],
   "source": [
    "data_merged['trip_distance'].quantile([0,0.01,0.1,0.25,0.5,0.75,0.90,0.95,0.99,1])"
   ]
  },
  {
   "cell_type": "markdown",
   "metadata": {},
   "source": [
    "Observations:\n",
    "   * 90% of trips are under seven miles\n",
    "   * There is a slight uptick in density around trip distances of 17-18 miles. This may be a popular route for airport trips"
   ]
  },
  {
   "cell_type": "code",
   "execution_count": 237,
   "metadata": {},
   "outputs": [
    {
     "data": {
      "image/png": "[encoded data removed]",
      "text/plain": [
       "<Figure size 864x216 with 1 Axes>"
      ]
     },
     "metadata": {
      "needs_background": "light"
     },
     "output_type": "display_data"
    }
   ],
   "source": [
    "# Speed distribution\n",
    "plt.figure(figsize=(12,3))\n",
    "plt.title('Trip Speed Distribution')\n",
    "plt.xlabel('Trip Speed, mph')\n",
    "plt.ylabel('No of Trips made')\n",
    "plt.hist(data_merged['speed_mph'], bins=100)\n",
    "pass\n",
    "\n"
   ]
  },
  {
   "cell_type": "code",
   "execution_count": 238,
   "metadata": {},
   "outputs": [
    {
     "data": {
      "text/plain": [
       "0.00     1.000219\n",
       "0.01     3.025210\n",
       "0.10     5.429929\n",
       "0.25     7.357665\n",
       "0.50    10.012739\n",
       "0.75    13.565218\n",
       "0.90    18.417527\n",
       "0.95    22.478260\n",
       "0.99    31.899485\n",
       "1.00    64.990546\n",
       "Name: speed_mph, dtype: float64"
      ]
     },
     "execution_count": 238,
     "metadata": {},
     "output_type": "execute_result"
    }
   ],
   "source": [
    "data_merged['speed_mph'].quantile([0,0.01,0.1,0.25,0.5,0.75,0.90,0.95,0.99,1])"
   ]
  },
  {
   "cell_type": "markdown",
   "metadata": {},
   "source": [
    "Observations:\n",
    "   * Half of all trips are 10 mph or under\n",
    "   * The right skew is probably due to airport trips and very short, quick trips"
   ]
  },
  {
   "cell_type": "code",
   "execution_count": 239,
   "metadata": {},
   "outputs": [
    {
     "data": {
      "image/png": "[encoded data removed]",
      "text/plain": [
       "<Figure size 864x216 with 1 Axes>"
      ]
     },
     "metadata": {
      "needs_background": "light"
     },
     "output_type": "display_data"
    }
   ],
   "source": [
    "# Trip Fare Rate (dollars per minute)\n",
    "plt.figure(figsize=(12,3))\n",
    "plt.title('Trip Fare Rate Distribution')\n",
    "plt.xlabel('Trip Fare Rate, dollars per minutes')\n",
    "plt.ylabel('No of Trips made')\n",
    "plt.hist(data_merged['dollar_per_min'], bins=100)\n",
    "pass\n",
    "\n"
   ]
  },
  {
   "cell_type": "code",
   "execution_count": 240,
   "metadata": {},
   "outputs": [
    {
     "data": {
      "text/plain": [
       "0.00    0.059787\n",
       "0.01    0.604027\n",
       "0.10    0.686368\n",
       "0.25    0.766208\n",
       "0.50    0.890411\n",
       "0.75    1.067194\n",
       "0.90    1.303258\n",
       "0.95    1.489362\n",
       "0.99    1.967213\n",
       "1.00    4.000000\n",
       "Name: dollar_per_min, dtype: float64"
      ]
     },
     "execution_count": 240,
     "metadata": {},
     "output_type": "execute_result"
    }
   ],
   "source": [
    "data_merged['dollar_per_min'].quantile([0,0.01,0.1,0.25,0.5,0.75,0.90,0.95,0.99,1])"
   ]
  },
  {
   "cell_type": "markdown",
   "metadata": {},
   "source": [
    "Observations:\n",
    "   * 75% of trips have a fare rate of \\\\$1 or less. This corresponds to 2/5 miles per minute or 24 mph (without fees or waiting time)\n",
    "   * As seen above, airport trips tend to generate a higher trip fare rate"
   ]
  },
  {
   "cell_type": "code",
   "execution_count": 241,
   "metadata": {},
   "outputs": [
    {
     "data": {
      "image/png": "[encoded data removed]",
      "text/plain": [
       "<Figure size 864x216 with 1 Axes>"
      ]
     },
     "metadata": {
      "needs_background": "light"
     },
     "output_type": "display_data"
    }
   ],
   "source": [
    "# Tip Distribution\n",
    "#filter on payments that were made with a credit card because those are the only payment types that have recorded tips. Cash tips are not recorded\n",
    "df=data_merged.query('payment_type==1')\n",
    "plt.figure(figsize=(12,3))\n",
    "plt.title('Tip Amount Distribution - Credit Card Payments Only')\n",
    "plt.xlabel('Tip Amount, $')\n",
    "plt.ylabel('No of Trips made')\n",
    "plt.xlim(0,50)\n",
    "plt.hist(df['tip_amount'], bins=100)\n",
    "pass\n"
   ]
  },
  {
   "cell_type": "code",
   "execution_count": 242,
   "metadata": {},
   "outputs": [
    {
     "name": "stdout",
     "output_type": "stream",
     "text": [
      "Distribution of Credit Card Tips\n"
     ]
    },
    {
     "data": {
      "text/plain": [
       "0.00     0.00\n",
       "0.01     0.00\n",
       "0.10     1.00\n",
       "0.25     1.36\n",
       "0.50     2.00\n",
       "0.75     3.06\n",
       "0.90     5.19\n",
       "0.95     8.00\n",
       "0.99    12.21\n",
       "1.00    48.05\n",
       "Name: tip_amount, dtype: float64"
      ]
     },
     "execution_count": 242,
     "metadata": {},
     "output_type": "execute_result"
    }
   ],
   "source": [
    "df=data_merged.query('payment_type==1')\n",
    "print(\"Distribution of Credit Card Tips\")\n",
    "df['tip_amount'].quantile([0,0.01,0.1,0.25,0.5,0.75,0.90,0.95,0.99,1])"
   ]
  },
  {
   "cell_type": "markdown",
   "metadata": {},
   "source": [
    "Observations:\n",
    "   * 99 percent of all tips are under \\\\$12"
   ]
  },
  {
   "cell_type": "code",
   "execution_count": 248,
   "metadata": {},
   "outputs": [
    {
     "name": "stdout",
     "output_type": "stream",
     "text": [
      "Distribution of Toll Amount Tips\n"
     ]
    },
    {
     "data": {
      "text/plain": [
       "0.00      0.00\n",
       "0.01      0.00\n",
       "0.10      0.00\n",
       "0.25      0.00\n",
       "0.50      0.00\n",
       "0.75      0.00\n",
       "0.90      0.00\n",
       "0.95      5.76\n",
       "0.99      5.76\n",
       "1.00    933.50\n",
       "Name: tolls_amount, dtype: float64"
      ]
     },
     "execution_count": 248,
     "metadata": {},
     "output_type": "execute_result"
    }
   ],
   "source": [
    "print(\"Distribution of Toll Amount Tips\")\n",
    "data_merged['tolls_amount'].quantile([0,0.01,0.1,0.25,0.5,0.75,0.90,0.95,0.99,1])"
   ]
  },
  {
   "cell_type": "code",
   "execution_count": 249,
   "metadata": {},
   "outputs": [
    {
     "name": "stdout",
     "output_type": "stream",
     "text": [
      "Distribution of MTA Tax Amount\n"
     ]
    },
    {
     "data": {
      "text/plain": [
       "0.00    0.00\n",
       "0.01    0.50\n",
       "0.10    0.50\n",
       "0.25    0.50\n",
       "0.50    0.50\n",
       "0.75    0.50\n",
       "0.90    0.50\n",
       "0.95    0.50\n",
       "0.99    0.50\n",
       "1.00    0.85\n",
       "Name: mta_tax, dtype: float64"
      ]
     },
     "execution_count": 249,
     "metadata": {},
     "output_type": "execute_result"
    }
   ],
   "source": [
    "print(\"Distribution of MTA Tax Amount\")\n",
    "data_merged['mta_tax'].quantile([0,0.01,0.1,0.25,0.5,0.75,0.90,0.95,0.99,1])"
   ]
  },
  {
   "cell_type": "code",
   "execution_count": 250,
   "metadata": {},
   "outputs": [
    {
     "name": "stdout",
     "output_type": "stream",
     "text": [
      "Distribution of Extra Fare Fees\n"
     ]
    },
    {
     "data": {
      "text/plain": [
       "0.00    0.0\n",
       "0.01    0.0\n",
       "0.10    0.0\n",
       "0.25    0.0\n",
       "0.50    0.0\n",
       "0.75    0.5\n",
       "0.90    1.0\n",
       "0.95    1.0\n",
       "0.99    1.0\n",
       "1.00    4.8\n",
       "Name: extra, dtype: float64"
      ]
     },
     "execution_count": 250,
     "metadata": {},
     "output_type": "execute_result"
    }
   ],
   "source": [
    "print(\"Distribution of Extra Fare Fees\")\n",
    "data_merged['extra'].quantile([0,0.01,0.1,0.25,0.5,0.75,0.90,0.95,0.99,1])"
   ]
  },
  {
   "cell_type": "markdown",
   "metadata": {},
   "source": [
    "Oberservation:\n",
    "   * The max toll amount of \\\\$933 is invalid. I will filter this record out of my data.\n",
    "   * The MTA tax amount is reasonable\n",
    "   * The extra fare amount is reasonable "
   ]
  },
  {
   "cell_type": "code",
   "execution_count": 251,
   "metadata": {},
   "outputs": [
    {
     "data": {
      "image/png": "[encoded data removed]",
      "text/plain": [
       "<Figure size 432x288 with 1 Axes>"
      ]
     },
     "metadata": {
      "needs_background": "light"
     },
     "output_type": "display_data"
    }
   ],
   "source": [
    "#Passenger Count\n",
    "sns.countplot(data_merged.passenger_count)\n",
    "plt.show()\n",
    "\n"
   ]
  },
  {
   "cell_type": "code",
   "execution_count": 252,
   "metadata": {},
   "outputs": [
    {
     "data": {
      "image/png": "[encoded data removed]",
      "text/plain": [
       "<Figure size 432x288 with 1 Axes>"
      ]
     },
     "metadata": {
      "needs_background": "light"
     },
     "output_type": "display_data"
    }
   ],
   "source": [
    "#Payment Type\n",
    "sns.countplot(data_merged.payment_type)\n",
    "plt.show()"
   ]
  },
  {
   "cell_type": "code",
   "execution_count": 253,
   "metadata": {},
   "outputs": [
    {
     "name": "stdout",
     "output_type": "stream",
     "text": [
      "Trip Counts and Percent of Trips by Payment Type\n"
     ]
    },
    {
     "data": {
      "text/html": [
       "<div>\n",
       "<style scoped>\n",
       "    .dataframe tbody tr th:only-of-type {\n",
       "        vertical-align: middle;\n",
       "    }\n",
       "\n",
       "    .dataframe tbody tr th {\n",
       "        vertical-align: top;\n",
       "    }\n",
       "\n",
       "    .dataframe thead th {\n",
       "        text-align: right;\n",
       "    }\n",
       "</style>\n",
       "<table border=\"1\" class=\"dataframe\">\n",
       "  <thead>\n",
       "    <tr style=\"text-align: right;\">\n",
       "      <th></th>\n",
       "      <th>counts</th>\n",
       "      <th>percent</th>\n",
       "    </tr>\n",
       "    <tr>\n",
       "      <th>payment_type</th>\n",
       "      <th></th>\n",
       "      <th></th>\n",
       "    </tr>\n",
       "  </thead>\n",
       "  <tbody>\n",
       "    <tr>\n",
       "      <th>1</th>\n",
       "      <td>6341275</td>\n",
       "      <td>67.960169</td>\n",
       "    </tr>\n",
       "    <tr>\n",
       "      <th>2</th>\n",
       "      <td>2944745</td>\n",
       "      <td>31.559169</td>\n",
       "    </tr>\n",
       "    <tr>\n",
       "      <th>3</th>\n",
       "      <td>33541</td>\n",
       "      <td>0.359463</td>\n",
       "    </tr>\n",
       "    <tr>\n",
       "      <th>4</th>\n",
       "      <td>11308</td>\n",
       "      <td>0.121189</td>\n",
       "    </tr>\n",
       "    <tr>\n",
       "      <th>5</th>\n",
       "      <td>1</td>\n",
       "      <td>0.000011</td>\n",
       "    </tr>\n",
       "  </tbody>\n",
       "</table>\n",
       "</div>"
      ],
      "text/plain": [
       "               counts    percent\n",
       "payment_type                    \n",
       "1             6341275  67.960169\n",
       "2             2944745  31.559169\n",
       "3               33541   0.359463\n",
       "4               11308   0.121189\n",
       "5                   1   0.000011"
      ]
     },
     "execution_count": 253,
     "metadata": {},
     "output_type": "execute_result"
    }
   ],
   "source": [
    "df=data_merged.groupby(['payment_type'])['payment_type'].count().sort_values(ascending=False)\n",
    "df=pd.DataFrame(df)\n",
    "df=df.rename(columns={'payment_type':'counts'})\n",
    "df['counts'].astype('int64')\n",
    "df['percent']=(df['counts']/data_merged.shape[0])*100\n",
    "print(\"Trip Counts and Percent of Trips by Payment Type\")\n",
    "df"
   ]
  },
  {
   "cell_type": "markdown",
   "metadata": {},
   "source": [
    "About 2/3 of payments are using credit cards and 1/3 of payments are using cash. The data cleaning has eliminated all voided trips (payment type 6)."
   ]
  },
  {
   "cell_type": "code",
   "execution_count": 282,
   "metadata": {},
   "outputs": [
    {
     "data": {
      "text/plain": [
       "store_and_fwd_flag\n",
       "N    9300906\n",
       "Y      29964\n",
       "Name: store_and_fwd_flag, dtype: int64"
      ]
     },
     "execution_count": 282,
     "metadata": {},
     "output_type": "execute_result"
    }
   ],
   "source": [
    "#Store and forward\n",
    "data_merged.groupby(['store_and_fwd_flag'])['store_and_fwd_flag'].count()"
   ]
  },
  {
   "cell_type": "code",
   "execution_count": 283,
   "metadata": {},
   "outputs": [
    {
     "data": {
      "text/plain": [
       "store_and_fwd_flag\n",
       "N    15.643149\n",
       "Y    16.901390\n",
       "Name: total_income, dtype: float64"
      ]
     },
     "execution_count": 283,
     "metadata": {},
     "output_type": "execute_result"
    }
   ],
   "source": [
    "#Store and forward - mean income\n",
    "data_merged.groupby(['store_and_fwd_flag'])['total_income'].mean()"
   ]
  },
  {
   "cell_type": "code",
   "execution_count": 415,
   "metadata": {},
   "outputs": [
    {
     "data": {
      "text/plain": [
       "store_and_fwd_flag\n",
       "N    14.802993\n",
       "Y    16.354717\n",
       "Name: duration_min, dtype: float32"
      ]
     },
     "execution_count": 415,
     "metadata": {},
     "output_type": "execute_result"
    }
   ],
   "source": [
    "#Store and forward - mean duration\n",
    "data_merged.groupby(['store_and_fwd_flag'])['duration_min'].mean()"
   ]
  },
  {
   "cell_type": "markdown",
   "metadata": {},
   "source": [
    "There are very few records with the store_and_fwd_flag. The mean total income is similar between these two fields. The store and forward flag has a slightly higher duration. This could be due to taxis traveling farther to areas and lose connectivity. "
   ]
  },
  {
   "cell_type": "code",
   "execution_count": 254,
   "metadata": {},
   "outputs": [
    {
     "data": {
      "text/plain": [
       "RatecodeID\n",
       "1    9115031\n",
       "2     195521\n",
       "3      17687\n",
       "4        360\n",
       "5       2269\n",
       "6          2\n",
       "Name: RatecodeID, dtype: int64"
      ]
     },
     "execution_count": 254,
     "metadata": {},
     "output_type": "execute_result"
    }
   ],
   "source": [
    "#Ratecode ID\n",
    "data_merged.groupby(['RatecodeID'])['RatecodeID'].count()\n",
    "\n"
   ]
  },
  {
   "cell_type": "markdown",
   "metadata": {},
   "source": [
    "Observations:\n",
    "   * 1 = Standard Rate\n",
    "   * 2 = JFK\n",
    "   * 3 = Newark\n",
    "   * 4 = Nassau or Westchester\n",
    "   * 5 = Negotiated fare\n",
    "   * 6 = Group Ride\n",
    "\n",
    "There are only two group rides in this data set. This is probably due to filtering out trips with high passenger count. I also do not know where LGA trips are classified. "
   ]
  },
  {
   "cell_type": "code",
   "execution_count": 413,
   "metadata": {},
   "outputs": [
    {
     "data": {
      "image/png": "[encoded data removed]",
      "text/plain": [
       "<Figure size 432x288 with 1 Axes>"
      ]
     },
     "metadata": {
      "needs_background": "light"
     },
     "output_type": "display_data"
    }
   ],
   "source": [
    "sns.countplot(data_merged.Borough_PU)\n",
    "plt.title(\"Pick Up Borough\")\n",
    "plt.ylabel('Trip Counts')\n",
    "plt.xlabel('Borough')\n",
    "plt.show()"
   ]
  },
  {
   "cell_type": "code",
   "execution_count": 414,
   "metadata": {},
   "outputs": [
    {
     "data": {
      "image/png": "[encoded data removed]",
      "text/plain": [
       "<Figure size 432x288 with 1 Axes>"
      ]
     },
     "metadata": {
      "needs_background": "light"
     },
     "output_type": "display_data"
    }
   ],
   "source": [
    "sns.countplot(data_merged.Borough_DO)\n",
    "plt.title(\"Drop Off Borough\")\n",
    "plt.ylabel('Trip Counts')\n",
    "plt.xlabel('Borough')\n",
    "plt.show()"
   ]
  },
  {
   "cell_type": "code",
   "execution_count": 255,
   "metadata": {},
   "outputs": [
    {
     "name": "stdout",
     "output_type": "stream",
     "text": [
      "Trip Counts and Percent of Trips by Airport Classification\n"
     ]
    },
    {
     "data": {
      "text/html": [
       "<div>\n",
       "<style scoped>\n",
       "    .dataframe tbody tr th:only-of-type {\n",
       "        vertical-align: middle;\n",
       "    }\n",
       "\n",
       "    .dataframe tbody tr th {\n",
       "        vertical-align: top;\n",
       "    }\n",
       "\n",
       "    .dataframe thead th {\n",
       "        text-align: right;\n",
       "    }\n",
       "</style>\n",
       "<table border=\"1\" class=\"dataframe\">\n",
       "  <thead>\n",
       "    <tr style=\"text-align: right;\">\n",
       "      <th></th>\n",
       "      <th>counts</th>\n",
       "      <th>percent</th>\n",
       "    </tr>\n",
       "    <tr>\n",
       "      <th>Airport_Ind</th>\n",
       "      <th></th>\n",
       "      <th></th>\n",
       "    </tr>\n",
       "  </thead>\n",
       "  <tbody>\n",
       "    <tr>\n",
       "      <th>None</th>\n",
       "      <td>8657048</td>\n",
       "      <td>92.778573</td>\n",
       "    </tr>\n",
       "    <tr>\n",
       "      <th>LGA</th>\n",
       "      <td>377165</td>\n",
       "      <td>4.042120</td>\n",
       "    </tr>\n",
       "    <tr>\n",
       "      <th>JFK</th>\n",
       "      <td>279036</td>\n",
       "      <td>2.990461</td>\n",
       "    </tr>\n",
       "    <tr>\n",
       "      <th>EWR</th>\n",
       "      <td>17621</td>\n",
       "      <td>0.188846</td>\n",
       "    </tr>\n",
       "  </tbody>\n",
       "</table>\n",
       "</div>"
      ],
      "text/plain": [
       "              counts    percent\n",
       "Airport_Ind                    \n",
       "None         8657048  92.778573\n",
       "LGA           377165   4.042120\n",
       "JFK           279036   2.990461\n",
       "EWR            17621   0.188846"
      ]
     },
     "execution_count": 255,
     "metadata": {},
     "output_type": "execute_result"
    }
   ],
   "source": [
    "# Aiport Indicator - feature created by me\n",
    "df=data_merged.groupby(['Airport_Ind'])['Airport_Ind'].count().sort_values(ascending=False)\n",
    "df=pd.DataFrame(df)\n",
    "df=df.rename(columns={'Airport_Ind':'counts'})\n",
    "df['counts'].astype('int64')\n",
    "df['percent']=(df['counts']/data_merged.shape[0])*100\n",
    "print(\"Trip Counts and Percent of Trips by Airport Classification\")\n",
    "df"
   ]
  },
  {
   "cell_type": "markdown",
   "metadata": {},
   "source": [
    "Observations:\n",
    "   * There are 279,000 trips to and from JFK, but there are only 195,000 trips with the rate code of 2. The rate code must only capture trips to and from JFK from certain locations\n",
    "   * There are 10,000 more trips to and from LGA than JFK. LGA is closer to Manhattan than JFK\n",
    "   * From my previous analysis, I noticed that Newark has a higher trip fare amount and fare rate than the other airports, but the trip volume is significantly less than JFK and LGA\n",
    "   * Airport trips comprise about 7% of all trips\n",
    "   "
   ]
  },
  {
   "cell_type": "code",
   "execution_count": 256,
   "metadata": {},
   "outputs": [
    {
     "data": {
      "text/html": [
       "<div>\n",
       "<style scoped>\n",
       "    .dataframe tbody tr th:only-of-type {\n",
       "        vertical-align: middle;\n",
       "    }\n",
       "\n",
       "    .dataframe tbody tr th {\n",
       "        vertical-align: top;\n",
       "    }\n",
       "\n",
       "    .dataframe thead th {\n",
       "        text-align: right;\n",
       "    }\n",
       "</style>\n",
       "<table border=\"1\" class=\"dataframe\">\n",
       "  <thead>\n",
       "    <tr style=\"text-align: right;\">\n",
       "      <th></th>\n",
       "      <th>counts</th>\n",
       "    </tr>\n",
       "    <tr>\n",
       "      <th>improvement_surcharge</th>\n",
       "      <th></th>\n",
       "    </tr>\n",
       "  </thead>\n",
       "  <tbody>\n",
       "    <tr>\n",
       "      <th>0.3</th>\n",
       "      <td>9329865</td>\n",
       "    </tr>\n",
       "    <tr>\n",
       "      <th>0.0</th>\n",
       "      <td>1005</td>\n",
       "    </tr>\n",
       "  </tbody>\n",
       "</table>\n",
       "</div>"
      ],
      "text/plain": [
       "                        counts\n",
       "improvement_surcharge         \n",
       "0.3                    9329865\n",
       "0.0                       1005"
      ]
     },
     "execution_count": 256,
     "metadata": {},
     "output_type": "execute_result"
    }
   ],
   "source": [
    "#Improvement surcharge\n",
    "df=data_merged.groupby(['improvement_surcharge'])['improvement_surcharge'].count().sort_values(ascending=False)\n",
    "df=pd.DataFrame(df)\n",
    "df=df.rename(columns={'improvement_surcharge':'counts'})\n",
    "df"
   ]
  },
  {
   "cell_type": "markdown",
   "metadata": {},
   "source": [
    "As seen above, there are only a few trips with no improvement surcharge. Since this is a charge that is charged to all trips, the 0 values are erroneous. This attribute has no predictive power due to it being essentially a constant.\n"
   ]
  },
  {
   "cell_type": "code",
   "execution_count": 257,
   "metadata": {},
   "outputs": [
    {
     "name": "stdout",
     "output_type": "stream",
     "text": [
      "Hourly Precipitation (inches)\n"
     ]
    },
    {
     "data": {
      "text/plain": [
       "0.01    0.00\n",
       "0.10    0.00\n",
       "0.25    0.00\n",
       "0.50    0.00\n",
       "0.75    0.00\n",
       "0.90    0.00\n",
       "0.95    0.01\n",
       "0.99    0.52\n",
       "1.00    2.20\n",
       "Name: precip_inch, dtype: float64"
      ]
     },
     "execution_count": 257,
     "metadata": {},
     "output_type": "execute_result"
    }
   ],
   "source": [
    "#Precipitation - an feature engineered by me\n",
    "print(\"Hourly Precipitation (inches)\")\n",
    "data_merged['precip_inch'].quantile([0.01,0.10,0.25,0.50,0.75,0.90,0.95,0.99,1])\n",
    "\n"
   ]
  },
  {
   "cell_type": "code",
   "execution_count": 258,
   "metadata": {},
   "outputs": [
    {
     "name": "stdout",
     "output_type": "stream",
     "text": [
      "Hourly Temperature Farenheit\n"
     ]
    },
    {
     "data": {
      "text/plain": [
       "0.01    53.1\n",
       "0.10    61.0\n",
       "0.25    66.9\n",
       "0.50    73.9\n",
       "0.75    80.1\n",
       "0.90    84.0\n",
       "0.95    88.0\n",
       "0.99    91.9\n",
       "1.00    93.9\n",
       "Name: tmpf, dtype: float64"
      ]
     },
     "execution_count": 258,
     "metadata": {},
     "output_type": "execute_result"
    }
   ],
   "source": [
    "#Hourly Temperature - an feature engineered by me\n",
    "print(\"Hourly Temperature Farenheit\")\n",
    "data_merged['tmpf'].quantile([0.01,0.10,0.25,0.50,0.75,0.90,0.95,0.99,1])\n",
    "\n"
   ]
  },
  {
   "cell_type": "code",
   "execution_count": 259,
   "metadata": {},
   "outputs": [
    {
     "name": "stdout",
     "output_type": "stream",
     "text": [
      "Hourly Relative Humidity\n"
     ]
    },
    {
     "data": {
      "text/plain": [
       "0.01    29.750000\n",
       "0.10    37.290000\n",
       "0.25    42.490000\n",
       "0.50    56.300000\n",
       "0.75    75.750000\n",
       "0.90    90.050000\n",
       "0.95    93.400000\n",
       "0.99    96.646667\n",
       "1.00    97.727500\n",
       "Name: relh, dtype: float64"
      ]
     },
     "execution_count": 259,
     "metadata": {},
     "output_type": "execute_result"
    }
   ],
   "source": [
    "#Relative Humidity - an feature engineered by me\n",
    "print(\"Hourly Relative Humidity\")\n",
    "data_merged['relh'].quantile([0.01,0.10,0.25,0.50,0.75,0.90,0.95,0.99,1])\n",
    "\n"
   ]
  },
  {
   "cell_type": "markdown",
   "metadata": {},
   "source": [
    "Observations:\n",
    "   * There were very few observations with rain\n",
    "   * My theory is that demand may increase when the temperature and humidity are high. That being said, late June is more likely to be hot and humid, which also corresponds to the weekend before the Forth of July holiday. This interaction with the holiday may disguise the impact of weather on demand.\n",
    "\n",
    "    "
   ]
  },
  {
   "cell_type": "code",
   "execution_count": 260,
   "metadata": {},
   "outputs": [
    {
     "data": {
      "image/png": "[encoded data removed]",
      "text/plain": [
       "<Figure size 576x432 with 1 Axes>"
      ]
     },
     "metadata": {
      "needs_background": "light"
     },
     "output_type": "display_data"
    },
    {
     "name": "stdout",
     "output_type": "stream",
     "text": [
      "Trip Counts by Day in June 2017\n"
     ]
    }
   ],
   "source": [
    "plt.figure(figsize = (8,6))\n",
    "sns.countplot(data_merged.day)\n",
    "plt.xlabel(' Day ')\n",
    "plt.ylabel('Pickup counts')\n",
    "plt.ylim(200000,)\n",
    "plt.title(\"Trip Counts by Day in June 2017\")\n",
    "plt.show()"
   ]
  },
  {
   "cell_type": "code",
   "execution_count": 177,
   "metadata": {},
   "outputs": [
    {
     "data": {
      "image/png": "[encoded data removed]",
      "text/plain": [
       "<Figure size 576x432 with 1 Axes>"
      ]
     },
     "metadata": {
      "needs_background": "light"
     },
     "output_type": "display_data"
    }
   ],
   "source": [
    "data=data_merged.query('airport_flag==0')\n",
    "plt.figure(figsize = (8,6))\n",
    "sns.countplot(data.day)\n",
    "plt.xlabel(' Day ')\n",
    "plt.ylabel('Pickup counts')\n",
    "plt.ylim(10000,)\n",
    "plt.title(\"Trip Counts for Airport Trips by Day in June 2017\")\n",
    "plt.show()\n",
    "del data"
   ]
  },
  {
   "cell_type": "markdown",
   "metadata": {},
   "source": [
    "Observations:\n",
    "   * There is a slight decline in trip count as the month of June 2017 progresses. I suspected that this was due to the fact that people were going on vacation for Fourth of July\n",
    "   * Trips to and from the airport have a more stable pattern. I expected an uptick in airport trips towards the end of the month, but there was none. June 5,12,20, and 26 were the highest volume days for airport trips. These dates correspond to Mondays and Tuesdays. "
   ]
  },
  {
   "cell_type": "code",
   "execution_count": 269,
   "metadata": {},
   "outputs": [
    {
     "data": {
      "image/png": "[encoded data removed]",
      "text/plain": [
       "<Figure size 1080x432 with 1 Axes>"
      ]
     },
     "metadata": {
      "needs_background": "light"
     },
     "output_type": "display_data"
    }
   ],
   "source": [
    "plt.figure(figsize = (15,6))\n",
    "sns.countplot(data_merged.minute)\n",
    "plt.xlabel(' Minute ')\n",
    "plt.ylabel('Pickup counts')\n",
    "plt.ylim(150000,160000)\n",
    "plt.title(\"Pickup Count by Minute of the Hour\")\n",
    "plt.show()"
   ]
  },
  {
   "cell_type": "markdown",
   "metadata": {},
   "source": [
    "Observations:\n",
    "   * There is not that much difference in pickup counts across the minutes of the hour, but there is a slight peak in pickup counts around 10 minutes into the hour and 45 minutes into the hour. The beginning of the hour, halfway mark (30 minutes), and end of the hour have the least number of pickups.\n",
    "   * I wonder if this demand has to do with subway schedules or shift work. "
   ]
  },
  {
   "cell_type": "code",
   "execution_count": 261,
   "metadata": {},
   "outputs": [
    {
     "data": {
      "image/png": "[encoded data removed]",
      "text/plain": [
       "<Figure size 576x432 with 1 Axes>"
      ]
     },
     "metadata": {
      "needs_background": "light"
     },
     "output_type": "display_data"
    }
   ],
   "source": [
    "sorter = ['Monday', 'Tuesday', 'Wednesday', 'Thursday', 'Friday', 'Saturday','Sunday']\n",
    "sorterIndex = dict(zip(sorter,range(len(sorter))))\n",
    "sorterIndex\n",
    "\n",
    "df = data_merged.groupby(['week_day'])['week_day'].count()\n",
    "df=pd.DataFrame(df)\n",
    "df['Day_id'] = df.index\n",
    "df['Day_id'] = df['Day_id'].map(sorterIndex)\n",
    "df.sort_values('Day_id', inplace=True)\n",
    "df=df.rename(columns={'week_day':'counts'})\n",
    "df['week_name']=df.index\n",
    "\n",
    "#fig, ax = plt.subplots(figsize=(10,6), facecolor='white')\n",
    "#ax.bar(df.Day_id, df.Sales)\n",
    "#ax.set_xticks([x+0.4 for x in df.Day_id])\n",
    "#ax.set_xticklabels(df.index)\n",
    "#ax.set_axis_bgcolor('white')\n",
    "\n",
    "plt.figure(figsize = (8,6))\n",
    "ax = sns.barplot(x=\"week_name\", y=\"counts\",data=df)\n",
    "#sns.countplot(df.week_day)\n",
    "plt.xlabel(' Day ')\n",
    "plt.ylabel('Pickup counts')\n",
    "plt.title('Trip Counts by Day of Week in June 2017')\n",
    "plt.show()"
   ]
  },
  {
   "cell_type": "code",
   "execution_count": 262,
   "metadata": {},
   "outputs": [
    {
     "data": {
      "image/png": "[encoded data removed]",
      "text/plain": [
       "<Figure size 1512x216 with 7 Axes>"
      ]
     },
     "metadata": {
      "needs_background": "light"
     },
     "output_type": "display_data"
    }
   ],
   "source": [
    "#Trips by hour\n",
    "n = sns.FacetGrid(data_merged, col='week_day')\n",
    "n.map(plt.hist, 'hour')\n",
    "plt.show()\n",
    "\n"
   ]
  },
  {
   "cell_type": "markdown",
   "metadata": {},
   "source": [
    "Observations:\n",
    "   * Trip volume is highest on Thursdays and Fridays. The afternoon and evening traffic is especially heavy.\n",
    "   * Early morning trip volume spikes on Saturday and Sunday, although Thursday and Friday have a significant early volume traffice as well\n",
    "   * 3-5 am is the lowest demand period during the week. 5-6 am is the lowest demand period during the weekend."
   ]
  },
  {
   "cell_type": "code",
   "execution_count": 263,
   "metadata": {},
   "outputs": [
    {
     "data": {
      "image/png": "[encoded data removed]",
      "text/plain": [
       "<Figure size 432x288 with 1 Axes>"
      ]
     },
     "metadata": {
      "needs_background": "light"
     },
     "output_type": "display_data"
    }
   ],
   "source": [
    "df = data_merged.groupby('hour').duration_min.mean()\n",
    "sns.pointplot(df.index, df.values)\n",
    "plt.ylabel('Trip Duration (seconds)')\n",
    "plt.xlabel('Pickup Hour')\n",
    "plt.show()"
   ]
  },
  {
   "cell_type": "markdown",
   "metadata": {},
   "source": [
    "Observations:\n",
    "   * Trip duration steadily increases from 6 am to 5 pm. It rapidly decreases from 5 pm to 10 pm before increasing again. This corresponds with the trip counts. Duration is almost perfectly correlated with demand since demand creates traffic.  "
   ]
  },
  {
   "cell_type": "code",
   "execution_count": 123,
   "metadata": {},
   "outputs": [
    {
     "data": {
      "image/png": "[encoded data removed]",
      "text/plain": [
       "<Figure size 432x288 with 1 Axes>"
      ]
     },
     "metadata": {
      "needs_background": "light"
     },
     "output_type": "display_data"
    }
   ],
   "source": [
    "df = data_merged.groupby('hour').speed_mph.mean()\n",
    "sns.pointplot(df.index, df.values)\n",
    "plt.ylabel('Mean Rate Per Minute')\n",
    "plt.xlabel('Pickup Hour')\n",
    "plt.show()\n"
   ]
  },
  {
   "cell_type": "markdown",
   "metadata": {},
   "source": [
    "Observations:\n",
    "   * The mean rate per minute spikes at 5 am, which is the lowest period of demand.\n",
    "   * The mean rate per minute is negatively coorelated with demand/traffic."
   ]
  },
  {
   "cell_type": "code",
   "execution_count": 128,
   "metadata": {},
   "outputs": [
    {
     "data": {
      "image/png": "[encoded data removed]",
      "text/plain": [
       "<Figure size 576x432 with 1 Axes>"
      ]
     },
     "metadata": {
      "needs_background": "light"
     },
     "output_type": "display_data"
    }
   ],
   "source": [
    "sorter = ['Monday', 'Tuesday', 'Wednesday', 'Thursday', 'Friday', 'Saturday','Sunday']\n",
    "sorterIndex = dict(zip(sorter,range(len(sorter))))\n",
    "sorterIndex\n",
    "\n",
    "df = data_merged.groupby(['week_day'])['dollar_per_min'].mean()\n",
    "df=pd.DataFrame(df)\n",
    "df['Day_id'] = df.index\n",
    "df['Day_id'] = df['Day_id'].map(sorterIndex)\n",
    "df.sort_values('Day_id', inplace=True)\n",
    "df=df.rename(columns={'week_day':'counts'})\n",
    "df['week_name']=df.index\n",
    "\n",
    "plt.figure(figsize = (8,6))\n",
    "ax = sns.barplot(x=\"week_name\", y=\"dollar_per_min\",data=df)\n",
    "#sns.countplot(df.week_day)\n",
    "plt.xlabel(' Day ')\n",
    "plt.ylabel('Dollar Per Min Rate')\n",
    "plt.title('Mean Dollar Per Min Rate by Day of Week in June 2017')\n",
    "plt.ylim(0.90,1.10)\n",
    "plt.show()\n"
   ]
  },
  {
   "cell_type": "markdown",
   "metadata": {},
   "source": [
    "Observations:\n",
    "   * Dollar per minute (rate) is negatively correlated with demand (trip count); the rate is higher for days that have low demand probably due to less traffic\n",
    "    "
   ]
  },
  {
   "cell_type": "code",
   "execution_count": 417,
   "metadata": {},
   "outputs": [
    {
     "data": {
      "image/png": "[encoded data removed]",
      "text/plain": [
       "<Figure size 432x288 with 1 Axes>"
      ]
     },
     "metadata": {
      "needs_background": "light"
     },
     "output_type": "display_data"
    }
   ],
   "source": [
    "df = data_merged.groupby('Borough_PU').total_income.mean()\n",
    "sns.barplot(df.index, df.values)\n",
    "plt.title('Mean Total Income by Pickup Borough')\n",
    "plt.ylabel('Mean Total Income ($)')\n",
    "plt.xlabel('Borough')\n",
    "plt.show()"
   ]
  },
  {
   "cell_type": "code",
   "execution_count": 419,
   "metadata": {},
   "outputs": [
    {
     "data": {
      "image/png": "[encoded data removed]",
      "text/plain": [
       "<Figure size 432x288 with 1 Axes>"
      ]
     },
     "metadata": {
      "needs_background": "light"
     },
     "output_type": "display_data"
    }
   ],
   "source": [
    "df = data_merged.groupby('Borough_DO').total_income.mean()\n",
    "sns.barplot(df.index, df.values)\n",
    "plt.title('Mean Total Income by Drop Off Borough')\n",
    "plt.ylabel('Mean Total Income ($)')\n",
    "plt.xlabel('Borough')\n",
    "plt.show()"
   ]
  },
  {
   "cell_type": "code",
   "execution_count": 421,
   "metadata": {},
   "outputs": [
    {
     "data": {
      "image/png": "[encoded data removed]",
      "text/plain": [
       "<Figure size 432x288 with 1 Axes>"
      ]
     },
     "metadata": {
      "needs_background": "light"
     },
     "output_type": "display_data"
    }
   ],
   "source": [
    "df = data_merged.groupby('Borough_PU').duration_min.mean()\n",
    "sns.barplot(df.index, df.values)\n",
    "plt.title('Mean Duration by Drop Off Borough')\n",
    "plt.ylabel('Mean Trip Duration (minutes)')\n",
    "plt.xlabel('Borough')\n",
    "plt.show()"
   ]
  },
  {
   "cell_type": "code",
   "execution_count": 423,
   "metadata": {},
   "outputs": [
    {
     "data": {
      "image/png": "[encoded data removed]",
      "text/plain": [
       "<Figure size 432x288 with 1 Axes>"
      ]
     },
     "metadata": {
      "needs_background": "light"
     },
     "output_type": "display_data"
    }
   ],
   "source": [
    "df = data_merged.groupby('Borough_DO').duration_min.mean()\n",
    "sns.barplot(df.index, df.values)\n",
    "plt.title('Mean Total Income by Drop Off Borough')\n",
    "plt.ylabel('Trip Duration (minutes)')\n",
    "plt.xlabel('Borough')\n",
    "plt.show()"
   ]
  },
  {
   "cell_type": "markdown",
   "metadata": {},
   "source": [
    "Although the Boroughs are corellated with latitude and longitude information, I will keep these attributes in the model for feature selection."
   ]
  },
  {
   "cell_type": "markdown",
   "metadata": {},
   "source": [
    "## The Models"
   ]
  },
  {
   "cell_type": "markdown",
   "metadata": {},
   "source": [
    "## Feature Selection"
   ]
  },
  {
   "cell_type": "markdown",
   "metadata": {},
   "source": [
    "Due to memory issues and processing time, I conducted my feature selection in a separate notebook. Please refer to the feature selection notebook for my correlation analysis, hyparameter tuning, and feature importance ranking.\n",
    "\n",
    "When selecting features, I use all or most of the following techniques:\n",
    "    * review univariates of features\n",
    "    * calculate the kendalls tau or spearmans rho between features to find highly correlated clusters\n",
    "    * calculate the lift statistics of attributes such as their ks, gini, and mutual information values with respect to the target\n",
    "    * run a lasso regression to get an initial list of features to drop\n",
    "    * run various machine learning techniques for feature importance ranking, such as extratrees, boruta with extratrees base, rfe with extratrees or random forest model, and gbm with shallow trees\n",
    "    * review shapley values (if run time permits)\n",
    "    "
   ]
  },
  {
   "cell_type": "markdown",
   "metadata": {},
   "source": [
    "## Predict Income (Fare + Tip) "
   ]
  },
  {
   "cell_type": "markdown",
   "metadata": {},
   "source": [
    "As stated in my feature selection notebook, I will remove the following attributes:\n",
    "\n",
    "I will drop the PULocationID and DOLocationID in favor of latitude and longitude. The ID values are somewhat haphazardly assigned where as latitude and longitude reflect a geospatial relationship between the various pickup and dropoff points.\n",
    "\n",
    "I will drop the extra amount, mta tax, and improvement surcharge due to lack of unique values and inherient predictive power.\n",
    "\n",
    "The tip amount, imputed tip amount,total amount, and fare amount are already components of the total_income model target.\n",
    "\n",
    "My feature selection algorithm also revealed that month number and borough classifications of pickup and dropoff locations were not important. This is due to the fact that the month number is a constant (only one month of data) and the pickup and dropoff locations are captured in the latitude and longitude values. "
   ]
  },
  {
   "cell_type": "code",
   "execution_count": 105,
   "metadata": {},
   "outputs": [],
   "source": [
    "data_model=data_merged.drop(['PULocationID','DOLocationID','extra','mta_tax','tip_amount',\n",
    "                             'fare_amount','total_amount','improvement_surcharge','tip_impute','dollar_per_min',\n",
    "                            'direct_distance','PU_time','DO_time','speed_mph','Borough_PU',\n",
    "                            'Zone_PU','service_zone_PU','Borough_DO','Zone_DO','service_zone_DO','airport_flag','month'],axis=1)"
   ]
  },
  {
   "cell_type": "code",
   "execution_count": 106,
   "metadata": {},
   "outputs": [],
   "source": [
    "#convert the store and forward Y and N values to an indicator\n",
    "data_model['store_and_fwd_ind']=np.where(data_model['store_and_fwd_flag']==\"Y\",1,0)\n",
    "data_model=data_model.drop(['store_and_fwd_flag'],axis=1)\n",
    "\n",
    "data_model['Airport_Ind']=data_model['Airport_Ind'].astype('category')\n",
    "data_model['week_day']=data_model['week_day'].astype('category')\n"
   ]
  },
  {
   "cell_type": "code",
   "execution_count": 107,
   "metadata": {},
   "outputs": [],
   "source": [
    "#split the data for train and validation of model - 2/3 train and 1/3 validation\n",
    "from sklearn.model_selection import train_test_split\n",
    "train,val = train_test_split(data_model,test_size=0.33,random_state=42)\n"
   ]
  },
  {
   "cell_type": "code",
   "execution_count": 108,
   "metadata": {},
   "outputs": [],
   "source": [
    "#prepare targets\n",
    "X_train=train.drop(['total_income','duration_min'],axis=1)\n",
    "Y_income_train=train['total_income']\n",
    "Y_duration_train=train['duration_min']\n",
    "\n",
    "X_val=val.drop(['total_income','duration_min'],axis=1)\n",
    "Y_income_val=val['total_income'] \n",
    "Y_duration_val=val['duration_min']"
   ]
  },
  {
   "cell_type": "code",
   "execution_count": 111,
   "metadata": {},
   "outputs": [],
   "source": [
    "#create a tunning for feature selection\n",
    "import lightgbm as lgbm\n",
    "eval_set=[(X_val,Y_income_val)]\n",
    "metric=\"rmse\"\n",
    "income_model=lgbm.LGBMRegressor(\n",
    "                         learning_rate=0.1,\n",
    "                         n_estimators=1500,\n",
    "                         max_depth=10,\n",
    "                         bagging_fraction=0.66,\n",
    "                         reg_alpha=10,\n",
    "                         reg_lambda=1,\n",
    "                        )"
   ]
  },
  {
   "cell_type": "code",
   "execution_count": 112,
   "metadata": {},
   "outputs": [],
   "source": [
    "income_results=income_model.fit(X_train,Y_income_train)"
   ]
  },
  {
   "cell_type": "code",
   "execution_count": 114,
   "metadata": {},
   "outputs": [],
   "source": [
    "y_pred_train=income_results.predict(X_train,type=\"response\")\n",
    "y_pred_val = income_results.predict(X_val,type=\"response\")"
   ]
  },
  {
   "cell_type": "code",
   "execution_count": 115,
   "metadata": {},
   "outputs": [
    {
     "name": "stdout",
     "output_type": "stream",
     "text": [
      "0.9755775775602897\n",
      "0.9746423849924648\n",
      "1.2923055264834629\n",
      "1.3016831130040993\n",
      "0.8638805636847566\n",
      "0.8672155372404013\n"
     ]
    }
   ],
   "source": [
    "from sklearn import metrics\n",
    "print(metrics.r2_score(Y_income_train,y_pred_train))\n",
    "print(metrics.r2_score(Y_income_val,y_pred_val))\n",
    "print(metrics.mean_absolute_error(Y_income_train,y_pred_train))\n",
    "print(metrics.mean_absolute_error(Y_income_val,y_pred_val))\n",
    "print(metrics.median_absolute_error(Y_income_train,y_pred_train))\n",
    "print(metrics.median_absolute_error(Y_income_val,y_pred_val))"
   ]
  },
  {
   "cell_type": "code",
   "execution_count": 116,
   "metadata": {},
   "outputs": [
    {
     "data": {
      "text/plain": [
       "['income_prediction_model.joblib']"
      ]
     },
     "execution_count": 116,
     "metadata": {},
     "output_type": "execute_result"
    }
   ],
   "source": [
    "from joblib import dump, load\n",
    "dump(income_results, 'income_prediction_model.joblib') "
   ]
  },
  {
   "cell_type": "code",
   "execution_count": 125,
   "metadata": {},
   "outputs": [],
   "source": [
    "#create a tunning for feature selection\n",
    "import lightgbm as lgbm\n",
    "metric=\"rmse\"\n",
    "duration_model=lgbm.LGBMRegressor(\n",
    "                         learning_rate=0.1,\n",
    "                         n_estimators=1500,\n",
    "                         max_depth=12,\n",
    "                         bagging_fraction=0.66,\n",
    "                         reg_alpha=10,\n",
    "                         reg_lambda=1\n",
    "                        )"
   ]
  },
  {
   "cell_type": "code",
   "execution_count": 126,
   "metadata": {},
   "outputs": [],
   "source": [
    "duration_results=duration_model.fit(X_train,Y_duration_train)"
   ]
  },
  {
   "cell_type": "code",
   "execution_count": 127,
   "metadata": {},
   "outputs": [],
   "source": [
    "y_pred_train=duration_results.predict(X_train,type=\"response\")\n",
    "y_pred_val = duration_results.predict(X_val,type=\"response\")"
   ]
  },
  {
   "cell_type": "code",
   "execution_count": 128,
   "metadata": {},
   "outputs": [
    {
     "name": "stdout",
     "output_type": "stream",
     "text": [
      "0.8240145363351705\n",
      "0.8246095192645903\n",
      "3.013316611531431\n",
      "3.0104591889892536\n",
      "1.8467018817544414\n",
      "1.8466744476028563\n"
     ]
    }
   ],
   "source": [
    "from sklearn import metrics\n",
    "print(metrics.r2_score(Y_income_train,y_pred_train))\n",
    "print(metrics.r2_score(Y_income_val,y_pred_val))\n",
    "print(metrics.mean_absolute_error(Y_income_train,y_pred_train))\n",
    "print(metrics.mean_absolute_error(Y_income_val,y_pred_val))\n",
    "print(metrics.median_absolute_error(Y_income_train,y_pred_train))\n",
    "print(metrics.median_absolute_error(Y_income_val,y_pred_val))"
   ]
  },
  {
   "cell_type": "code",
   "execution_count": 129,
   "metadata": {},
   "outputs": [
    {
     "data": {
      "text/plain": [
       "['duration_prediction_model.joblib']"
      ]
     },
     "execution_count": 129,
     "metadata": {},
     "output_type": "execute_result"
    }
   ],
   "source": [
    "from joblib import dump, load\n",
    "dump(duration_results, 'duration_prediction_model.joblib') "
   ]
  },
  {
   "cell_type": "markdown",
   "metadata": {},
   "source": [
    "Concluding Remarks:\n",
    "    \n",
    "    Both the income and duration models had desirable r squared values and minimum change in error between train and validation. I noticed that the early stopping rounds were not triggered for my current number of trees, 1500, but they were triggered at around iteration 1900. Increasing the number of trees to 2000 would increase the accuracy of the predictions, but it would increase fit time and possibly lead to overfitting.\n",
    "    \n",
    "    I would like to continue my modeling on a full year of data. This would allow me to capture the time series component of the taxi pricing, demand, and duration. I would also like to incorporate the attributes listed below.\n",
    "    \n",
    "    The intention of my models is to predict income and duration for inputs into a MDP model. I wanted to be able to predict future income, duration, and demand instead of using historical data, which is what is normally used in Q-Learning algorithmns.\n",
    "    \n"
   ]
  },
  {
   "cell_type": "markdown",
   "metadata": {},
   "source": [
    "## Additional Data to be Considered in Future Models:\n",
    "\n",
    "### Factors influencing demand:\n",
    "* Location of subway stations and other transit hubs\n",
    "* Uber volume\n",
    "* Citibike usage/locations\n",
    "* Special events in NYC (parades, marathons, festivals, sports events, concerts, etc)\n",
    "* Cash tip amounts\n",
    "* Location of bars, restaurants, points of interest (museums, tourist attractions, etc)\n",
    "* Bank holidays\n",
    "* Parking lot locations (can indicate higher density of car ownership), car ownership density\n",
    "* Population density\n",
    "* Job density\n",
    "* Major storm events\n",
    "* Population demographics for area (job type, age, income) \n",
    "\n",
    "\n",
    "### Factors influencing trip time:\n",
    "* Speed limit on roads\n",
    "* Average observed speed on roads\n",
    "* Type of road/road classification\n",
    "* Pavement quality\n",
    "* Road closures and construction zones\n",
    "* Other construction, such as construction at LGA\n",
    "* Driving visability (foggy conditions, line-of-sight distances)\n",
    "* Driveway desnity\n",
    "* Traffic collisions and other incidents\n",
    "* Traffic volume on roads\n",
    "* Intersection density\n",
    "* Presence of shoulder on road\n",
    "\n",
    "### Factors for better model target:\n",
    "* Cash tip amounts\n",
    "* Taxi id numbers (for tracking trips and wait times)\n",
    "* Parking lot locations (allow taxi to wait for future pickups)\n",
    "* Wait times of taxi, search times of taxi\n",
    "* Fuel prices (impact profitability)\n",
    "\n",
    "\n"
   ]
  },
  {
   "cell_type": "markdown",
   "metadata": {},
   "source": [
    "# THANK YOU VERY MUCH FOR YOUR TIME!"
   ]
  },
  {
   "cell_type": "markdown",
   "metadata": {},
   "source": [
    "For any questions, please contact Laura Evans at lfrisbie3@gmail.com"
   ]
  },
  {
   "cell_type": "code",
   "execution_count": null,
   "metadata": {},
   "outputs": [],
   "source": []
  }
 ],
 "metadata": {
  "kernelspec": {
   "display_name": "Python 3",
   "language": "python",
   "name": "python3"
  },
  "language_info": {
   "codemirror_mode": {
    "name": "ipython",
    "version": 3
   },
   "file_extension": ".py",
   "mimetype": "text/x-python",
   "name": "python",
   "nbconvert_exporter": "python",
   "pygments_lexer": "ipython3",
   "version": "3.6.3"
  }
 },
 "nbformat": 4,
 "nbformat_minor": 2
}
